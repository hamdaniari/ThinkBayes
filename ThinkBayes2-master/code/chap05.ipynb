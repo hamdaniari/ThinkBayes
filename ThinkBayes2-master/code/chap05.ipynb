{
 "cells": [
  {
   "cell_type": "markdown",
   "metadata": {},
   "source": [
    "# Think Bayes\n",
    "\n",
    "Second Edition\n",
    "\n",
    "Copyright 2020 Allen B. Downey\n",
    "\n",
    "License: [Attribution-NonCommercial-ShareAlike 4.0 International (CC BY-NC-SA 4.0)](https://creativecommons.org/licenses/by-nc-sa/4.0/)"
   ]
  },
  {
   "cell_type": "code",
   "execution_count": 1,
   "metadata": {},
   "outputs": [],
   "source": [
    "# If we're running on Colab, install empiricaldist\n",
    "# https://pypi.org/project/empiricaldist/\n",
    "\n",
    "import sys\n",
    "IN_COLAB = 'google.colab' in sys.modules\n",
    "\n",
    "if IN_COLAB:\n",
    "    !pip install empiricaldist"
   ]
  },
  {
   "cell_type": "code",
   "execution_count": 2,
   "metadata": {},
   "outputs": [],
   "source": [
    "# Get utils.py and create directories\n",
    "\n",
    "import os\n",
    "\n",
    "if not os.path.exists('utils.py'):\n",
    "    !wget https://github.com/AllenDowney/ThinkBayes2/raw/master/code/soln/utils.py\n",
    "        \n",
    "if not os.path.exists('figs'):\n",
    "    !mkdir figs\n",
    "        \n",
    "if not os.path.exists('tables'):\n",
    "    !mkdir tables"
   ]
  },
  {
   "cell_type": "code",
   "execution_count": 3,
   "metadata": {},
   "outputs": [],
   "source": [
    "import numpy as np\n",
    "import pandas as pd\n",
    "import matplotlib.pyplot as plt\n",
    "\n",
    "from empiricaldist import Pmf\n",
    "from utils import decorate, savefig"
   ]
  },
  {
   "cell_type": "markdown",
   "metadata": {},
   "source": [
    "## Odds\n",
    "\n",
    "One way to represent a probability is with a number between 0 and 1, but that's not the only way.  \n",
    "If you have ever bet on a football game or a horse race, you have probably encountered another representation of probability, called **odds**.\n",
    "\n",
    "You might have heard expressions like \"the odds are\n",
    "three to one\", but you might not know what that means.  \n",
    "The **odds in favor** of an event are the ratio of the probability\n",
    "it will occur to the probability that it will not.\n",
    "\n",
    "So if I think my team has a 75% chance of winning, I would\n",
    "say that the odds in their favor are three to one, because\n",
    "the chance of winning is three times the chance of losing.\n",
    "\n",
    "You can write odds in decimal form, but it is also common to\n",
    "write them as a ratio of integers.  So \"three to one\" is\n",
    "written $3:1$.\n",
    "\n",
    "When probabilities are low, it is more common to report the\n",
    "**odds against** rather than the odds in favor.  For\n",
    "example, if I think my horse has a 10% chance of winning,\n",
    "I would say that the odds against are $9:1$.\n",
    "\n",
    "Probabilities and odds are different representations of the\n",
    "same information.  Given a probability, you can compute the\n",
    "odds like this:"
   ]
  },
  {
   "cell_type": "code",
   "execution_count": 4,
   "metadata": {},
   "outputs": [],
   "source": [
    "def odds(p):\n",
    "    return p / (1-p)"
   ]
  },
  {
   "cell_type": "markdown",
   "metadata": {},
   "source": [
    "Given the odds in favor, in decimal form, you can convert to probability like this:"
   ]
  },
  {
   "cell_type": "code",
   "execution_count": 5,
   "metadata": {},
   "outputs": [],
   "source": [
    "def prob(o):\n",
    "    return o / (o+1)"
   ]
  },
  {
   "cell_type": "markdown",
   "metadata": {},
   "source": [
    "If you represent odds with a numerator and denominator, you can convert to probability like this:"
   ]
  },
  {
   "cell_type": "code",
   "execution_count": 6,
   "metadata": {},
   "outputs": [],
   "source": [
    "def prob2(yes, no):\n",
    "    return yes / (yes + no)"
   ]
  },
  {
   "cell_type": "markdown",
   "metadata": {},
   "source": [
    "If 20% of bettors think my horse will win, that corresponds to odds of 1:4, or 0.25."
   ]
  },
  {
   "cell_type": "code",
   "execution_count": 7,
   "metadata": {},
   "outputs": [],
   "source": [
    "p = 0.2\n",
    "odds(p)"
   ]
  },
  {
   "cell_type": "markdown",
   "metadata": {},
   "source": [
    "If the odds against my horse are 1:5, that corresponds to a probability of 1/6."
   ]
  },
  {
   "cell_type": "code",
   "execution_count": 8,
   "metadata": {},
   "outputs": [],
   "source": [
    "o = 1/5\n",
    "prob(o)"
   ]
  },
  {
   "cell_type": "markdown",
   "metadata": {},
   "source": [
    "## Bayes's Rule\n",
    "\n",
    "In Chapter 1 I wrote Bayes’s theorem in the \"probability form\": \n",
    "\n",
    "$P(H|D) = \\frac{P(H)~P(D|H)}{P(D)}$\n",
    "\n",
    "Writing $\\mathrm{odds}(A)$ for odds in favor of $A$, we can express Bayes's Theorem in \"odds form\":\n",
    "\n",
    "$\\mathrm{odds}(A|D) = \\mathrm{odds}(A)~\\frac{P(D|A)}{P(D|B)}$\n",
    "\n",
    "This is Bayes’s Rule, which says that the posterior odds are the prior odds times the\n",
    "likelihood ratio.\n",
    "\n",
    "Bayes’s Rule is convenient for computing a Bayesian update on paper or in your head. For example, let’s go back to the cookie problem:\n",
    "\n",
    "> Suppose there are two bowls of cookies. Bowl 1 contains 30 vanilla\n",
    "> cookies and 10 chocolate cookies. Bowl 2 contains 20 of each.\n",
    ">\n",
    "> Now suppose you choose one of the bowls at random and, without\n",
    "> looking, select a cookie at random. The cookie is vanilla. What is the\n",
    "> probability that it came from Bowl 1?\n",
    "\n",
    "The prior probability is 50%, so the prior odds are $1$. The likelihood\n",
    "ratio is $\\frac{3}{4} / \\frac{1}{2}$, or $3/2$. So the posterior odds\n",
    "are $3/2$, which corresponds to probability $3/5$."
   ]
  },
  {
   "cell_type": "code",
   "execution_count": 9,
   "metadata": {},
   "outputs": [],
   "source": [
    "prior_odds = 1\n",
    "likelihood_ratio = 0.75 / 0.5\n",
    "post_odds = prior_odds * likelihood_ratio\n",
    "post_odds"
   ]
  },
  {
   "cell_type": "code",
   "execution_count": 10,
   "metadata": {},
   "outputs": [],
   "source": [
    "post_prob = prob(post_odds)\n",
    "post_prob"
   ]
  },
  {
   "cell_type": "markdown",
   "metadata": {},
   "source": [
    "If we draw another cookie and it's chocolate, we can do another update:"
   ]
  },
  {
   "cell_type": "code",
   "execution_count": 11,
   "metadata": {},
   "outputs": [],
   "source": [
    "likelihood_ratio = 0.25 / 0.5\n",
    "post_odds *= likelihood_ratio\n",
    "post_odds"
   ]
  },
  {
   "cell_type": "markdown",
   "metadata": {},
   "source": [
    "And convert back to probability."
   ]
  },
  {
   "cell_type": "code",
   "execution_count": 12,
   "metadata": {},
   "outputs": [],
   "source": [
    "post_prob = prob(post_odds)\n",
    "post_prob"
   ]
  },
  {
   "cell_type": "markdown",
   "metadata": {},
   "source": [
    "## Oliver's blood\n",
    "\n",
    "I’ll use Bayes’s Rule to solve another problem from MacKay’s\n",
    "[*Information Theory, Inference, and Learning Algorithms*](https://www.inference.org.uk/mackay/itila/):\n",
    "\n",
    "> Two people have left traces of their own blood at the scene of a\n",
    "> crime. A suspect, Oliver, is tested and found to have type ‘O’ blood.\n",
    "> The blood groups of the two traces are found to be of type ‘O’ (a\n",
    "> common type in the local population, having frequency 60%) and of type\n",
    "> ‘AB’ (a rare type, with frequency 1%). Do these data \\[the traces\n",
    "> found at the scene\\] give evidence in favor of the proposition that\n",
    "> Oliver was one of the people \\[who left blood at the scene\\]?\n",
    "\n",
    "To answer this question, we need to think about what it means for data\n",
    "to give evidence in favor of (or against) a hypothesis. Intuitively, we\n",
    "might say that data favor a hypothesis if the hypothesis is more likely\n",
    "in light of the data than it was before.\n",
    "\n",
    "In the cookie problem, the prior odds are $1$, or probability 50%. The\n",
    "posterior odds are $3/2$, or probability 60%. So the vanilla cookie is\n",
    "evidence in favor of Bowl 1."
   ]
  },
  {
   "cell_type": "markdown",
   "metadata": {},
   "source": [
    "Bayes’s Rule provides a way to make this intuition more precise. Again\n",
    "\n",
    "$\\mathrm{odds}(A|D) = \\mathrm{odds}(A)~\\frac{P(D|A)}{P(D|B)}$\n",
    "\n",
    "Dividing through by $\\mathrm{odds}(A)$, we get: \n",
    "\n",
    "$\\frac{\\mathrm{odds}(A|D)}{\\mathrm{odds}(A)} = \\frac{P(D|A)}{P(D|B)}$\n",
    "\n",
    "The term on the left is the ratio of the posterior and prior odds. The term\n",
    "on the right is the likelihood ratio, also called the **Bayes\n",
    "factor**.\n",
    "\n",
    "If the Bayes factor is greater than 1, that means that the data were\n",
    "more likely under $A$ than under $B$. And that means that the odds are\n",
    "greater, in light of the data, than they were before.\n",
    "\n",
    "If the Bayes factor is less than 1, that means the data were less likely\n",
    "under $A$ than under $B$, so the odds in favor of $A$ go down.\n",
    "\n",
    "Finally, if the Bayes factor is exactly 1, the data are equally likely\n",
    "under either hypothesis, so the odds do not change."
   ]
  },
  {
   "cell_type": "markdown",
   "metadata": {},
   "source": [
    "Let’s apply that to the problem at hand. If Oliver is one of the people\n",
    "who left blood at the crime scene, he accounts for the ‘O’ sample; in\n",
    "that case, the probability of the data is the probability that a random\n",
    "member of the population has type ‘AB’ blood, which is 1%.\n",
    "\n",
    "If Oliver did not leave blood at the scene, we have two samples to\n",
    "account for. If we choose two random people from the population, what is\n",
    "the chance of finding one with type ‘O’ and one with type ‘AB’? Well,\n",
    "there are two ways it might happen: the first person might have type ‘O’\n",
    "and the second ‘AB’, or the other way around. So the total probability\n",
    "is $2 (0.6) (0.01) = 1.2%$.\n",
    "\n",
    "Now we can compute the likelihood ratio:"
   ]
  },
  {
   "cell_type": "code",
   "execution_count": 13,
   "metadata": {},
   "outputs": [],
   "source": [
    "like1 = 0.01\n",
    "like2 = 2 * 0.6 * 0.01\n",
    "\n",
    "likelihood_ratio = like1 / like2\n",
    "likelihood_ratio"
   ]
  },
  {
   "cell_type": "markdown",
   "metadata": {},
   "source": [
    "Since the likelihood ratio is less than 1, the blood tests are evidence *against* the hypothesis that Oliver left blood at the scence.\n",
    "\n",
    "But it is weak evidence.  For example, if the prior odds were 1 (that is, 50% probability), the posterior odds would be 0.83, which corresponds to a probability of 45%:"
   ]
  },
  {
   "cell_type": "code",
   "execution_count": 14,
   "metadata": {},
   "outputs": [],
   "source": [
    "post_odds = 1 * like1 / like2\n",
    "prob(post_odds)"
   ]
  },
  {
   "cell_type": "markdown",
   "metadata": {},
   "source": [
    "So this evidence doesn't \"move the needle\" very much.\n",
    "\n",
    "This example is a little contrived, but it is demonstrates the\n",
    "counterintuitive result that data *consistent* with a hypothesis are\n",
    "not necessarily *in favor of* the hypothesis.\n",
    "\n",
    "If this result still bothers you, this way of thinking might help: the\n",
    "data consist of a common event, type ‘O’ blood, and a rare event, type\n",
    "‘AB’ blood. If Oliver accounts for the common event, that leaves the\n",
    "rare event unexplained. If Oliver doesn’t account for the ‘O’ blood, we\n",
    "have two chances to find someone in the population with ‘AB’ blood. And\n",
    "that factor of two makes the difference."
   ]
  },
  {
   "cell_type": "markdown",
   "metadata": {},
   "source": [
    "**Exercise:** Suppose other evidence made you 90% confident of Oliver's guilt.  How much would this exculpatory evidence change your beliefs?  What if you initially thought there was only a 10% chance of his guilt?"
   ]
  },
  {
   "cell_type": "code",
   "execution_count": 15,
   "metadata": {},
   "outputs": [],
   "source": [
    "# Solution goes here"
   ]
  },
  {
   "cell_type": "code",
   "execution_count": 16,
   "metadata": {},
   "outputs": [],
   "source": [
    "# Solution goes here"
   ]
  },
  {
   "cell_type": "markdown",
   "metadata": {},
   "source": [
    "## Addends\n",
    "\n",
    "Suppose you roll two dice and add them up. What is the distribution of\n",
    "the sum? I’ll use the following function to create a `Pmf` that represents the\n",
    "possible outcomes of a die:"
   ]
  },
  {
   "cell_type": "code",
   "execution_count": 17,
   "metadata": {},
   "outputs": [],
   "source": [
    "def make_die(sides):\n",
    "    \"\"\"Pmf that represents a die with the given number of sides.\n",
    "    \n",
    "    sides: int\n",
    "    \n",
    "    returns: Pmf\n",
    "    \"\"\"\n",
    "    outcomes = np.arange(1, sides+1)\n",
    "    die = Pmf(1/sides, outcomes)\n",
    "    return die"
   ]
  },
  {
   "cell_type": "markdown",
   "metadata": {},
   "source": [
    "On a six-sided die, the outcomes are 1 through 6, all\n",
    "equally likely."
   ]
  },
  {
   "cell_type": "code",
   "execution_count": 18,
   "metadata": {},
   "outputs": [],
   "source": [
    "die = make_die(6)\n",
    "die"
   ]
  },
  {
   "cell_type": "code",
   "execution_count": 19,
   "metadata": {},
   "outputs": [],
   "source": [
    "die.bar(alpha=0.6)\n",
    "decorate(xlabel='Outcome',\n",
    "         ylabel='PMF')"
   ]
  },
  {
   "cell_type": "markdown",
   "metadata": {},
   "source": [
    "If we roll two dice and add them up, there are 11 possible outcomes, 2\n",
    "through 12, but they are not equally likely. To compute the distribution\n",
    "of the sum, we have to enumerate the possible outcomes. \n",
    "\n",
    "And that's how this function works:"
   ]
  },
  {
   "cell_type": "code",
   "execution_count": 20,
   "metadata": {},
   "outputs": [],
   "source": [
    "def add_dist(pmf1, pmf2):\n",
    "    \"\"\"Compute the distribution of a sum.\n",
    "    \n",
    "    pmf1: Pmf\n",
    "    pmf2: Pmf\n",
    "    \n",
    "    returns: Pmf of sums from pmf1 and pmf2\n",
    "    \"\"\"\n",
    "    res = Pmf()\n",
    "    for q1, p1 in pmf1.items():\n",
    "        for q2, p2 in pmf2.items():\n",
    "            q = q1 + q2\n",
    "            p = p1 * p2\n",
    "            res[q] = res(q) + p\n",
    "    return res"
   ]
  },
  {
   "cell_type": "markdown",
   "metadata": {},
   "source": [
    "The parameters are `Pmf` objects representing distributions.\n",
    "The first line creates an empty `Pmf`.\n",
    "\n",
    "The loops use `items` to iterate though the quantities and probabilities in the `Pmf` objects.\n",
    "Each time through the loop `q` gets the sum of a pair of quantities, and `p` gets the probability of the pair.\n",
    "Because the same sum might appear more than once, we have to add up the total probability for each sum."
   ]
  },
  {
   "cell_type": "markdown",
   "metadata": {},
   "source": [
    "Notice a subtle element of this line:\n",
    "\n",
    "```\n",
    "            res[q] = res(q) + p\n",
    "```\n",
    "\n",
    "I use parentheses on the right side of the assignment, which returns 0 if `q` does not appear yet in `res`.\n",
    "I use brackets on the left side of the assignment to create or update an element in `res`; using parentheses on the left side would not work.\n",
    "\n",
    "`Pmf` provides `add_dist`, which does the same thing.\n",
    "You can call it as a method, like this:"
   ]
  },
  {
   "cell_type": "code",
   "execution_count": 21,
   "metadata": {},
   "outputs": [],
   "source": [
    "twice = die.add_dist(die)"
   ]
  },
  {
   "cell_type": "markdown",
   "metadata": {},
   "source": [
    "Or as a function, like this:"
   ]
  },
  {
   "cell_type": "code",
   "execution_count": 22,
   "metadata": {},
   "outputs": [],
   "source": [
    "twice = Pmf.add_dist(die, die)"
   ]
  },
  {
   "cell_type": "markdown",
   "metadata": {},
   "source": [
    "And here's what the result looks like:"
   ]
  },
  {
   "cell_type": "code",
   "execution_count": 23,
   "metadata": {},
   "outputs": [],
   "source": [
    "def decorate_dice(title=''):\n",
    "    decorate(xlabel='Outcome',\n",
    "             ylabel='PMF',\n",
    "             title=title)"
   ]
  },
  {
   "cell_type": "code",
   "execution_count": 24,
   "metadata": {},
   "outputs": [],
   "source": [
    "twice = add_dist(die, die)\n",
    "twice.bar(color='C1', alpha=0.6)\n",
    "decorate_dice()"
   ]
  },
  {
   "cell_type": "markdown",
   "metadata": {},
   "source": [
    "If we have a sequence of `Pmf` objects that represent dice, we can compute the distribution of the sum like this:\n"
   ]
  },
  {
   "cell_type": "code",
   "execution_count": 25,
   "metadata": {},
   "outputs": [],
   "source": [
    "def add_dist_seq(seq):\n",
    "    \"\"\"Distribution of sum of values from PMFs.\n",
    "    \n",
    "    seq: sequence of Pmf objects\n",
    "    \n",
    "    returns: Pmf\n",
    "    \"\"\"\n",
    "    total = seq[0]\n",
    "    for other in seq[1:]:\n",
    "        total = total.add_dist(other)\n",
    "    return total"
   ]
  },
  {
   "cell_type": "markdown",
   "metadata": {},
   "source": [
    "So we can compute the sum of three dice like this:"
   ]
  },
  {
   "cell_type": "code",
   "execution_count": 26,
   "metadata": {},
   "outputs": [],
   "source": [
    "dice = [die] * 3\n",
    "thrice = add_dist_seq(dice)"
   ]
  },
  {
   "cell_type": "markdown",
   "metadata": {},
   "source": [
    "The following figure shows what these three distributions look like:\n",
    "\n",
    "-   The distribution of a single die is uniform from 1 to 6.\n",
    "\n",
    "-   The sum of two dice has a triangle distribution between 2 and 12.\n",
    "\n",
    "-   The sum of three dice has a bell-shaped distribution between 3\n",
    "    and 18."
   ]
  },
  {
   "cell_type": "code",
   "execution_count": 27,
   "metadata": {},
   "outputs": [],
   "source": [
    "die.plot(label='once')\n",
    "twice.plot(label='twice')\n",
    "thrice.plot(label='thrice')\n",
    "\n",
    "decorate_dice(title='Distributions of sums')\n",
    "plt.xticks([0,3,6,9,12,15,18])\n",
    "savefig('fig05-01')"
   ]
  },
  {
   "cell_type": "markdown",
   "metadata": {},
   "source": [
    "As an aside, this example demonstrates the Central Limit Theorem, which\n",
    "says that the distribution of a sum converges on a bell-shaped normal\n",
    "distribution, at least under some conditions."
   ]
  },
  {
   "cell_type": "markdown",
   "metadata": {},
   "source": [
    "## Gluten sensitivity\n",
    "\n",
    "In 2015 I read a paper that tested whether people diagnosed with gluten\n",
    "sensitivity (but not celiac disease) were not able to distinguish gluten\n",
    "flour from non-gluten flour in a blind challenge\n",
    "([you can read the paper here](https://onlinelibrary.wiley.com/doi/full/10.1111/apt.13372)).\n",
    "\n",
    "Out of 35 subjects, 12 correctly identified the gluten flour based on\n",
    "resumption of symptoms while they were eating it. Another 17 wrongly\n",
    "identified the gluten-free flour based on their symptoms, and 6 were\n",
    "unable to distinguish.\n",
    "\n",
    "The authors conclude, “Double-blind gluten challenge induces symptom\n",
    "recurrence in just one-third of patients.”\n",
    "\n",
    "This conclusion seems odd to me, because if none of the patients were\n",
    "sensitive to gluten, we would expect some of them to identify the gluten\n",
    "flour by chance. So here’s the question: based on this data, how many of\n",
    "the subjects are sensitive to gluten?\n",
    "\n",
    "We can use Bayes’s Theorem to answer this question, but first we have to\n",
    "make some modeling decisions. I’ll assume:\n",
    "\n",
    "-   People who are sensitive to gluten have a 95% chance of correctly\n",
    "    identifying gluten flour under the challenge conditions, and\n",
    "\n",
    "-   People who are not sensitive have a 40% chance of identifying the\n",
    "    gluten flour by chance (and a 60% chance of either choosing the\n",
    "    other flour or failing to distinguish).\n",
    "\n",
    "These particular values are arbitrary, but the results are not sensitive\n",
    "to these choices.\n",
    "\n",
    "I will solve this problem in two steps. First, assuming that we know how\n",
    "many subjects are sensitive, I will compute the distribution of the\n",
    "data. Then, using the likelihood of the data, I will compute the\n",
    "posterior distribution of the number of sensitive patients.\n",
    "\n",
    "The first is the **forward problem**; the second is the **inverse\n",
    "problem**."
   ]
  },
  {
   "cell_type": "markdown",
   "metadata": {},
   "source": [
    "## The forward problem\n",
    "\n",
    "Suppose we know that 10 of the 35 subjects are sensitive to gluten. That\n",
    "means that 25 are not:"
   ]
  },
  {
   "cell_type": "code",
   "execution_count": 28,
   "metadata": {},
   "outputs": [],
   "source": [
    "n = 35\n",
    "n_sensitive = 10\n",
    "n_insensitive = n - n_sensitive"
   ]
  },
  {
   "cell_type": "markdown",
   "metadata": {},
   "source": [
    "Each sensitive subject has a 95% chance of identifying the gluten flour,\n",
    "so the number of correct identifications follows a binomial distribution.\n",
    "\n",
    "I'll use the following function to make a `Pmf` that represents the binomial distribution."
   ]
  },
  {
   "cell_type": "code",
   "execution_count": 29,
   "metadata": {},
   "outputs": [],
   "source": [
    "from scipy.stats import binom\n",
    "\n",
    "def make_binomial(n, p):\n",
    "    \"\"\"Make a binomial distribution.\n",
    "    \n",
    "    n: number of trials\n",
    "    p: probability of success\n",
    "    \n",
    "    returns: Pmf representing the distribution of k\n",
    "    \"\"\"\n",
    "    ks = np.arange(n+1)\n",
    "    ps = binom.pmf(ks, n, p)\n",
    "    return Pmf(ps, ks)"
   ]
  },
  {
   "cell_type": "markdown",
   "metadata": {},
   "source": [
    "Now we can compute distributions for the number of correct identifications in each group."
   ]
  },
  {
   "cell_type": "code",
   "execution_count": 30,
   "metadata": {},
   "outputs": [],
   "source": [
    "dist_sensitive = make_binomial(n_sensitive, 0.95)\n",
    "dist_insensitive = make_binomial(n_insensitive, 0.4)"
   ]
  },
  {
   "cell_type": "markdown",
   "metadata": {},
   "source": [
    "We can use `add_dist` to compute the total number of correct identifications in both groups:"
   ]
  },
  {
   "cell_type": "code",
   "execution_count": 31,
   "metadata": {},
   "outputs": [],
   "source": [
    "dist_total = Pmf.add_dist(dist_sensitive, dist_insensitive)"
   ]
  },
  {
   "cell_type": "markdown",
   "metadata": {},
   "source": [
    "Here are the results:"
   ]
  },
  {
   "cell_type": "code",
   "execution_count": 32,
   "metadata": {},
   "outputs": [],
   "source": [
    "dist_sensitive.plot(label='sensitive')\n",
    "dist_insensitive.plot(label='insensitive')\n",
    "dist_total.plot(label='total')\n",
    "\n",
    "decorate(xlabel='Number of correct identifications',\n",
    "         ylabel='PMF',\n",
    "         title='Gluten sensitivity')\n",
    "\n",
    "savefig('fig05-02')"
   ]
  },
  {
   "cell_type": "markdown",
   "metadata": {},
   "source": [
    "We expect most of the sensitive subjects to identify the gluten flour correctly.\n",
    "Of the 25 insensitive subjects, we expect about 10 to identify the gluten flour by chance.\n",
    "So we expect about 20 correct identifications in total.\n",
    "\n",
    "This is the answer to the forward problem: given the number of sensitive subjects, we can compute the distribution of the data."
   ]
  },
  {
   "cell_type": "markdown",
   "metadata": {},
   "source": [
    "## The inverse problem\n",
    "\n",
    "Now let's solve the inverse problem: given the data, we'll compute the posterior distribution of the number of sensitive subjects.\n",
    "\n",
    "Here's how.  I'll loop through the possible values of `n_sensitive` and compute the distribution of the data for each:"
   ]
  },
  {
   "cell_type": "code",
   "execution_count": 33,
   "metadata": {},
   "outputs": [],
   "source": [
    "table = pd.DataFrame()\n",
    "table[0] = make_binomial(n, 0.4)\n",
    "\n",
    "for n_sensitive in range(1, n):\n",
    "    n_insensitive = n - n_sensitive\n",
    "\n",
    "    dist_sensitive = make_binomial(n_sensitive, 0.95)\n",
    "    dist_insensitive = make_binomial(n_insensitive, 0.4)\n",
    "    dist_total = Pmf.add_dist(dist_sensitive, dist_insensitive)    \n",
    "    table[n_sensitive] = dist_total\n",
    "    \n",
    "table[n] = make_binomial(n, 0.95)"
   ]
  },
  {
   "cell_type": "markdown",
   "metadata": {},
   "source": [
    "When `n_sensitive` is 0 or `n`, the distribution of the data is a simple binomial, not the sum of two binomials.\n",
    "\n",
    "The result is a Pandas `DataFrame`:"
   ]
  },
  {
   "cell_type": "code",
   "execution_count": 34,
   "metadata": {},
   "outputs": [],
   "source": [
    "table.head()"
   ]
  },
  {
   "cell_type": "code",
   "execution_count": 35,
   "metadata": {},
   "outputs": [],
   "source": [
    "table.tail()"
   ]
  },
  {
   "cell_type": "markdown",
   "metadata": {},
   "source": [
    "The following figure shows several columns from this table, corresponding to several hypothetical values of `n_sensitive`:"
   ]
  },
  {
   "cell_type": "code",
   "execution_count": 36,
   "metadata": {},
   "outputs": [],
   "source": [
    "for n_sensitive in [0, 10, 20, 30]:\n",
    "    table[n_sensitive].plot(label=f'n_sensitive = {n_sensitive}')\n",
    "    \n",
    "decorate(xlabel='Number of correct identifications',\n",
    "         ylabel='PMF',\n",
    "         title='Gluten sensitivity')\n",
    "\n",
    "savefig('fig05-03')"
   ]
  },
  {
   "cell_type": "markdown",
   "metadata": {},
   "source": [
    "Now we can use this table to compute the likelihood of the data:"
   ]
  },
  {
   "cell_type": "code",
   "execution_count": 37,
   "metadata": {},
   "outputs": [],
   "source": [
    "likelihood1 = table.loc[12]"
   ]
  },
  {
   "cell_type": "markdown",
   "metadata": {},
   "source": [
    "`loc` selects a row from the table.\n",
    "The row with index 12 contains the probability of 12 correct identifications for each hypothetical value of `n_sensitive`.\n",
    "And that's exactly the likelihood we need to do a Bayesian update.\n",
    "\n",
    "I'll use a uniform prior, which implies that I would be equally surprised by any value of `n_sensitive`:"
   ]
  },
  {
   "cell_type": "code",
   "execution_count": 38,
   "metadata": {},
   "outputs": [],
   "source": [
    "hypos = np.arange(n+1)\n",
    "prior = Pmf(1, hypos)"
   ]
  },
  {
   "cell_type": "markdown",
   "metadata": {},
   "source": [
    "And here's the update:\n"
   ]
  },
  {
   "cell_type": "code",
   "execution_count": 39,
   "metadata": {},
   "outputs": [],
   "source": [
    "posterior1 = prior * likelihood1\n",
    "posterior1.normalize()"
   ]
  },
  {
   "cell_type": "markdown",
   "metadata": {},
   "source": [
    "For comparison, I also compute the posterior for another hypothetical outcome, 20 correct identifications."
   ]
  },
  {
   "cell_type": "code",
   "execution_count": 40,
   "metadata": {},
   "outputs": [],
   "source": [
    "likelihood2 = table.loc[20]\n",
    "posterior2 = prior * likelihood2\n",
    "posterior2.normalize()"
   ]
  },
  {
   "cell_type": "markdown",
   "metadata": {},
   "source": [
    "The following figure shows posterior distributions of `n_sensitive` based on the actual data, 12 correct identifications, and another hypothetical outcome, 20 correct identifications."
   ]
  },
  {
   "cell_type": "code",
   "execution_count": 41,
   "metadata": {},
   "outputs": [],
   "source": [
    "posterior1.plot(label='posterior with 12 correct')\n",
    "posterior2.plot(label='posterior with 20 correct')\n",
    "\n",
    "decorate(xlabel='Number of sensitive subjects',\n",
    "         ylabel='PMF',\n",
    "         title='Posterior distributions')\n",
    "\n",
    "savefig('fig05-04')"
   ]
  },
  {
   "cell_type": "markdown",
   "metadata": {},
   "source": [
    "With 12 correct identifications, the most likely conclusion is that none of the subjects are sensitive to gluten.\n",
    "If there had been 20 correct identifications, the most likely conclusion would be that 11-12 of the subjects were sensitive."
   ]
  },
  {
   "cell_type": "code",
   "execution_count": 42,
   "metadata": {},
   "outputs": [],
   "source": [
    "posterior1.max_prob()"
   ]
  },
  {
   "cell_type": "code",
   "execution_count": 43,
   "metadata": {},
   "outputs": [],
   "source": [
    "posterior2.max_prob()"
   ]
  },
  {
   "cell_type": "markdown",
   "metadata": {},
   "source": [
    "## Exercises"
   ]
  },
  {
   "cell_type": "markdown",
   "metadata": {},
   "source": [
    "**Exercise:** Let's use Bayes's Rule to solve the Elvis problem from Chapter 2:\n",
    "\n",
    "> Elvis Presley had a twin brother who died at birth. What is the probability that Elvis was an identical twin?\n",
    "\n",
    "In 1935, about 2/3 of twins were fraternal and 1/3 were identical.\n",
    "\n",
    "The question contains two pieces of information we can use to update this prior.\n",
    "\n",
    "* First, Elvis's twin was also male, which is more likely if they were identical twins, with a likelihood ratio of 2.\n",
    "\n",
    "* Also, Elvis's twin died at birth, which is more likely if they were identical twins, with a likelihood ratio of 1.25.\n",
    "\n",
    "If you are curious about where those number come from, I wrote [a blog post about it](https://www.allendowney.com/blog/2020/01/28/the-elvis-problem-revisited)."
   ]
  },
  {
   "cell_type": "code",
   "execution_count": 44,
   "metadata": {},
   "outputs": [],
   "source": [
    "# Solution goes here"
   ]
  },
  {
   "cell_type": "code",
   "execution_count": 45,
   "metadata": {},
   "outputs": [],
   "source": [
    "# Solution goes here"
   ]
  },
  {
   "cell_type": "code",
   "execution_count": 46,
   "metadata": {},
   "outputs": [],
   "source": [
    "# Solution goes here"
   ]
  },
  {
   "cell_type": "markdown",
   "metadata": {},
   "source": [
    "**Exercise:** The following is an [interview question that appeared on glassdoor.com](https://www.glassdoor.com/Interview/You-re-about-to-get-on-a-plane-to-Seattle-You-want-to-know-if-you-should-bring-an-umbrella-You-call-3-random-friends-of-y-QTN_519262.htm), attributed to Facebook:\n",
    "\n",
    "> You're about to get on a plane to Seattle. You want to know if you should bring an umbrella. You call 3 random friends of yours who live there and ask each independently if it's raining. Each of your friends has a 2/3 chance of telling you the truth and a 1/3 chance of messing with you by lying. All 3 friends tell you that \"Yes\" it is raining. What is the probability that it's actually raining in Seattle?\n",
    "\n",
    "Use Bayes's Rule to solve this problem.  As a prior you can assume that it rains in Seattle about 10% of the time.\n",
    "\n",
    "This question causes some confusion about the differences between Bayesian and frequentist interpretations of probability; if you are curious about this point, [I wrote a blog article about it](http://allendowney.blogspot.com/2016/09/bayess-theorem-is-not-optional.html)."
   ]
  },
  {
   "cell_type": "code",
   "execution_count": 47,
   "metadata": {},
   "outputs": [],
   "source": [
    "# Solution goes here"
   ]
  },
  {
   "cell_type": "code",
   "execution_count": 48,
   "metadata": {},
   "outputs": [],
   "source": [
    "# Solution goes here"
   ]
  },
  {
   "cell_type": "code",
   "execution_count": 49,
   "metadata": {},
   "outputs": [],
   "source": [
    "# Solution goes here"
   ]
  },
  {
   "cell_type": "markdown",
   "metadata": {},
   "source": [
    "**Exercise:** [According to the CDC](https://www.cdc.gov/tobacco/data_statistics/fact_sheets/health_effects/effects_cig_smoking), people who smoke are about 25 times more likely to develop lung cancer than nonsmokers.\n",
    "\n",
    "[Also according to the CDC](https://www.cdc.gov/tobacco/data_statistics/fact_sheets/adult_data/cig_smoking/index.htm), about 14\\% of adults in the U.S. are smokers. \n",
    "\n",
    "If you learn that someone has lung cancer, what is the probability they are a smoker?"
   ]
  },
  {
   "cell_type": "code",
   "execution_count": 50,
   "metadata": {},
   "outputs": [],
   "source": [
    "# Solution goes here"
   ]
  },
  {
   "cell_type": "code",
   "execution_count": 51,
   "metadata": {},
   "outputs": [],
   "source": [
    "# Solution goes here"
   ]
  },
  {
   "cell_type": "code",
   "execution_count": 52,
   "metadata": {},
   "outputs": [],
   "source": [
    "# Solution goes here"
   ]
  },
  {
   "cell_type": "markdown",
   "metadata": {},
   "source": [
    "**Exercise:** In *Dungeons & Dragons*, the amount of damage a goblin can withstand is the sum of two six-sided dice. The amount of damage you inflict with a short sword is determined by rolling one six-sided die.\n",
    "A goblin is defeated if the total damage you inflict is greater than or equal to the amount it can withstand.\n",
    "\n",
    "Suppose you are fighting a goblin and you have already inflicted 3 points of damage. What is your probability of defeating the goblin with your next successful attack?\n",
    "\n",
    "Hint: You can use `Pmf.add_dist` to add a constant amount, like 3, to a `Pmf` and `Pmf.sub_dist` to compute the distribution of remaining points."
   ]
  },
  {
   "cell_type": "code",
   "execution_count": 53,
   "metadata": {},
   "outputs": [],
   "source": [
    "# Solution goes here"
   ]
  },
  {
   "cell_type": "code",
   "execution_count": 54,
   "metadata": {},
   "outputs": [],
   "source": [
    "# Solution goes here"
   ]
  },
  {
   "cell_type": "code",
   "execution_count": 55,
   "metadata": {},
   "outputs": [],
   "source": [
    "# Solution goes here"
   ]
  },
  {
   "cell_type": "code",
   "execution_count": 56,
   "metadata": {},
   "outputs": [],
   "source": [
    "# Solution goes here"
   ]
  },
  {
   "cell_type": "code",
   "execution_count": 57,
   "metadata": {},
   "outputs": [],
   "source": [
    "# Solution goes here"
   ]
  },
  {
   "cell_type": "code",
   "execution_count": 58,
   "metadata": {},
   "outputs": [],
   "source": [
    "# Solution goes here"
   ]
  },
  {
   "cell_type": "markdown",
   "metadata": {},
   "source": [
    "**Exercise:** Suppose I have a box with a 6-sided die, an 8-sided die, and a 12-sided die.\n",
    "I choose one of the dice at random, roll it twice, multiply the outcomes, and report that the product is 12.\n",
    "What is the probability that I chose the 8-sided die?\n",
    "\n",
    "Hint: `Pmf` provides a function called `mul_dist` that takes two `Pmf` objects and returns a `Pmf` that represents the distribution of the product."
   ]
  },
  {
   "cell_type": "code",
   "execution_count": 59,
   "metadata": {},
   "outputs": [],
   "source": [
    "# Solution goes here"
   ]
  },
  {
   "cell_type": "code",
   "execution_count": 60,
   "metadata": {},
   "outputs": [],
   "source": [
    "# Solution goes here"
   ]
  },
  {
   "cell_type": "code",
   "execution_count": 61,
   "metadata": {},
   "outputs": [],
   "source": [
    "# Solution goes here"
   ]
  },
  {
   "cell_type": "code",
   "execution_count": 62,
   "metadata": {},
   "outputs": [],
   "source": [
    "# Solution goes here"
   ]
  },
  {
   "cell_type": "markdown",
   "metadata": {},
   "source": [
    "**Exercise:** *Betrayal at House on the Hill* is a strategy game in which characters with different attributes explore a haunted house.  Depending on their attributes, the characters roll different numbers of dice.  For example, if attempting a task that depends on knowledge, Professor Longfellow rolls 5 dice, Madame Zostra rolls 4, and Ox Bellows rolls 3.  Each die yields 0, 1, or 2 with equal probability.  \n",
    "\n",
    "If a randomly chosen character attempts a task three times and rolls a total of 3 on the first attempt, 4 on the second, and 5 on the third, which character do you think it was?"
   ]
  },
  {
   "cell_type": "code",
   "execution_count": 63,
   "metadata": {},
   "outputs": [],
   "source": [
    "# Solution goes here"
   ]
  },
  {
   "cell_type": "code",
   "execution_count": 64,
   "metadata": {},
   "outputs": [],
   "source": [
    "# Solution goes here"
   ]
  },
  {
   "cell_type": "code",
   "execution_count": 65,
   "metadata": {},
   "outputs": [],
   "source": [
    "# Solution goes here"
   ]
  },
  {
   "cell_type": "code",
   "execution_count": 66,
   "metadata": {},
   "outputs": [],
   "source": [
    "# Solution goes here"
   ]
  },
  {
   "cell_type": "code",
   "execution_count": 67,
   "metadata": {},
   "outputs": [],
   "source": [
    "# Solution goes here"
   ]
  },
  {
   "cell_type": "code",
   "execution_count": 68,
   "metadata": {},
   "outputs": [],
   "source": [
    "# Solution goes here"
   ]
  },
  {
   "cell_type": "code",
   "execution_count": 69,
   "metadata": {},
   "outputs": [],
   "source": [
    "# Solution goes here"
   ]
  },
  {
   "cell_type": "markdown",
   "metadata": {},
   "source": [
    "**Exercise:** There are 538 members of the United States Congress.  \n",
    "Suppose we audit their investment portfolios and find that 312 of them out-perform the market.\n",
    "Let's assume that an honest member of Congress has only a 50% chance of out-performing the market, but a dishonest member who trades on inside information has a 90% chance.  How many members of Congress are honest?"
   ]
  },
  {
   "cell_type": "code",
   "execution_count": 70,
   "metadata": {},
   "outputs": [],
   "source": [
    "# Solution goes here"
   ]
  },
  {
   "cell_type": "code",
   "execution_count": 71,
   "metadata": {},
   "outputs": [],
   "source": [
    "# Solution goes here"
   ]
  },
  {
   "cell_type": "code",
   "execution_count": 72,
   "metadata": {},
   "outputs": [],
   "source": [
    "# Solution goes here"
   ]
  },
  {
   "cell_type": "code",
   "execution_count": 73,
   "metadata": {},
   "outputs": [],
   "source": [
    "# Solution goes here"
   ]
  },
  {
   "cell_type": "code",
   "execution_count": 74,
   "metadata": {},
   "outputs": [],
   "source": [
    "# Solution goes here"
   ]
  },
  {
   "cell_type": "code",
   "execution_count": 75,
   "metadata": {},
   "outputs": [],
   "source": [
    "# Solution goes here"
   ]
  },
  {
   "cell_type": "code",
   "execution_count": null,
   "metadata": {},
   "outputs": [],
   "source": []
  }
 ],
 "metadata": {
  "kernelspec": {
   "display_name": "Python 3",
   "language": "python",
   "name": "python3"
  },
  "language_info": {
   "codemirror_mode": {
    "name": "ipython",
    "version": 3
   },
   "file_extension": ".py",
   "mimetype": "text/x-python",
   "name": "python",
   "nbconvert_exporter": "python",
   "pygments_lexer": "ipython3",
   "version": "3.8.2"
  }
 },
 "nbformat": 4,
 "nbformat_minor": 4
}
