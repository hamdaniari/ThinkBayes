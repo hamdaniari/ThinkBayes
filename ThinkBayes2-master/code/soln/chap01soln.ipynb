{
 "cells": [
  {
   "cell_type": "markdown",
   "metadata": {},
   "source": [
    "# Think Bayes\n",
    "\n",
    "Second Edition\n",
    "\n",
    "Copyright 2020 Allen B. Downey\n",
    "\n",
    "License: [Attribution-NonCommercial-ShareAlike 4.0 International (CC BY-NC-SA 4.0)](https://creativecommons.org/licenses/by-nc-sa/4.0/)"
   ]
  },
  {
   "cell_type": "code",
   "execution_count": 1,
   "metadata": {},
   "outputs": [],
   "source": [
    "import numpy as np\n",
    "import pandas as pd"
   ]
  },
  {
   "cell_type": "markdown",
   "metadata": {},
   "source": [
    "## Introduction\n",
    "\n",
    "The fundamental idea behind all Bayesian statistics is Bayes's theorem,\n",
    "which is surprisingly easy to derive, provided that you understand\n",
    "conditional probability. So we'll start with probability, then\n",
    "conditional probability, then Bayes's theorem, and on to Bayesian\n",
    "statistics."
   ]
  },
  {
   "cell_type": "markdown",
   "metadata": {},
   "source": [
    "## Probability\n",
    "\n",
    "A probability is a number between 0 and 1 (including both) that\n",
    "represents a degree of belief in a fact or prediction. The value 1\n",
    "represents certainty that a fact is true, or that a prediction will come\n",
    "true. The value 0 represents certainty that the fact is false.\n",
    "\n",
    "Intermediate values represent degrees of certainty. The value 0.5, often\n",
    "written as 50%, means that a predicted outcome is as likely to happen as\n",
    "not. For example, the probability that a tossed coin lands with the \"heads\" side up is\n",
    "close to 50%.\n",
    "The probability that a six-sided die comes up 3 is close to 1/6 or 16.7%."
   ]
  },
  {
   "cell_type": "markdown",
   "metadata": {},
   "source": [
    "## Conditional probability\n",
    "\n",
    "A conditional probability is a probability based on some relevant\n",
    "information. For example, suppose I toss two coins. The probability that\n",
    "both coins land heads is 25%.\n",
    "\n",
    "But suppose I toss two coins and, without showing you the result, tell\n",
    "you that at least one of the coins is heads. What is the probability\n",
    "that both are heads? The answer is 1/3.\n",
    "\n",
    "Here's how I got that: when I toss the coins, there are four equally\n",
    "likely outcomes: heads-heads, heads-tails, tails-heads, and tails-tails.\n",
    "When I tell you that at least one coin is heads, that eliminates one\n",
    "outcome, tails-tails.\n",
    "\n",
    "The remaining outcomes are heads-heads, heads-tails, and tails-heads,\n",
    "and they are still equally likely. So the probability of heads-heads is\n",
    "1/3.\n",
    "\n",
    "That argument is correct, but if you don't find it entirely convincing,\n",
    "we'll come back to this problem and solve it more carefully using\n",
    "Bayes's Theorem.\n",
    "\n",
    "In this example, we computed the conditional probability of two heads,\n",
    "given the information that at least one coin is heads.\n",
    "\n",
    "The usual notation for conditional probability is $P(A|B)$, which is\n",
    "the probability of $A$ given that $B$ is true. In this example, $A$\n",
    "represents the two heads outcome, and $B$ is the condition that at least one\n",
    "coin is heads."
   ]
  },
  {
   "cell_type": "markdown",
   "metadata": {},
   "source": [
    "## Conjoint probability\n",
    "\n",
    "**Conjoint probability** is a fancy way to say the probability that two\n",
    "things are true. I'll use the notation $P(A~\\mathrm{AND}~B)$ to mean the\n",
    "probability that $A$ and $B$ are both true.\n",
    "\n",
    "If you learned about probability in the context of coin tosses and dice,\n",
    "you might have learned the following formula:\n",
    "\n",
    "$P(A~\\mathrm{AND}~B) = P(A)~P(B)$\n",
    "\n",
    "For example, if I toss two coins, and $A$ means the first coin lands\n",
    "face up, and $B$ means the second coin lands face up, then $P(A) =\n",
    "P(B) = 0.5$, and sure enough, \n",
    "\n",
    "$P(A~\\mathrm{AND}~B) = P(A)~P(B) = 0.25$.\n",
    "\n",
    "But this formula only works because in this case $A$ and $B$ are\n",
    "independent; that is, knowing the first outcome does not change the\n",
    "probability of the second. Or, more formally $P(A|B) = P(A)$.\n",
    "\n",
    "Here is a different example where the outcomes are not independent.\n",
    "Suppose that $A$ means that it rains today and $B$ means that it rains\n",
    "tomorrow. If I know that it rained today, it is more likely that it will\n",
    "rain tomorrow, so $P(B|A) > P(B)$.\n",
    "\n",
    "In general, the probability of a conjunction is\n",
    "\n",
    "$P(A~\\mathrm{AND}~B) = P(A)~P(B|A)$ \n",
    "\n",
    "for any $A$ and $B$. \n",
    "So if the chance of rain on any given day is 0.5, the chance of rain on two consecutive\n",
    "days is not 0.25, but probably a bit higher."
   ]
  },
  {
   "cell_type": "markdown",
   "metadata": {},
   "source": [
    "## The cookie problem\n",
    "\n",
    "We'll get to Bayes's theorem soon, but I want to motivate it with an\n",
    "example called the cookie problem, which is based on [an example from Wikipedia that is no longer there](http://en.wikipedia.org/wiki/Bayes'_theorem).\n",
    "\n",
    "> Suppose there are two bowls of cookies. Bowl 1 contains 30 vanilla\n",
    "> cookies and 10 chocolate cookies. Bowl 2 contains 20 of each.\n",
    ">\n",
    "> Now suppose you choose one of the bowls at random and, without\n",
    "> looking, select a cookie at random. The cookie is vanilla. What is the\n",
    "> probability that it came from Bowl 1?\n",
    "\n",
    "This is a conditional probability; we want $P(\\mathrm{Bowl 1}~|~\\mathrm{vanilla})$, but it is not obvious how to compute it. \n",
    "If I asked a\n",
    "different question---the probability of a vanilla cookie given Bowl\n",
    "1---it would be easy: \n",
    "\n",
    "$P(\\mathrm{vanilla}~|~\\mathrm{Bowl 1}) = 3/4$.\n",
    "\n",
    "Sadly, $P(A|B)$ is *not* the same as $P(B|A)$, but there is a way to get from\n",
    "one to the other: Bayes's theorem."
   ]
  },
  {
   "cell_type": "markdown",
   "metadata": {},
   "source": [
    "## Bayes's theorem\n",
    "\n",
    "\n",
    "Here's how we derive Bayes's theorem. We'll start with the probability\n",
    "of a conjunction: \n",
    "\n",
    "$P(A~\\mathrm{AND}~B) = P(A)~P(B|A)$ \n",
    "\n",
    "Since we have not\n",
    "said anything about what $A$ and $B$ mean, they are interchangeable.\n",
    "Interchanging them yields \n",
    "\n",
    "$P(B~\\mathrm{AND}~A) = P(B)~P(A|B)$ \n",
    "\n",
    "Also,\n",
    "conjunction is commutative; that is \n",
    "\n",
    "$P(A~\\mathrm{AND}~B) = P(B~\\mathrm{AND}~A)$\n",
    "\n",
    "That's all we need. Pulling those pieces together, we get\n",
    "\n",
    "$P(B)~P(A|B) = P(A)~P(B|A)$ \n",
    "\n",
    "Which means there are two ways to\n",
    "compute the conjunction. If you have $P(A)$, you multiply by the\n",
    "conditional probability $P(B|A)$. Or you can do it the other way\n",
    "around; if you know , you multiply by $P(A|B)$.\n",
    "\n",
    "Finally we divide through by $P(B)$:\n",
    "\n",
    "$P(A|B) = \\frac{P(A)~P(B|A)}{P(B))$ \n",
    "\n",
    "And that's Bayes's theorem! It\n",
    "might not look like much, but it turns out to be surprisingly powerful.\n",
    "\n",
    "For example, we can use it to solve the cookie problem. I'll write $B_1$\n",
    "for the hypothesis that the cookie came from Bowl 1 and $V$ for the\n",
    "vanilla cookie. Plugging in Bayes's theorem we get\n",
    "\n",
    "$P(B_1|V) = \\frac{P(B_1)~P(V|B_1)}{P(V)})$ \n",
    "\n",
    "The term on the left is\n",
    "what we want: the probability of Bowl 1, given that we chose a vanilla\n",
    "cookie. The terms on the right are:\n",
    "\n",
    "-   $P(B_1)$: This is the probability that we chose Bowl 1,\n",
    "    unconditioned by what kind of cookie we got. Since the problem says\n",
    "    we chose a bowl at random, we can assume $P(B_1) = 1/2$.\n",
    "\n",
    "-   $P(V|B_1)$: This is the probability of getting a vanilla cookie\n",
    "    from Bowl 1, which is 3/4.\n",
    "\n",
    "-   $P(V)$: This is the probability of drawing a vanilla cookie from\n",
    "    either bowl. Since we had an equal chance of choosing either bowl\n",
    "    and the bowls contain the same number of cookies, we had the same\n",
    "    chance of choosing any cookie. Between the two bowls there are 50\n",
    "    vanilla and 30 chocolate cookies, so $P(V) = 5/8$.\n",
    "\n",
    "Putting it together, we have $P(B_1|V) = \\frac{(1/2)~(3/4)}{5/8}$\n",
    "which reduces to 3/5. So the vanilla cookie is evidence in favor of the\n",
    "hypothesis that we chose Bowl 1, because vanilla cookies are more likely\n",
    "to come from Bowl 1."
   ]
  },
  {
   "cell_type": "markdown",
   "metadata": {},
   "source": [
    "This example demonstrates one use of Bayes's theorem: it provides a\n",
    "strategy to get from $P(B|A)$ to $P(A|B)$. \n",
    "This strategy is useful in cases, like the\n",
    "cookie problem, where it is easier to compute the terms on the right\n",
    "side of Bayes's theorem than the term on the left."
   ]
  },
  {
   "cell_type": "markdown",
   "metadata": {},
   "source": [
    "## The diachronic interpretation\n",
    "\n",
    "There is another way to think of Bayes's theorem: it gives us a way to\n",
    "update the probability of a hypothesis, $H$, in light of some body of\n",
    "data, $D$.\n",
    "\n",
    "This way of thinking about Bayes's theorem is called the **diachronic\n",
    "interpretation**. \"Diachronic\" means that something is happening over\n",
    "time; in this case, the probability of the hypotheses changes over time\n",
    "as we see new data.\n",
    "\n",
    "Rewriting Bayes's theorem with $H$ and $D$ yields:\n",
    "\n",
    "$P(H|D) = \\frac{P(H)~P(D|H)}{P(D)}$ \n",
    "\n",
    "In this interpretation, each term has a name:\n",
    "\n",
    "-  $P(H)$ is the probability of the hypothesis before we see the data, called\n",
    "    the prior probability, or just **prior**.\n",
    "\n",
    "-  $P(H|D)$ is what we want to compute, the probability of the hypothesis after\n",
    "    we see the data, called the **posterior**.\n",
    "\n",
    "-  $P(D|H)$ is the probability of the data under the hypothesis, called the\n",
    "    **likelihood**.\n",
    "\n",
    "-  $P(D)$ is the **total probability of the data**, under any hypothesis.\n",
    "\n",
    "Sometimes we can compute the prior based on background information. For\n",
    "example, the cookie problem specifies that we choose a bowl at random\n",
    "with equal probability.\n",
    "\n",
    "In other cases the prior is subjective; that is, reasonable people might\n",
    "disagree, either because they use different background information or\n",
    "because they interpret the same information differently.\n",
    "\n",
    "The likelihood is usually the easiest part to compute. In the cookie\n",
    "problem, if we know which bowl the cookie came from, we find the\n",
    "probability of a vanilla cookie by counting.\n",
    "\n",
    "Computing the total probability of the data can be tricky. It is\n",
    "supposed to be the probability of seeing the data under any hypothesis\n",
    "at all, but in the most general case it is hard to nail down what that\n",
    "means.\n",
    "\n",
    "Most often we simplify things by specifying a set of hypotheses that\n",
    "are:\n",
    "\n",
    "* Mutually exclusive: At most one hypothesis in the set can be true, and\n",
    "\n",
    "* Collectively exhaustive: There are no other possibilities; at least one of the hypotheses has to be true.\n",
    "\n",
    "In the cookie problem, there are only two hypotheses---the cookie came\n",
    "from Bowl 1 or Bowl 2---and they are mutually exclusive and collectively\n",
    "exhaustive.\n",
    "\n",
    "In that case we can compute using the law of total probability, which\n",
    "says that if there are two exclusive ways that something might happen,\n",
    "you can add up the probabilities like this:\n",
    "\n",
    "$P(D) = P(B_1)~P(D|B_1) + P(B_2)~P(D|B_2)$ \n",
    "\n",
    "Plugging in the values\n",
    "from the cookie problem, we have\n",
    "\n",
    "$P(D) = (1/2)~(3/4) + (1/2)~(1/2) = 5/8$ \n",
    "\n",
    "which is what we computed\n",
    "earlier by mentally combining the two bowls."
   ]
  },
  {
   "cell_type": "markdown",
   "metadata": {},
   "source": [
    "## Bayes Tables\n",
    "\n",
    "In the cookie problem we can compute the probability of the data\n",
    "directly, but that's not always the case. In fact, computing the total\n",
    "probability of the data is often the hardest part of the problem.\n",
    "\n",
    "Fortunately, there is another way to solve problems like this that makes\n",
    "it easier: the Bayes table.\n",
    "\n",
    "You can write a Bayes table on paper or use a spreadsheet, but for this\n",
    "example I'll use a Pandas DataFrame.\n",
    "\n",
    "First I'll make empty DataFrame with one row for each hypothesis:"
   ]
  },
  {
   "cell_type": "code",
   "execution_count": 2,
   "metadata": {},
   "outputs": [],
   "source": [
    "import pandas as pd\n",
    "\n",
    "table = pd.DataFrame(index=['Bowl 1', 'Bowl 2'])"
   ]
  },
  {
   "cell_type": "markdown",
   "metadata": {},
   "source": [
    "Now I'll add a column to represent the priors:"
   ]
  },
  {
   "cell_type": "code",
   "execution_count": 3,
   "metadata": {},
   "outputs": [
    {
     "data": {
      "text/html": [
       "<div>\n",
       "<style scoped>\n",
       "    .dataframe tbody tr th:only-of-type {\n",
       "        vertical-align: middle;\n",
       "    }\n",
       "\n",
       "    .dataframe tbody tr th {\n",
       "        vertical-align: top;\n",
       "    }\n",
       "\n",
       "    .dataframe thead th {\n",
       "        text-align: right;\n",
       "    }\n",
       "</style>\n",
       "<table border=\"1\" class=\"dataframe\">\n",
       "  <thead>\n",
       "    <tr style=\"text-align: right;\">\n",
       "      <th></th>\n",
       "      <th>prior</th>\n",
       "    </tr>\n",
       "  </thead>\n",
       "  <tbody>\n",
       "    <tr>\n",
       "      <th>Bowl 1</th>\n",
       "      <td>0.5</td>\n",
       "    </tr>\n",
       "    <tr>\n",
       "      <th>Bowl 2</th>\n",
       "      <td>0.5</td>\n",
       "    </tr>\n",
       "  </tbody>\n",
       "</table>\n",
       "</div>"
      ],
      "text/plain": [
       "        prior\n",
       "Bowl 1    0.5\n",
       "Bowl 2    0.5"
      ]
     },
     "execution_count": 3,
     "metadata": {},
     "output_type": "execute_result"
    }
   ],
   "source": [
    "table['prior'] = 1/2, 1/2\n",
    "table"
   ]
  },
  {
   "cell_type": "markdown",
   "metadata": {},
   "source": [
    "And a column for the likelihoods:"
   ]
  },
  {
   "cell_type": "code",
   "execution_count": 4,
   "metadata": {
    "scrolled": true
   },
   "outputs": [
    {
     "data": {
      "text/html": [
       "<div>\n",
       "<style scoped>\n",
       "    .dataframe tbody tr th:only-of-type {\n",
       "        vertical-align: middle;\n",
       "    }\n",
       "\n",
       "    .dataframe tbody tr th {\n",
       "        vertical-align: top;\n",
       "    }\n",
       "\n",
       "    .dataframe thead th {\n",
       "        text-align: right;\n",
       "    }\n",
       "</style>\n",
       "<table border=\"1\" class=\"dataframe\">\n",
       "  <thead>\n",
       "    <tr style=\"text-align: right;\">\n",
       "      <th></th>\n",
       "      <th>prior</th>\n",
       "      <th>likelihood</th>\n",
       "    </tr>\n",
       "  </thead>\n",
       "  <tbody>\n",
       "    <tr>\n",
       "      <th>Bowl 1</th>\n",
       "      <td>0.5</td>\n",
       "      <td>0.75</td>\n",
       "    </tr>\n",
       "    <tr>\n",
       "      <th>Bowl 2</th>\n",
       "      <td>0.5</td>\n",
       "      <td>0.50</td>\n",
       "    </tr>\n",
       "  </tbody>\n",
       "</table>\n",
       "</div>"
      ],
      "text/plain": [
       "        prior  likelihood\n",
       "Bowl 1    0.5        0.75\n",
       "Bowl 2    0.5        0.50"
      ]
     },
     "execution_count": 4,
     "metadata": {},
     "output_type": "execute_result"
    }
   ],
   "source": [
    "table['likelihood'] = 3/4, 1/2\n",
    "table"
   ]
  },
  {
   "cell_type": "markdown",
   "metadata": {},
   "source": [
    "Here we see a difference from the previous method: we compute likelihoods for both hypotheses, not just Bowl 1:\n",
    "\n",
    "* The chance of getting a vanilla cookie from Bowl 1 is 3/4.\n",
    "\n",
    "* The chance of getting a vanilla cookie from Bowl 2 is 1/2."
   ]
  },
  {
   "cell_type": "markdown",
   "metadata": {},
   "source": [
    "The following cells write the Bayes table to a file."
   ]
  },
  {
   "cell_type": "code",
   "execution_count": 5,
   "metadata": {},
   "outputs": [],
   "source": [
    "# Get utils.py\n",
    "\n",
    "import os\n",
    "\n",
    "if not os.path.exists('utils.py'):\n",
    "    !wget https://github.com/AllenDowney/ThinkBayes2/raw/master/code/soln/utils.py\n",
    "        \n",
    "if not os.path.exists('tables'):\n",
    "    !mkdir tables"
   ]
  },
  {
   "cell_type": "code",
   "execution_count": 6,
   "metadata": {},
   "outputs": [],
   "source": [
    "from utils import write_table\n",
    "\n",
    "write_table(table, 'table01-01')"
   ]
  },
  {
   "cell_type": "markdown",
   "metadata": {},
   "source": [
    "The next step is similar to what we did with Bayes's Theorem; we multiply the priors by the likelihoods:"
   ]
  },
  {
   "cell_type": "code",
   "execution_count": 7,
   "metadata": {},
   "outputs": [
    {
     "data": {
      "text/html": [
       "<div>\n",
       "<style scoped>\n",
       "    .dataframe tbody tr th:only-of-type {\n",
       "        vertical-align: middle;\n",
       "    }\n",
       "\n",
       "    .dataframe tbody tr th {\n",
       "        vertical-align: top;\n",
       "    }\n",
       "\n",
       "    .dataframe thead th {\n",
       "        text-align: right;\n",
       "    }\n",
       "</style>\n",
       "<table border=\"1\" class=\"dataframe\">\n",
       "  <thead>\n",
       "    <tr style=\"text-align: right;\">\n",
       "      <th></th>\n",
       "      <th>prior</th>\n",
       "      <th>likelihood</th>\n",
       "      <th>unnorm</th>\n",
       "    </tr>\n",
       "  </thead>\n",
       "  <tbody>\n",
       "    <tr>\n",
       "      <th>Bowl 1</th>\n",
       "      <td>0.5</td>\n",
       "      <td>0.75</td>\n",
       "      <td>0.375</td>\n",
       "    </tr>\n",
       "    <tr>\n",
       "      <th>Bowl 2</th>\n",
       "      <td>0.5</td>\n",
       "      <td>0.50</td>\n",
       "      <td>0.250</td>\n",
       "    </tr>\n",
       "  </tbody>\n",
       "</table>\n",
       "</div>"
      ],
      "text/plain": [
       "        prior  likelihood  unnorm\n",
       "Bowl 1    0.5        0.75   0.375\n",
       "Bowl 2    0.5        0.50   0.250"
      ]
     },
     "execution_count": 7,
     "metadata": {},
     "output_type": "execute_result"
    }
   ],
   "source": [
    "table['unnorm'] = table['prior'] * table['likelihood']\n",
    "table"
   ]
  },
  {
   "cell_type": "markdown",
   "metadata": {},
   "source": [
    "I called the result `unnorm` because it is an \"unnormalized posterior\".  To see what that means, let's compare the right-hand side of Bayes's Theorem:\n",
    "\n",
    "$P(H) P(D|H)~/~P(D)$\n",
    "\n",
    "To what we have computed so far:\n",
    "\n",
    "$P(H) P(D|H)$\n",
    "\n",
    "The difference is that we have not divided through by $P(D)$, the total probability of the data.  So let's do that."
   ]
  },
  {
   "cell_type": "markdown",
   "metadata": {},
   "source": [
    "There are two ways to compute $P(D)$:\n",
    "\n",
    "1. Sometimes we can figure it out directly.\n",
    "\n",
    "2. Otherwise, we can compute it by adding up the unnormalized posteriors.\n",
    "\n",
    "Here's the total of the unnormalized posteriors:"
   ]
  },
  {
   "cell_type": "code",
   "execution_count": 8,
   "metadata": {},
   "outputs": [
    {
     "data": {
      "text/plain": [
       "0.625"
      ]
     },
     "execution_count": 8,
     "metadata": {},
     "output_type": "execute_result"
    }
   ],
   "source": [
    "prob_data = table['unnorm'].sum()\n",
    "prob_data"
   ]
  },
  {
   "cell_type": "markdown",
   "metadata": {},
   "source": [
    "Notice that we get 5/8, which is what we got by computing $P(D)$ directly.\n",
    "\n",
    "Now we divide by $P(D)$ to get the posteriors:"
   ]
  },
  {
   "cell_type": "code",
   "execution_count": 9,
   "metadata": {},
   "outputs": [
    {
     "data": {
      "text/html": [
       "<div>\n",
       "<style scoped>\n",
       "    .dataframe tbody tr th:only-of-type {\n",
       "        vertical-align: middle;\n",
       "    }\n",
       "\n",
       "    .dataframe tbody tr th {\n",
       "        vertical-align: top;\n",
       "    }\n",
       "\n",
       "    .dataframe thead th {\n",
       "        text-align: right;\n",
       "    }\n",
       "</style>\n",
       "<table border=\"1\" class=\"dataframe\">\n",
       "  <thead>\n",
       "    <tr style=\"text-align: right;\">\n",
       "      <th></th>\n",
       "      <th>prior</th>\n",
       "      <th>likelihood</th>\n",
       "      <th>unnorm</th>\n",
       "      <th>posterior</th>\n",
       "    </tr>\n",
       "  </thead>\n",
       "  <tbody>\n",
       "    <tr>\n",
       "      <th>Bowl 1</th>\n",
       "      <td>0.5</td>\n",
       "      <td>0.75</td>\n",
       "      <td>0.375</td>\n",
       "      <td>0.6</td>\n",
       "    </tr>\n",
       "    <tr>\n",
       "      <th>Bowl 2</th>\n",
       "      <td>0.5</td>\n",
       "      <td>0.50</td>\n",
       "      <td>0.250</td>\n",
       "      <td>0.4</td>\n",
       "    </tr>\n",
       "  </tbody>\n",
       "</table>\n",
       "</div>"
      ],
      "text/plain": [
       "        prior  likelihood  unnorm  posterior\n",
       "Bowl 1    0.5        0.75   0.375        0.6\n",
       "Bowl 2    0.5        0.50   0.250        0.4"
      ]
     },
     "execution_count": 9,
     "metadata": {},
     "output_type": "execute_result"
    }
   ],
   "source": [
    "table['posterior'] = table['unnorm'] / prob_data\n",
    "table"
   ]
  },
  {
   "cell_type": "markdown",
   "metadata": {},
   "source": [
    "The posterior probability for Bowl 1 is 0.6, which is what we got using Bayes's Theorem explicitly.\n",
    "\n",
    "As a bonus, we also get the posterior probability of Bowl 2, which is 0.4.\n",
    "\n",
    "The posterior probabilities add up to 1, which they should, because the hypotheses are \"complementary\"; that is, either one of them is true or the other, but not both.  So their probabilities have to add up to 1.\n",
    "\n",
    "When we add up the unnormalized posteriors and divide through, we force the posteriors to add up to 1.  This process is called \"normalization\", which is why the total probability of the data is also called the \"[normalizing constant](https://en.wikipedia.org/wiki/Normalizing_constant#Bayes'_theorem)\""
   ]
  },
  {
   "cell_type": "code",
   "execution_count": 10,
   "metadata": {},
   "outputs": [],
   "source": [
    "write_table(table, 'table01-02')"
   ]
  },
  {
   "cell_type": "markdown",
   "metadata": {},
   "source": [
    "## The Dice Problem \n",
    "\n",
    "A Bayes table can also solve problems with more than two hypotheses.  For example:\n",
    "\n",
    "> Suppose I have a box with a 6-sided die, an 8-sided die, and a 12-sided\n",
    "die. I choose one of the dice at random, roll it, and report that the\n",
    "outcome is a 1. What is the probability that I chose the 6-sided die?\n",
    "\n",
    "In this example, there are three hypotheses with equal prior\n",
    "probabilities. The data is my report that the outcome is a 1. Under the\n",
    "hypothesis that I chose the 6-sided die, the probability of the data is\n",
    "1/6. If I chose the 8-sided die, the probability is 1/8, and if I chose\n",
    "the 12-sided die, it's 1/12."
   ]
  },
  {
   "cell_type": "code",
   "execution_count": 11,
   "metadata": {},
   "outputs": [],
   "source": [
    "table2 = pd.DataFrame(index=[6, 8, 12])"
   ]
  },
  {
   "cell_type": "markdown",
   "metadata": {},
   "source": [
    "I'll use fractions to represent the prior probabilities and the likelihoods.  That way they don't get rounded off to floating-point numbers."
   ]
  },
  {
   "cell_type": "code",
   "execution_count": 12,
   "metadata": {},
   "outputs": [
    {
     "data": {
      "text/html": [
       "<div>\n",
       "<style scoped>\n",
       "    .dataframe tbody tr th:only-of-type {\n",
       "        vertical-align: middle;\n",
       "    }\n",
       "\n",
       "    .dataframe tbody tr th {\n",
       "        vertical-align: top;\n",
       "    }\n",
       "\n",
       "    .dataframe thead th {\n",
       "        text-align: right;\n",
       "    }\n",
       "</style>\n",
       "<table border=\"1\" class=\"dataframe\">\n",
       "  <thead>\n",
       "    <tr style=\"text-align: right;\">\n",
       "      <th></th>\n",
       "      <th>prior</th>\n",
       "      <th>likelihood</th>\n",
       "    </tr>\n",
       "  </thead>\n",
       "  <tbody>\n",
       "    <tr>\n",
       "      <th>6</th>\n",
       "      <td>1/3</td>\n",
       "      <td>1/6</td>\n",
       "    </tr>\n",
       "    <tr>\n",
       "      <th>8</th>\n",
       "      <td>1/3</td>\n",
       "      <td>1/8</td>\n",
       "    </tr>\n",
       "    <tr>\n",
       "      <th>12</th>\n",
       "      <td>1/3</td>\n",
       "      <td>1/12</td>\n",
       "    </tr>\n",
       "  </tbody>\n",
       "</table>\n",
       "</div>"
      ],
      "text/plain": [
       "   prior likelihood\n",
       "6    1/3        1/6\n",
       "8    1/3        1/8\n",
       "12   1/3       1/12"
      ]
     },
     "execution_count": 12,
     "metadata": {},
     "output_type": "execute_result"
    }
   ],
   "source": [
    "from fractions import Fraction\n",
    "\n",
    "table2['prior'] = Fraction(1, 3)\n",
    "table2['likelihood'] = Fraction(1, 6), Fraction(1, 8), Fraction(1, 12)\n",
    "table2"
   ]
  },
  {
   "cell_type": "markdown",
   "metadata": {},
   "source": [
    "Once you have priors and likelhoods, the remaining steps are always the same."
   ]
  },
  {
   "cell_type": "code",
   "execution_count": 13,
   "metadata": {},
   "outputs": [
    {
     "data": {
      "text/html": [
       "<div>\n",
       "<style scoped>\n",
       "    .dataframe tbody tr th:only-of-type {\n",
       "        vertical-align: middle;\n",
       "    }\n",
       "\n",
       "    .dataframe tbody tr th {\n",
       "        vertical-align: top;\n",
       "    }\n",
       "\n",
       "    .dataframe thead th {\n",
       "        text-align: right;\n",
       "    }\n",
       "</style>\n",
       "<table border=\"1\" class=\"dataframe\">\n",
       "  <thead>\n",
       "    <tr style=\"text-align: right;\">\n",
       "      <th></th>\n",
       "      <th>prior</th>\n",
       "      <th>likelihood</th>\n",
       "      <th>unnorm</th>\n",
       "      <th>posterior</th>\n",
       "    </tr>\n",
       "  </thead>\n",
       "  <tbody>\n",
       "    <tr>\n",
       "      <th>6</th>\n",
       "      <td>1/3</td>\n",
       "      <td>1/6</td>\n",
       "      <td>1/18</td>\n",
       "      <td>4/9</td>\n",
       "    </tr>\n",
       "    <tr>\n",
       "      <th>8</th>\n",
       "      <td>1/3</td>\n",
       "      <td>1/8</td>\n",
       "      <td>1/24</td>\n",
       "      <td>1/3</td>\n",
       "    </tr>\n",
       "    <tr>\n",
       "      <th>12</th>\n",
       "      <td>1/3</td>\n",
       "      <td>1/12</td>\n",
       "      <td>1/36</td>\n",
       "      <td>2/9</td>\n",
       "    </tr>\n",
       "  </tbody>\n",
       "</table>\n",
       "</div>"
      ],
      "text/plain": [
       "   prior likelihood unnorm posterior\n",
       "6    1/3        1/6   1/18       4/9\n",
       "8    1/3        1/8   1/24       1/3\n",
       "12   1/3       1/12   1/36       2/9"
      ]
     },
     "execution_count": 13,
     "metadata": {},
     "output_type": "execute_result"
    }
   ],
   "source": [
    "table2['unnorm'] = table2['prior'] * table2['likelihood']\n",
    "prob_data2 = table2['unnorm'].sum()\n",
    "table2['posterior'] = table2['unnorm'] / prob_data2\n",
    "table2"
   ]
  },
  {
   "cell_type": "markdown",
   "metadata": {},
   "source": [
    "The posterior probability of the 6-sided die is 4/9."
   ]
  },
  {
   "cell_type": "code",
   "execution_count": 14,
   "metadata": {},
   "outputs": [],
   "source": [
    "write_table(table2, 'table01-03')"
   ]
  },
  {
   "cell_type": "markdown",
   "metadata": {},
   "source": [
    "## The Monty Hall problem\n",
    "\n",
    "\n",
    "Monty Hall was the original host of the game show *Let's Make a Deal*.\n",
    "The Monty Hall problem is based on one of the regular games on the show.\n",
    "If you are a contestant, here's how the game works:\n",
    "\n",
    "-   Monty shows you three closed doors numbered 1, 2, and 3. He tells\n",
    "    you that there is a prize behind each door.\n",
    "\n",
    "-   One prize is valuable (traditionally a car), the other two are less\n",
    "    valuable (traditionally goats).\n",
    "\n",
    "-   The object of the game is to guess which door has the car. If you\n",
    "    guess right, you get to keep the car.\n",
    "\n",
    "Suppose you pick Door 1. Before opening the door you chose, Monty opens\n",
    "Door 3 and reveals a goat. Then Monty offers you the option to stick\n",
    "with your original choice or switch to the remaining unopened door.\n",
    "\n",
    "To maximize your chance of winning the car, should you stick with Door 1\n",
    "or switch to Door 2?\n",
    "\n",
    "To answer this question, we have to make some assumptions about the\n",
    "behavior of the host:\n",
    "\n",
    "1.  Monty always opens a door and offers you the option to switch.\n",
    "\n",
    "2.  He never opens the door you picked or the door with the car.\n",
    "\n",
    "3.  If you choose the door with the car, he chooses one of the other\n",
    "    doors at random.\n",
    "\n",
    "Under these assumptions, you are better off switching. If you stick, you\n",
    "win $1/3$ of the time. If you switch, you win $2/3$ of the time.\n",
    "\n",
    "If you have not encountered this problem before, you might find the\n",
    "answer surprising. You would not be alone; many people have the strong\n",
    "intuition that it doesn't matter if you stick or switch. There are two\n",
    "doors left, they reason, so the chance that the car is behind Door A is\n",
    "50%. But that is wrong.\n",
    "\n",
    "To see why, it might help to use a Bayes table. We start with three\n",
    "hypotheses: the car might be behind Door 1, 2, or 3. According to the\n",
    "statement of the problem, the prior probability for each door is 1/3.\n",
    "\n",
    "The data is that Monty opened Door 3 and revealed a goat. So let's\n",
    "consider the probability of the data under each hypothesis:\n",
    "\n",
    "-   If the car were behind Door 3, Monty would not have opened it, so\n",
    "    the probability of the data under this hypothesis is 0.\n",
    "\n",
    "-   If the car were behind Door 2, Monty would have to open Door 3, so\n",
    "    the probability of the data under this hypothesis is 1.\n",
    "\n",
    "-   If the car were behind Door 1, Monty would choose Door 2 or 3 at\n",
    "    random; the probability he would open Door 3 is $1/2$.\n",
    "\n",
    "Once we figure out prior probabilities and likelihoods, the Bayes table\n",
    "does the rest. "
   ]
  },
  {
   "cell_type": "code",
   "execution_count": 15,
   "metadata": {},
   "outputs": [],
   "source": [
    "table3 = pd.DataFrame(index=['Door 1', 'Door 2', 'Door 3'])"
   ]
  },
  {
   "cell_type": "markdown",
   "metadata": {},
   "source": [
    "And here are the priors and likelihoods."
   ]
  },
  {
   "cell_type": "code",
   "execution_count": 16,
   "metadata": {},
   "outputs": [
    {
     "data": {
      "text/html": [
       "<div>\n",
       "<style scoped>\n",
       "    .dataframe tbody tr th:only-of-type {\n",
       "        vertical-align: middle;\n",
       "    }\n",
       "\n",
       "    .dataframe tbody tr th {\n",
       "        vertical-align: top;\n",
       "    }\n",
       "\n",
       "    .dataframe thead th {\n",
       "        text-align: right;\n",
       "    }\n",
       "</style>\n",
       "<table border=\"1\" class=\"dataframe\">\n",
       "  <thead>\n",
       "    <tr style=\"text-align: right;\">\n",
       "      <th></th>\n",
       "      <th>prior</th>\n",
       "      <th>likelihood</th>\n",
       "    </tr>\n",
       "  </thead>\n",
       "  <tbody>\n",
       "    <tr>\n",
       "      <th>Door 1</th>\n",
       "      <td>1/3</td>\n",
       "      <td>1/2</td>\n",
       "    </tr>\n",
       "    <tr>\n",
       "      <th>Door 2</th>\n",
       "      <td>1/3</td>\n",
       "      <td>1</td>\n",
       "    </tr>\n",
       "    <tr>\n",
       "      <th>Door 3</th>\n",
       "      <td>1/3</td>\n",
       "      <td>0</td>\n",
       "    </tr>\n",
       "  </tbody>\n",
       "</table>\n",
       "</div>"
      ],
      "text/plain": [
       "       prior likelihood\n",
       "Door 1   1/3        1/2\n",
       "Door 2   1/3          1\n",
       "Door 3   1/3          0"
      ]
     },
     "execution_count": 16,
     "metadata": {},
     "output_type": "execute_result"
    }
   ],
   "source": [
    "table3['prior'] = Fraction(1, 3)\n",
    "table3['likelihood'] = Fraction(1, 2), 1, 0\n",
    "table3"
   ]
  },
  {
   "cell_type": "markdown",
   "metadata": {},
   "source": [
    "The next step is always the same."
   ]
  },
  {
   "cell_type": "code",
   "execution_count": 17,
   "metadata": {},
   "outputs": [
    {
     "data": {
      "text/html": [
       "<div>\n",
       "<style scoped>\n",
       "    .dataframe tbody tr th:only-of-type {\n",
       "        vertical-align: middle;\n",
       "    }\n",
       "\n",
       "    .dataframe tbody tr th {\n",
       "        vertical-align: top;\n",
       "    }\n",
       "\n",
       "    .dataframe thead th {\n",
       "        text-align: right;\n",
       "    }\n",
       "</style>\n",
       "<table border=\"1\" class=\"dataframe\">\n",
       "  <thead>\n",
       "    <tr style=\"text-align: right;\">\n",
       "      <th></th>\n",
       "      <th>prior</th>\n",
       "      <th>likelihood</th>\n",
       "      <th>unnorm</th>\n",
       "      <th>posterior</th>\n",
       "    </tr>\n",
       "  </thead>\n",
       "  <tbody>\n",
       "    <tr>\n",
       "      <th>Door 1</th>\n",
       "      <td>1/3</td>\n",
       "      <td>1/2</td>\n",
       "      <td>1/6</td>\n",
       "      <td>1/3</td>\n",
       "    </tr>\n",
       "    <tr>\n",
       "      <th>Door 2</th>\n",
       "      <td>1/3</td>\n",
       "      <td>1</td>\n",
       "      <td>1/3</td>\n",
       "      <td>2/3</td>\n",
       "    </tr>\n",
       "    <tr>\n",
       "      <th>Door 3</th>\n",
       "      <td>1/3</td>\n",
       "      <td>0</td>\n",
       "      <td>0</td>\n",
       "      <td>0</td>\n",
       "    </tr>\n",
       "  </tbody>\n",
       "</table>\n",
       "</div>"
      ],
      "text/plain": [
       "       prior likelihood unnorm posterior\n",
       "Door 1   1/3        1/2    1/6       1/3\n",
       "Door 2   1/3          1    1/3       2/3\n",
       "Door 3   1/3          0      0         0"
      ]
     },
     "execution_count": 17,
     "metadata": {},
     "output_type": "execute_result"
    }
   ],
   "source": [
    "table3['unnorm'] = table3['prior'] * table3['likelihood']\n",
    "prob_data3 = table3['unnorm'].sum()\n",
    "table3['posterior'] = table3['unnorm'] / prob_data3\n",
    "table3"
   ]
  },
  {
   "cell_type": "markdown",
   "metadata": {},
   "source": [
    "The posterior probability for Door 2 is 2/3, so you are better off switching."
   ]
  },
  {
   "cell_type": "markdown",
   "metadata": {},
   "source": [
    "After Monty opens Door 3, the posterior probability of Door 1 is $1/3$;\n",
    "the posterior probability of Door 2 is $2/3$.\n",
    "\n",
    "As this example shows, our intuition for probability is not always\n",
    "reliable. Bayes's Theorem provides a divide-and-conquer strategy that\n",
    "can help:\n",
    "\n",
    "1.  First, write down the hypotheses and the data.\n",
    "\n",
    "2.  Next, figure out the prior probabilities.\n",
    "\n",
    "3.  Finally, compute the likelihood of the data under each hypothesis.\n",
    "\n",
    "The Bayes table does the rest."
   ]
  },
  {
   "cell_type": "code",
   "execution_count": 18,
   "metadata": {},
   "outputs": [],
   "source": [
    "write_table(table3, 'table01-04')"
   ]
  },
  {
   "cell_type": "markdown",
   "metadata": {},
   "source": [
    "## Summary\n",
    "\n",
    "In this chapter...\n",
    "\n",
    "In the next chapter\n",
    "\n",
    "But first you might want to work on these exercises."
   ]
  },
  {
   "cell_type": "markdown",
   "metadata": {},
   "source": [
    "## Exercises"
   ]
  },
  {
   "cell_type": "markdown",
   "metadata": {},
   "source": [
    "**Exercise:** Suppose you have two coins in a box.\n",
    "One is a normal coin with heads on one side and tails on the other, and one is a trick coin with heads on both sides.  You choose a coin at random and see that one of the sides is heads.\n",
    "What is the probability that you chose the trick coin?"
   ]
  },
  {
   "cell_type": "code",
   "execution_count": 19,
   "metadata": {},
   "outputs": [
    {
     "data": {
      "text/html": [
       "<div>\n",
       "<style scoped>\n",
       "    .dataframe tbody tr th:only-of-type {\n",
       "        vertical-align: middle;\n",
       "    }\n",
       "\n",
       "    .dataframe tbody tr th {\n",
       "        vertical-align: top;\n",
       "    }\n",
       "\n",
       "    .dataframe thead th {\n",
       "        text-align: right;\n",
       "    }\n",
       "</style>\n",
       "<table border=\"1\" class=\"dataframe\">\n",
       "  <thead>\n",
       "    <tr style=\"text-align: right;\">\n",
       "      <th></th>\n",
       "      <th>prior</th>\n",
       "      <th>likelihood</th>\n",
       "      <th>unnorm</th>\n",
       "      <th>posterior</th>\n",
       "    </tr>\n",
       "  </thead>\n",
       "  <tbody>\n",
       "    <tr>\n",
       "      <th>Normal</th>\n",
       "      <td>0.5</td>\n",
       "      <td>0.5</td>\n",
       "      <td>0.25</td>\n",
       "      <td>0.333333</td>\n",
       "    </tr>\n",
       "    <tr>\n",
       "      <th>Trick</th>\n",
       "      <td>0.5</td>\n",
       "      <td>1.0</td>\n",
       "      <td>0.50</td>\n",
       "      <td>0.666667</td>\n",
       "    </tr>\n",
       "  </tbody>\n",
       "</table>\n",
       "</div>"
      ],
      "text/plain": [
       "        prior  likelihood  unnorm  posterior\n",
       "Normal    0.5         0.5    0.25   0.333333\n",
       "Trick     0.5         1.0    0.50   0.666667"
      ]
     },
     "execution_count": 19,
     "metadata": {},
     "output_type": "execute_result"
    }
   ],
   "source": [
    "# Solution\n",
    "\n",
    "table = pd.DataFrame(index=['Normal', 'Trick'])\n",
    "table['prior'] = 1/2\n",
    "table['likelihood'] = 1/2, 1\n",
    "\n",
    "table['unnorm'] = table['prior'] * table['likelihood']\n",
    "prob_data4 = table['unnorm'].sum()\n",
    "\n",
    "table['posterior'] = table['unnorm'] / prob_data4\n",
    "table"
   ]
  },
  {
   "cell_type": "markdown",
   "metadata": {},
   "source": [
    "**Exercise:** Suppose you meet someone and learn that they have two children.\n",
    "You ask if either child is a girl and they say yes.\n",
    "What is the probability that both children are girls?\n",
    "\n",
    "Hint: Start with four equally likely hypotheses."
   ]
  },
  {
   "cell_type": "code",
   "execution_count": 20,
   "metadata": {},
   "outputs": [
    {
     "data": {
      "text/html": [
       "<div>\n",
       "<style scoped>\n",
       "    .dataframe tbody tr th:only-of-type {\n",
       "        vertical-align: middle;\n",
       "    }\n",
       "\n",
       "    .dataframe tbody tr th {\n",
       "        vertical-align: top;\n",
       "    }\n",
       "\n",
       "    .dataframe thead th {\n",
       "        text-align: right;\n",
       "    }\n",
       "</style>\n",
       "<table border=\"1\" class=\"dataframe\">\n",
       "  <thead>\n",
       "    <tr style=\"text-align: right;\">\n",
       "      <th></th>\n",
       "      <th>prior</th>\n",
       "      <th>likelihood</th>\n",
       "      <th>unnorm</th>\n",
       "      <th>posterior</th>\n",
       "    </tr>\n",
       "  </thead>\n",
       "  <tbody>\n",
       "    <tr>\n",
       "      <th>GG</th>\n",
       "      <td>0.25</td>\n",
       "      <td>1</td>\n",
       "      <td>0.25</td>\n",
       "      <td>0.333333</td>\n",
       "    </tr>\n",
       "    <tr>\n",
       "      <th>GB</th>\n",
       "      <td>0.25</td>\n",
       "      <td>1</td>\n",
       "      <td>0.25</td>\n",
       "      <td>0.333333</td>\n",
       "    </tr>\n",
       "    <tr>\n",
       "      <th>BG</th>\n",
       "      <td>0.25</td>\n",
       "      <td>1</td>\n",
       "      <td>0.25</td>\n",
       "      <td>0.333333</td>\n",
       "    </tr>\n",
       "    <tr>\n",
       "      <th>BB</th>\n",
       "      <td>0.25</td>\n",
       "      <td>0</td>\n",
       "      <td>0.00</td>\n",
       "      <td>0.000000</td>\n",
       "    </tr>\n",
       "  </tbody>\n",
       "</table>\n",
       "</div>"
      ],
      "text/plain": [
       "    prior  likelihood  unnorm  posterior\n",
       "GG   0.25           1    0.25   0.333333\n",
       "GB   0.25           1    0.25   0.333333\n",
       "BG   0.25           1    0.25   0.333333\n",
       "BB   0.25           0    0.00   0.000000"
      ]
     },
     "execution_count": 20,
     "metadata": {},
     "output_type": "execute_result"
    }
   ],
   "source": [
    "# Solution\n",
    "\n",
    "table = pd.DataFrame(index=['GG', 'GB', 'BG', 'BB'])\n",
    "table['prior'] = 1/4\n",
    "table['likelihood'] = 1, 1, 1, 0\n",
    "\n",
    "table['unnorm'] = table['prior'] * table['likelihood']\n",
    "prob_data = table['unnorm'].sum()\n",
    "\n",
    "table['posterior'] = table['unnorm'] / prob_data\n",
    "table"
   ]
  },
  {
   "cell_type": "markdown",
   "metadata": {},
   "source": [
    "**Exercise:** There are many variations of the [Monty Hall problem](https://en.wikipedia.org/wiki/Monty_Hall_problem}).  \n",
    "For example, suppose Monty always chooses Door 2 if he can and\n",
    "only chooses Door 3 if he has to (because the car is behind Door 2).\n",
    "\n",
    "If you choose Door 1 and Monty opens Door 2, what is the probability the car is behind Door 3?\n",
    "\n",
    "If you choose Door 1 and Monty opens Door 3, what is the probability the car is behind Door 2?"
   ]
  },
  {
   "cell_type": "code",
   "execution_count": 21,
   "metadata": {},
   "outputs": [
    {
     "data": {
      "text/html": [
       "<div>\n",
       "<style scoped>\n",
       "    .dataframe tbody tr th:only-of-type {\n",
       "        vertical-align: middle;\n",
       "    }\n",
       "\n",
       "    .dataframe tbody tr th {\n",
       "        vertical-align: top;\n",
       "    }\n",
       "\n",
       "    .dataframe thead th {\n",
       "        text-align: right;\n",
       "    }\n",
       "</style>\n",
       "<table border=\"1\" class=\"dataframe\">\n",
       "  <thead>\n",
       "    <tr style=\"text-align: right;\">\n",
       "      <th></th>\n",
       "      <th>prior</th>\n",
       "      <th>likelihood</th>\n",
       "      <th>unnorm</th>\n",
       "      <th>posterior</th>\n",
       "    </tr>\n",
       "  </thead>\n",
       "  <tbody>\n",
       "    <tr>\n",
       "      <th>Door 1</th>\n",
       "      <td>0.333333</td>\n",
       "      <td>1</td>\n",
       "      <td>0.333333</td>\n",
       "      <td>0.5</td>\n",
       "    </tr>\n",
       "    <tr>\n",
       "      <th>Door 2</th>\n",
       "      <td>0.333333</td>\n",
       "      <td>0</td>\n",
       "      <td>0.000000</td>\n",
       "      <td>0.0</td>\n",
       "    </tr>\n",
       "    <tr>\n",
       "      <th>Door 3</th>\n",
       "      <td>0.333333</td>\n",
       "      <td>1</td>\n",
       "      <td>0.333333</td>\n",
       "      <td>0.5</td>\n",
       "    </tr>\n",
       "  </tbody>\n",
       "</table>\n",
       "</div>"
      ],
      "text/plain": [
       "           prior  likelihood    unnorm  posterior\n",
       "Door 1  0.333333           1  0.333333        0.5\n",
       "Door 2  0.333333           0  0.000000        0.0\n",
       "Door 3  0.333333           1  0.333333        0.5"
      ]
     },
     "execution_count": 21,
     "metadata": {},
     "output_type": "execute_result"
    }
   ],
   "source": [
    "# Solution\n",
    "\n",
    "# If the car is behind Door 1, Monty would always open Door 2 \n",
    "# If the car is behind Door 2, Monty would have opened Door 3\n",
    "# If the car is behind Door 3, Monty would always open Door 2\n",
    "\n",
    "table = pd.DataFrame(index=['Door 1', 'Door 2', 'Door 3'])\n",
    "table['prior'] = 1/3\n",
    "table['likelihood'] = 1, 0, 1\n",
    "\n",
    "table['unnorm'] = table['prior'] * table['likelihood']\n",
    "prob_data = table['unnorm'].sum()\n",
    "\n",
    "table['posterior'] = table['unnorm'] / prob_data\n",
    "table"
   ]
  },
  {
   "cell_type": "code",
   "execution_count": 22,
   "metadata": {},
   "outputs": [
    {
     "data": {
      "text/html": [
       "<div>\n",
       "<style scoped>\n",
       "    .dataframe tbody tr th:only-of-type {\n",
       "        vertical-align: middle;\n",
       "    }\n",
       "\n",
       "    .dataframe tbody tr th {\n",
       "        vertical-align: top;\n",
       "    }\n",
       "\n",
       "    .dataframe thead th {\n",
       "        text-align: right;\n",
       "    }\n",
       "</style>\n",
       "<table border=\"1\" class=\"dataframe\">\n",
       "  <thead>\n",
       "    <tr style=\"text-align: right;\">\n",
       "      <th></th>\n",
       "      <th>prior</th>\n",
       "      <th>likelihood</th>\n",
       "      <th>unnorm</th>\n",
       "      <th>posterior</th>\n",
       "    </tr>\n",
       "  </thead>\n",
       "  <tbody>\n",
       "    <tr>\n",
       "      <th>Door 1</th>\n",
       "      <td>0.333333</td>\n",
       "      <td>0</td>\n",
       "      <td>0.000000</td>\n",
       "      <td>0.0</td>\n",
       "    </tr>\n",
       "    <tr>\n",
       "      <th>Door 2</th>\n",
       "      <td>0.333333</td>\n",
       "      <td>1</td>\n",
       "      <td>0.333333</td>\n",
       "      <td>1.0</td>\n",
       "    </tr>\n",
       "    <tr>\n",
       "      <th>Door 3</th>\n",
       "      <td>0.333333</td>\n",
       "      <td>0</td>\n",
       "      <td>0.000000</td>\n",
       "      <td>0.0</td>\n",
       "    </tr>\n",
       "  </tbody>\n",
       "</table>\n",
       "</div>"
      ],
      "text/plain": [
       "           prior  likelihood    unnorm  posterior\n",
       "Door 1  0.333333           0  0.000000        0.0\n",
       "Door 2  0.333333           1  0.333333        1.0\n",
       "Door 3  0.333333           0  0.000000        0.0"
      ]
     },
     "execution_count": 22,
     "metadata": {},
     "output_type": "execute_result"
    }
   ],
   "source": [
    "# Solution\n",
    "\n",
    "# If the car is behind Door 1, Monty would have opened Door 2\n",
    "# If the car is behind Door 2, Monty would always Door 3\n",
    "# If the car is behind Door 3, Monty would have opened Door 3\n",
    "\n",
    "table = pd.DataFrame(index=['Door 1', 'Door 2', 'Door 3'])\n",
    "table['prior'] = 1/3\n",
    "table['likelihood'] = 0, 1, 0\n",
    "\n",
    "table['unnorm'] = table['prior'] * table['likelihood']\n",
    "prob_data = table['unnorm'].sum()\n",
    "\n",
    "table['posterior'] = table['unnorm'] / prob_data\n",
    "table"
   ]
  },
  {
   "cell_type": "markdown",
   "metadata": {},
   "source": [
    "**Exercise:** M&M's are small candy-coated chocolates that come in a variety of\n",
    "colors.  Mars, Inc., which makes M&M's, changes the mixture of colors from time to time.\n",
    "In 1995, they introduced blue M&M's.  \n",
    "\n",
    "* In 1994, the color mix in a bag of plain M&M's was 30\\% Brown, 20\\% Yellow, 20\\% Red, 10\\% Green, 10\\% Orange, 10\\% Tan.  \n",
    "\n",
    "* In 1996, it was 24\\% Blue , 20\\% Green, 16\\% Orange, 14\\% Yellow, 13\\% Red, 13\\% Brown.\n",
    "\n",
    "Suppose a friend of mine has two bags of M&M's, and he tells me\n",
    "that one is from 1994 and one from 1996.  He won't tell me which is\n",
    "which, but he gives me one M&M from each bag.  One is yellow and\n",
    "one is green.  What is the probability that the yellow one came\n",
    "from the 1994 bag?\n",
    "\n",
    "Hint: The trick to this question is to define the hypotheses and the data carefully."
   ]
  },
  {
   "cell_type": "code",
   "execution_count": 23,
   "metadata": {},
   "outputs": [
    {
     "data": {
      "text/html": [
       "<div>\n",
       "<style scoped>\n",
       "    .dataframe tbody tr th:only-of-type {\n",
       "        vertical-align: middle;\n",
       "    }\n",
       "\n",
       "    .dataframe tbody tr th {\n",
       "        vertical-align: top;\n",
       "    }\n",
       "\n",
       "    .dataframe thead th {\n",
       "        text-align: right;\n",
       "    }\n",
       "</style>\n",
       "<table border=\"1\" class=\"dataframe\">\n",
       "  <thead>\n",
       "    <tr style=\"text-align: right;\">\n",
       "      <th></th>\n",
       "      <th>prior</th>\n",
       "      <th>likelihood</th>\n",
       "      <th>unnorm</th>\n",
       "      <th>posterior</th>\n",
       "    </tr>\n",
       "  </thead>\n",
       "  <tbody>\n",
       "    <tr>\n",
       "      <th>A</th>\n",
       "      <td>0.5</td>\n",
       "      <td>0.040</td>\n",
       "      <td>0.020</td>\n",
       "      <td>0.740741</td>\n",
       "    </tr>\n",
       "    <tr>\n",
       "      <th>B</th>\n",
       "      <td>0.5</td>\n",
       "      <td>0.014</td>\n",
       "      <td>0.007</td>\n",
       "      <td>0.259259</td>\n",
       "    </tr>\n",
       "  </tbody>\n",
       "</table>\n",
       "</div>"
      ],
      "text/plain": [
       "   prior  likelihood  unnorm  posterior\n",
       "A    0.5       0.040   0.020   0.740741\n",
       "B    0.5       0.014   0.007   0.259259"
      ]
     },
     "execution_count": 23,
     "metadata": {},
     "output_type": "execute_result"
    }
   ],
   "source": [
    "# Solution\n",
    "\n",
    "# Hypotheses:\n",
    "# A: yellow from 94, green from 96\n",
    "# B: yellow from 96, green from 94\n",
    "\n",
    "table = pd.DataFrame(index=['A', 'B'])\n",
    "table['prior'] = 1/2\n",
    "table['likelihood'] = 0.2*0.2, 0.14*0.1\n",
    "\n",
    "table['unnorm'] = table['prior'] * table['likelihood']\n",
    "prob_data = table['unnorm'].sum()\n",
    "\n",
    "table['posterior'] = table['unnorm'] / prob_data\n",
    "table"
   ]
  },
  {
   "cell_type": "code",
   "execution_count": null,
   "metadata": {},
   "outputs": [],
   "source": []
  }
 ],
 "metadata": {
  "kernelspec": {
   "display_name": "Python 3",
   "language": "python",
   "name": "python3"
  },
  "language_info": {
   "codemirror_mode": {
    "name": "ipython",
    "version": 3
   },
   "file_extension": ".py",
   "mimetype": "text/x-python",
   "name": "python",
   "nbconvert_exporter": "python",
   "pygments_lexer": "ipython3",
   "version": "3.8.2"
  }
 },
 "nbformat": 4,
 "nbformat_minor": 2
}
