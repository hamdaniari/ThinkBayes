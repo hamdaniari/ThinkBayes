{
 "cells": [
  {
   "cell_type": "markdown",
   "metadata": {},
   "source": [
    "# Think Bayes\n",
    "\n",
    "Second Edition\n",
    "\n",
    "Copyright 2020 Allen B. Downey\n",
    "\n",
    "License: [Attribution-NonCommercial-ShareAlike 4.0 International (CC BY-NC-SA 4.0)](https://creativecommons.org/licenses/by-nc-sa/4.0/)"
   ]
  },
  {
   "cell_type": "code",
   "execution_count": 1,
   "metadata": {},
   "outputs": [],
   "source": [
    "# If we're running on Colab, install empiricaldist\n",
    "# https://pypi.org/project/empiricaldist/\n",
    "\n",
    "import sys\n",
    "IN_COLAB = 'google.colab' in sys.modules\n",
    "\n",
    "if IN_COLAB:\n",
    "    !pip install empiricaldist"
   ]
  },
  {
   "cell_type": "code",
   "execution_count": 2,
   "metadata": {},
   "outputs": [],
   "source": [
    "# Get utils.py and create directories\n",
    "\n",
    "import os\n",
    "\n",
    "if not os.path.exists('utils.py'):\n",
    "    !wget https://github.com/AllenDowney/ThinkBayes2/raw/master/code/soln/utils.py\n",
    "        \n",
    "if not os.path.exists('figs'):\n",
    "    !mkdir figs"
   ]
  },
  {
   "cell_type": "code",
   "execution_count": 3,
   "metadata": {},
   "outputs": [],
   "source": [
    "import numpy as np\n",
    "import pandas as pd\n",
    "import matplotlib.pyplot as plt\n",
    "\n",
    "from empiricaldist import Pmf, Cdf\n",
    "from utils import decorate, savefig"
   ]
  },
  {
   "cell_type": "markdown",
   "metadata": {},
   "source": [
    "## Introduction\n",
    "\n",
    "This chapter introduces \"survival analysis\", which is a set of statistical methods used to answer questions about the time until an event.\n",
    "In the context of medicine it is literally about survival, but more generally it applied to the time until any kind of event, or even more generally it can be about space or other dimensions.\n",
    "\n",
    "Survival analysis is challenging because the data we have are often incomplete.  But as we'll see, Bayesian methods are particularly good at working with incomplete data.\n",
    "\n",
    "As examples, we'll consider two applications that are a little less serious than life and death: the time until lightbulbs fail and the time until dogs in a shelter are adopted.\n",
    "\n",
    "To describe these \"survival times\", we'll use the Weibull distribution."
   ]
  },
  {
   "cell_type": "markdown",
   "metadata": {},
   "source": [
    "## The Weibull distribution\n",
    "\n",
    "The [Weibull distribution]() is often used in survival analysis because it models the distribution of lifetimes for manufactured products, at least over some parts of the range.\n",
    "\n",
    "SciPy provides implementations for several versions of the Weibull distribution; the one I'll use is called `weibull_min`.\n",
    "\n",
    "To make this implementation easier to use, I'll wrap it in a function that takes two parameters: $\\lambda$, which mostly affects the location or \"central tendency\" of the distribution, and $k$, which affects the shape."
   ]
  },
  {
   "cell_type": "code",
   "execution_count": 4,
   "metadata": {},
   "outputs": [],
   "source": [
    "from scipy.stats import weibull_min\n",
    "\n",
    "def weibull_dist(lam, k):\n",
    "    \"\"\"Makes a weibull object.\n",
    "    \"\"\"\n",
    "    return weibull_min(k, scale=lam)"
   ]
  },
  {
   "cell_type": "markdown",
   "metadata": {},
   "source": [
    "Here's an example."
   ]
  },
  {
   "cell_type": "code",
   "execution_count": 5,
   "metadata": {},
   "outputs": [],
   "source": [
    "lam = 3\n",
    "k = 0.8\n",
    "actual_dist = weibull_dist(lam, k)"
   ]
  },
  {
   "cell_type": "markdown",
   "metadata": {},
   "source": [
    "And here's what the CDF looks like with those parameters."
   ]
  },
  {
   "cell_type": "code",
   "execution_count": 6,
   "metadata": {},
   "outputs": [
    {
     "data": {
      "image/png": "[encoded data removed]",
      "text/plain": [
       "<Figure size 432x288 with 1 Axes>"
      ]
     },
     "metadata": {
      "needs_background": "light"
     },
     "output_type": "display_data"
    }
   ],
   "source": [
    "qs = np.linspace(0, 12, 101)\n",
    "ps = actual_dist.cdf(qs)\n",
    "cdf = Cdf(ps, qs)\n",
    "cdf.plot()"
   ]
  },
  {
   "cell_type": "markdown",
   "metadata": {},
   "source": [
    "Given the parameters, we can generate a random dataset, like this."
   ]
  },
  {
   "cell_type": "code",
   "execution_count": 7,
   "metadata": {},
   "outputs": [
    {
     "data": {
      "text/plain": [
       "array([0.80497283, 2.11577082, 0.43308797, 0.10862644, 5.17334866,\n",
       "       3.25745053, 3.05555883, 2.47401062, 0.05340806, 1.08386395])"
      ]
     },
     "execution_count": 7,
     "metadata": {},
     "output_type": "execute_result"
    }
   ],
   "source": [
    "np.random.seed(17)\n",
    "data = actual_dist.rvs(10)\n",
    "data"
   ]
  },
  {
   "cell_type": "markdown",
   "metadata": {},
   "source": [
    "Now let's see if we can go the other way: given the data, we'll estimate the parameters.\n",
    "\n",
    "Here's a uniform prior distribution for $\\lambda$:"
   ]
  },
  {
   "cell_type": "code",
   "execution_count": 8,
   "metadata": {},
   "outputs": [
    {
     "data": {
      "text/plain": [
       "101"
      ]
     },
     "execution_count": 8,
     "metadata": {},
     "output_type": "execute_result"
    }
   ],
   "source": [
    "lams = np.linspace(0.1, 10, 101)\n",
    "prior_lam = Pmf(1, lams)\n",
    "prior_lam.index.name = 'lambda'\n",
    "prior_lam.normalize()"
   ]
  },
  {
   "cell_type": "markdown",
   "metadata": {},
   "source": [
    "And a uniform prior for $k$:"
   ]
  },
  {
   "cell_type": "code",
   "execution_count": 9,
   "metadata": {},
   "outputs": [
    {
     "data": {
      "text/plain": [
       "101"
      ]
     },
     "execution_count": 9,
     "metadata": {},
     "output_type": "execute_result"
    }
   ],
   "source": [
    "ks = np.linspace(0.1, 5, 101)\n",
    "prior_k = Pmf(1, ks)\n",
    "prior_k.index.name = 'k'\n",
    "prior_k.normalize()"
   ]
  },
  {
   "cell_type": "markdown",
   "metadata": {},
   "source": [
    "As we've see before, I'll use `make_joint` to make a joint prior distribution for the two parameters."
   ]
  },
  {
   "cell_type": "code",
   "execution_count": 10,
   "metadata": {},
   "outputs": [],
   "source": [
    "def make_joint(s1, s2):\n",
    "    \"\"\"Compute the outer product of two Series.\n",
    "    \n",
    "    First Series across the columns;\n",
    "    second goes goes down the rows.\n",
    "    \n",
    "    s1: Series\n",
    "    s2: Series\n",
    "    \n",
    "    return: DataFrame\n",
    "    \"\"\"\n",
    "    X, Y = np.meshgrid(s1, s2)\n",
    "    return pd.DataFrame(X*Y, columns=s1.index, index=s2.index)"
   ]
  },
  {
   "cell_type": "code",
   "execution_count": 11,
   "metadata": {},
   "outputs": [],
   "source": [
    "prior = make_joint(prior_lam, prior_k)"
   ]
  },
  {
   "cell_type": "markdown",
   "metadata": {},
   "source": [
    "Now I'll use `meshgrid` to make a 3-D mesh with $\\lambda$ on the first axis (numbered `axis=0`), $k$ on the second axis (`axis=1`), and the data on the third axis (`axis=2`)."
   ]
  },
  {
   "cell_type": "code",
   "execution_count": 12,
   "metadata": {},
   "outputs": [],
   "source": [
    "lam_mesh, k_mesh, data_mesh = np.meshgrid(prior.columns, prior.index, data)"
   ]
  },
  {
   "cell_type": "markdown",
   "metadata": {},
   "source": [
    "Now we can use `weibull_dist` to compute the PDF of the Weibull distribution for each pair of parameters and each data point."
   ]
  },
  {
   "cell_type": "code",
   "execution_count": 13,
   "metadata": {},
   "outputs": [
    {
     "data": {
      "text/plain": [
       "(101, 101, 10)"
      ]
     },
     "execution_count": 13,
     "metadata": {},
     "output_type": "execute_result"
    }
   ],
   "source": [
    "densities = weibull_dist(lam_mesh, k_mesh).pdf(data_mesh)\n",
    "densities.shape"
   ]
  },
  {
   "cell_type": "markdown",
   "metadata": {},
   "source": [
    "The likelihood of the data is the product of the probability densities along `axis=2`, which is the axis of the dataset."
   ]
  },
  {
   "cell_type": "code",
   "execution_count": 14,
   "metadata": {},
   "outputs": [
    {
     "data": {
      "text/plain": [
       "2.1579134255822728e-05"
      ]
     },
     "execution_count": 14,
     "metadata": {},
     "output_type": "execute_result"
    }
   ],
   "source": [
    "likelihood = densities.prod(axis=2)\n",
    "likelihood.sum()"
   ]
  },
  {
   "cell_type": "markdown",
   "metadata": {},
   "source": [
    "Now we can compute the posterior distribution in the usual way."
   ]
  },
  {
   "cell_type": "code",
   "execution_count": 15,
   "metadata": {},
   "outputs": [],
   "source": [
    "from utils import normalize\n",
    "\n",
    "posterior = prior * likelihood\n",
    "normalize(posterior)"
   ]
  },
  {
   "cell_type": "markdown",
   "metadata": {},
   "source": [
    "The following function encapsulates these steps.  \n",
    "It takes a joint prior distribution and the data, and returns a joint posterior distribution."
   ]
  },
  {
   "cell_type": "code",
   "execution_count": 16,
   "metadata": {},
   "outputs": [],
   "source": [
    "from utils import normalize\n",
    "\n",
    "def update_weibull(prior, data):\n",
    "    \"\"\"Update the prior based on data.\n",
    "    \n",
    "    prior: joint distribution of mu and sigma\n",
    "    data: sequence of observations\n",
    "    \"\"\"\n",
    "    lam_mesh, k_mesh, data_mesh = np.meshgrid(prior.columns, prior.index, data)\n",
    "    densities = weibull_dist(lam_mesh, k_mesh).pdf(data_mesh)\n",
    "    likelihood = densities.prod(axis=2)\n",
    "\n",
    "    posterior = prior * likelihood\n",
    "    normalize(posterior)\n",
    "\n",
    "    return posterior"
   ]
  },
  {
   "cell_type": "markdown",
   "metadata": {},
   "source": [
    "Here's how we use it."
   ]
  },
  {
   "cell_type": "code",
   "execution_count": 17,
   "metadata": {},
   "outputs": [],
   "source": [
    "posterior = update_weibull(prior, data)"
   ]
  },
  {
   "cell_type": "markdown",
   "metadata": {},
   "source": [
    "I'll use `plot_contour` to display the results."
   ]
  },
  {
   "cell_type": "code",
   "execution_count": 18,
   "metadata": {},
   "outputs": [],
   "source": [
    "def plot_contour(joint, **options):\n",
    "    \"\"\"Plot a joint distribution.\n",
    "    \n",
    "    joint: DataFrame representing a joint PMF\n",
    "    \"\"\"\n",
    "    cs = plt.contour(joint.columns, joint.index, joint, **options)\n",
    "    decorate(xlabel=joint.columns.name, \n",
    "             ylabel=joint.index.name)\n",
    "    return cs"
   ]
  },
  {
   "cell_type": "code",
   "execution_count": 19,
   "metadata": {},
   "outputs": [
    {
     "data": {
      "image/png": "[encoded data removed]",
      "text/plain": [
       "<Figure size 432x288 with 1 Axes>"
      ]
     },
     "metadata": {
      "needs_background": "light"
     },
     "output_type": "display_data"
    }
   ],
   "source": [
    "plot_contour(posterior)\n",
    "decorate(title='Posterior joint distribution of Weibull parameters')\n",
    "savefig('fig12-01')"
   ]
  },
  {
   "cell_type": "markdown",
   "metadata": {},
   "source": [
    "The blob in the lower left contains almost all of the probability density; the jaggy line in the upper left is an irrelevent boundary between regions of very low probability.\n",
    "\n",
    "It looks like the range of likely values for $\\lambda$ is about 1 to 4, which contains the actual value we used to generate the data, 3.\n",
    "And the range for $k$ is about 0.5 to 1.5, which contains the actual value, 0.8."
   ]
  },
  {
   "cell_type": "markdown",
   "metadata": {},
   "source": [
    "## Marginal distributions\n",
    "\n",
    "To be more precise about these ranges, we can extract the marginal distributions:"
   ]
  },
  {
   "cell_type": "code",
   "execution_count": 20,
   "metadata": {},
   "outputs": [],
   "source": [
    "from utils import marginal\n",
    "\n",
    "posterior_lam = marginal(posterior, 0)\n",
    "posterior_k = marginal(posterior, 1)"
   ]
  },
  {
   "cell_type": "markdown",
   "metadata": {},
   "source": [
    "And compute the posterior means and 90% credible intervals."
   ]
  },
  {
   "cell_type": "code",
   "execution_count": 21,
   "metadata": {},
   "outputs": [
    {
     "data": {
      "text/plain": [
       "(2.406081938305909, array([1.189, 4.357]))"
      ]
     },
     "execution_count": 21,
     "metadata": {},
     "output_type": "execute_result"
    },
    {
     "data": {
      "image/png": "[encoded data removed]",
      "text/plain": [
       "<Figure size 432x288 with 1 Axes>"
      ]
     },
     "metadata": {
      "needs_background": "light"
     },
     "output_type": "display_data"
    }
   ],
   "source": [
    "posterior_lam.plot()\n",
    "plt.axvline(3, color='gray')\n",
    "decorate(xlabel='lam',\n",
    "         ylabel='PDF', \n",
    "         title='Posterior marginal distribution of lam')\n",
    "\n",
    "posterior_lam.mean(), posterior_lam.credible_interval(0.9)"
   ]
  },
  {
   "cell_type": "markdown",
   "metadata": {},
   "source": [
    "The vertical gray line show the actual value of $\\lambda$."
   ]
  },
  {
   "cell_type": "code",
   "execution_count": 22,
   "metadata": {},
   "outputs": [
    {
     "data": {
      "text/plain": [
       "(0.9640523544883197, array([0.59 , 1.423]))"
      ]
     },
     "execution_count": 22,
     "metadata": {},
     "output_type": "execute_result"
    },
    {
     "data": {
      "image/png": "[encoded data removed]",
      "text/plain": [
       "<Figure size 432x288 with 1 Axes>"
      ]
     },
     "metadata": {
      "needs_background": "light"
     },
     "output_type": "display_data"
    }
   ],
   "source": [
    "posterior_k.plot()\n",
    "plt.axvline(0.8, color='gray')\n",
    "decorate(xlabel='k',\n",
    "         ylabel='PDF', \n",
    "         title='Posterior marginal distribution of k')\n",
    "\n",
    "posterior_k.mean(), posterior_k.credible_interval(0.9)"
   ]
  },
  {
   "cell_type": "markdown",
   "metadata": {},
   "source": [
    "The posterior distributions are wide, which means that with only 10 data points we can't estimated the parameters precisely.\n",
    "But for both parameters, the actual value falls in the credible interval."
   ]
  },
  {
   "cell_type": "code",
   "execution_count": 23,
   "metadata": {},
   "outputs": [
    {
     "data": {
      "image/png": "[encoded data removed]",
      "text/plain": [
       "<Figure size 576x288 with 2 Axes>"
      ]
     },
     "metadata": {
      "needs_background": "light"
     },
     "output_type": "display_data"
    }
   ],
   "source": [
    "plt.figure(figsize=(8, 4))\n",
    "\n",
    "plt.subplot(1, 2, 1)\n",
    "posterior_lam.plot()\n",
    "plt.axvline(3, color='gray')\n",
    "decorate(xlabel='lam',\n",
    "         ylabel='PDF', \n",
    "         title='Posterior marginal distribution of lam')\n",
    "\n",
    "plt.subplot(1, 2, 2)\n",
    "posterior_k.plot()\n",
    "plt.axvline(0.8, color='gray')\n",
    "decorate(xlabel='k',\n",
    "         ylabel='PDF', \n",
    "         title='Posterior marginal distribution of k')\n",
    "\n",
    "savefig('fig12-02')"
   ]
  },
  {
   "cell_type": "markdown",
   "metadata": {},
   "source": [
    "## Incomplete data\n",
    "\n",
    "In the previous example we were given 10 random values from a Weibull distribution, and we used them to estimate the parameters (which we pretended we didn't know).\n",
    "\n",
    "But in many real-world scenarios, we don't have complete data; in particular, when we observe a system at a point in time, we generally have information about the past, but not the future.\n",
    "\n",
    "As an example, suppose you work at a dog shelter and you are interested in the time between the arrival of a new dog and when it is adopted.\n",
    "Some dogs might be snapped up immediately; others might have to wait longer.\n",
    "The people who operate the shelter might want to make inferences about the distribution of these residence times.\n",
    "\n",
    "Suppose you monitor arrivals and departures over a 8 weeks, and 10 dogs arrive during that period.\n",
    "I'll assume that their arrival times are distributed uniformly, so I'll generate random values like this."
   ]
  },
  {
   "cell_type": "code",
   "execution_count": 24,
   "metadata": {},
   "outputs": [
    {
     "data": {
      "text/plain": [
       "3.8042181089023757"
      ]
     },
     "execution_count": 24,
     "metadata": {},
     "output_type": "execute_result"
    }
   ],
   "source": [
    "np.random.seed(19)\n",
    "start = np.random.uniform(0, 8, size=10)\n",
    "start.mean()"
   ]
  },
  {
   "cell_type": "markdown",
   "metadata": {},
   "source": [
    "Now let's suppose that the dataset we generated in the previous section contains the residence times of the 10 dogs in weeks.\n",
    "We can use it to construct a `DataFrame` that contains the arrival time and departure time for each dog, `start` and `end`.\n",
    "And I'll add a third column, `status`, which indicates whether the dog has been adopted."
   ]
  },
  {
   "cell_type": "code",
   "execution_count": 25,
   "metadata": {},
   "outputs": [
    {
     "data": {
      "text/html": [
       "<div>\n",
       "<style scoped>\n",
       "    .dataframe tbody tr th:only-of-type {\n",
       "        vertical-align: middle;\n",
       "    }\n",
       "\n",
       "    .dataframe tbody tr th {\n",
       "        vertical-align: top;\n",
       "    }\n",
       "\n",
       "    .dataframe thead th {\n",
       "        text-align: right;\n",
       "    }\n",
       "</style>\n",
       "<table border=\"1\" class=\"dataframe\">\n",
       "  <thead>\n",
       "    <tr style=\"text-align: right;\">\n",
       "      <th></th>\n",
       "      <th>start</th>\n",
       "      <th>end</th>\n",
       "      <th>status</th>\n",
       "    </tr>\n",
       "  </thead>\n",
       "  <tbody>\n",
       "    <tr>\n",
       "      <th>0</th>\n",
       "      <td>0.663997</td>\n",
       "      <td>3.921447</td>\n",
       "      <td>1</td>\n",
       "    </tr>\n",
       "    <tr>\n",
       "      <th>1</th>\n",
       "      <td>0.780269</td>\n",
       "      <td>1.585242</td>\n",
       "      <td>1</td>\n",
       "    </tr>\n",
       "    <tr>\n",
       "      <th>2</th>\n",
       "      <td>1.105053</td>\n",
       "      <td>1.213680</td>\n",
       "      <td>1</td>\n",
       "    </tr>\n",
       "    <tr>\n",
       "      <th>3</th>\n",
       "      <td>1.975504</td>\n",
       "      <td>2.408592</td>\n",
       "      <td>1</td>\n",
       "    </tr>\n",
       "    <tr>\n",
       "      <th>4</th>\n",
       "      <td>2.651573</td>\n",
       "      <td>7.824921</td>\n",
       "      <td>1</td>\n",
       "    </tr>\n",
       "    <tr>\n",
       "      <th>5</th>\n",
       "      <td>5.085286</td>\n",
       "      <td>6.169150</td>\n",
       "      <td>1</td>\n",
       "    </tr>\n",
       "    <tr>\n",
       "      <th>6</th>\n",
       "      <td>5.375817</td>\n",
       "      <td>8.431375</td>\n",
       "      <td>1</td>\n",
       "    </tr>\n",
       "    <tr>\n",
       "      <th>7</th>\n",
       "      <td>6.089998</td>\n",
       "      <td>8.205769</td>\n",
       "      <td>1</td>\n",
       "    </tr>\n",
       "    <tr>\n",
       "      <th>8</th>\n",
       "      <td>6.452750</td>\n",
       "      <td>8.926761</td>\n",
       "      <td>1</td>\n",
       "    </tr>\n",
       "    <tr>\n",
       "      <th>9</th>\n",
       "      <td>7.861935</td>\n",
       "      <td>7.915343</td>\n",
       "      <td>1</td>\n",
       "    </tr>\n",
       "  </tbody>\n",
       "</table>\n",
       "</div>"
      ],
      "text/plain": [
       "      start       end  status\n",
       "0  0.663997  3.921447       1\n",
       "1  0.780269  1.585242       1\n",
       "2  1.105053  1.213680       1\n",
       "3  1.975504  2.408592       1\n",
       "4  2.651573  7.824921       1\n",
       "5  5.085286  6.169150       1\n",
       "6  5.375817  8.431375       1\n",
       "7  6.089998  8.205769       1\n",
       "8  6.452750  8.926761       1\n",
       "9  7.861935  7.915343       1"
      ]
     },
     "execution_count": 25,
     "metadata": {},
     "output_type": "execute_result"
    }
   ],
   "source": [
    "obs = pd.DataFrame()\n",
    "\n",
    "obs['start'] = start\n",
    "obs['end'] = start + data\n",
    "obs['status'] = 1\n",
    "\n",
    "obs = obs.sort_values(by='start', ignore_index=True)\n",
    "obs"
   ]
  },
  {
   "cell_type": "markdown",
   "metadata": {},
   "source": [
    "I'll use the following function to plot a \"lifeline\" for each dog, showing the arrival and departure times on a time line."
   ]
  },
  {
   "cell_type": "code",
   "execution_count": 26,
   "metadata": {},
   "outputs": [],
   "source": [
    "def plot_lifelines(obs):\n",
    "    \"\"\"Plot a line for each observation.\n",
    "    \n",
    "    obs: DataFrame\n",
    "    \"\"\"\n",
    "    for y, row in obs.iterrows():\n",
    "        start = row['start']\n",
    "        end = row['end']\n",
    "        status = row['status']\n",
    "        \n",
    "        if status == 0:\n",
    "            # ongoing\n",
    "            plt.hlines(y, start, end, color='C0')\n",
    "        else:\n",
    "            # complete\n",
    "            plt.hlines(y, start, end, color='C1')\n",
    "            plt.plot(end, y, marker='o', color='C1')\n",
    "            \n",
    "    decorate(xlabel='Time (weeks)',\n",
    "             ylabel='Dog index')\n",
    "\n",
    "    plt.gca().invert_yaxis()"
   ]
  },
  {
   "cell_type": "markdown",
   "metadata": {},
   "source": [
    "And here's what it looks like for the data we just generated."
   ]
  },
  {
   "cell_type": "code",
   "execution_count": 27,
   "metadata": {},
   "outputs": [
    {
     "data": {
      "image/png": "[encoded data removed]",
      "text/plain": [
       "<Figure size 432x288 with 1 Axes>"
      ]
     },
     "metadata": {
      "needs_background": "light"
     },
     "output_type": "display_data"
    }
   ],
   "source": [
    "plot_lifelines(obs)"
   ]
  },
  {
   "cell_type": "markdown",
   "metadata": {},
   "source": [
    "The start times are disributed uniformly, but the lengths of the lines are highly variable.  For example, Dog 2 was adopted almost immediately; Dog 4 had to wait more than 5 weeks.\n",
    "\n",
    "But notice that several of the lifelines extend past the observation window of 8 weeks.\n",
    "So if we observed this system at the beginning of Week 8, we would have incomplete information.\n",
    "Specifically, we would not know the future adoption times for Dogs 6, 7, and 8.\n",
    "\n",
    "I'll simulate this incomplete data by identifying the lifelines that extend past the observation window:"
   ]
  },
  {
   "cell_type": "code",
   "execution_count": 28,
   "metadata": {},
   "outputs": [],
   "source": [
    "obs2 = obs.copy()\n",
    "censored = obs2['end'] > 8"
   ]
  },
  {
   "cell_type": "markdown",
   "metadata": {},
   "source": [
    "`censored` is a  Boolean Series that is `True` for lifelines that extend past Week 8.\n",
    "\n",
    "Data that is not available is sometimes called \"censored\" in the sense that it is hidden from us.\n",
    "But in this case it is hidden because we don't know the future, not because someone is censoring it.\n",
    "\n",
    "For the lifelines that are censored, I'll modify `end` to indicate when they are last observed and `status` to indicate that the observation is incomplete. "
   ]
  },
  {
   "cell_type": "code",
   "execution_count": 29,
   "metadata": {},
   "outputs": [],
   "source": [
    "obs2.loc[censored, 'end'] = 8\n",
    "obs2.loc[censored, 'status'] = 0"
   ]
  },
  {
   "cell_type": "markdown",
   "metadata": {},
   "source": [
    "And we can plot the results to show both complete and incomplete lifelines."
   ]
  },
  {
   "cell_type": "code",
   "execution_count": 30,
   "metadata": {},
   "outputs": [
    {
     "data": {
      "image/png": "[encoded data removed]",
      "text/plain": [
       "<Figure size 432x288 with 1 Axes>"
      ]
     },
     "metadata": {
      "needs_background": "light"
     },
     "output_type": "display_data"
    }
   ],
   "source": [
    "plot_lifelines(obs2)"
   ]
  },
  {
   "cell_type": "markdown",
   "metadata": {},
   "source": [
    "And I'll add one more column to the table, which contains the duration of the observed parts of the lifelines."
   ]
  },
  {
   "cell_type": "code",
   "execution_count": 31,
   "metadata": {},
   "outputs": [
    {
     "data": {
      "text/html": [
       "<div>\n",
       "<style scoped>\n",
       "    .dataframe tbody tr th:only-of-type {\n",
       "        vertical-align: middle;\n",
       "    }\n",
       "\n",
       "    .dataframe tbody tr th {\n",
       "        vertical-align: top;\n",
       "    }\n",
       "\n",
       "    .dataframe thead th {\n",
       "        text-align: right;\n",
       "    }\n",
       "</style>\n",
       "<table border=\"1\" class=\"dataframe\">\n",
       "  <thead>\n",
       "    <tr style=\"text-align: right;\">\n",
       "      <th></th>\n",
       "      <th>start</th>\n",
       "      <th>end</th>\n",
       "      <th>status</th>\n",
       "      <th>T</th>\n",
       "    </tr>\n",
       "  </thead>\n",
       "  <tbody>\n",
       "    <tr>\n",
       "      <th>0</th>\n",
       "      <td>0.663997</td>\n",
       "      <td>3.921447</td>\n",
       "      <td>1</td>\n",
       "      <td>3.257451</td>\n",
       "    </tr>\n",
       "    <tr>\n",
       "      <th>1</th>\n",
       "      <td>0.780269</td>\n",
       "      <td>1.585242</td>\n",
       "      <td>1</td>\n",
       "      <td>0.804973</td>\n",
       "    </tr>\n",
       "    <tr>\n",
       "      <th>2</th>\n",
       "      <td>1.105053</td>\n",
       "      <td>1.213680</td>\n",
       "      <td>1</td>\n",
       "      <td>0.108626</td>\n",
       "    </tr>\n",
       "    <tr>\n",
       "      <th>3</th>\n",
       "      <td>1.975504</td>\n",
       "      <td>2.408592</td>\n",
       "      <td>1</td>\n",
       "      <td>0.433088</td>\n",
       "    </tr>\n",
       "    <tr>\n",
       "      <th>4</th>\n",
       "      <td>2.651573</td>\n",
       "      <td>7.824921</td>\n",
       "      <td>1</td>\n",
       "      <td>5.173349</td>\n",
       "    </tr>\n",
       "    <tr>\n",
       "      <th>5</th>\n",
       "      <td>5.085286</td>\n",
       "      <td>6.169150</td>\n",
       "      <td>1</td>\n",
       "      <td>1.083864</td>\n",
       "    </tr>\n",
       "    <tr>\n",
       "      <th>6</th>\n",
       "      <td>5.375817</td>\n",
       "      <td>8.000000</td>\n",
       "      <td>0</td>\n",
       "      <td>2.624183</td>\n",
       "    </tr>\n",
       "    <tr>\n",
       "      <th>7</th>\n",
       "      <td>6.089998</td>\n",
       "      <td>8.000000</td>\n",
       "      <td>0</td>\n",
       "      <td>1.910002</td>\n",
       "    </tr>\n",
       "    <tr>\n",
       "      <th>8</th>\n",
       "      <td>6.452750</td>\n",
       "      <td>8.000000</td>\n",
       "      <td>0</td>\n",
       "      <td>1.547250</td>\n",
       "    </tr>\n",
       "    <tr>\n",
       "      <th>9</th>\n",
       "      <td>7.861935</td>\n",
       "      <td>7.915343</td>\n",
       "      <td>1</td>\n",
       "      <td>0.053408</td>\n",
       "    </tr>\n",
       "  </tbody>\n",
       "</table>\n",
       "</div>"
      ],
      "text/plain": [
       "      start       end  status         T\n",
       "0  0.663997  3.921447       1  3.257451\n",
       "1  0.780269  1.585242       1  0.804973\n",
       "2  1.105053  1.213680       1  0.108626\n",
       "3  1.975504  2.408592       1  0.433088\n",
       "4  2.651573  7.824921       1  5.173349\n",
       "5  5.085286  6.169150       1  1.083864\n",
       "6  5.375817  8.000000       0  2.624183\n",
       "7  6.089998  8.000000       0  1.910002\n",
       "8  6.452750  8.000000       0  1.547250\n",
       "9  7.861935  7.915343       1  0.053408"
      ]
     },
     "execution_count": 31,
     "metadata": {},
     "output_type": "execute_result"
    }
   ],
   "source": [
    "obs2['T'] = obs2['end'] - obs2['start']\n",
    "obs2"
   ]
  },
  {
   "cell_type": "markdown",
   "metadata": {},
   "source": [
    "What we have simulated is the data that would be available at the beginning of Week 8."
   ]
  },
  {
   "cell_type": "markdown",
   "metadata": {},
   "source": [
    "## Using incomplete data\n",
    "\n",
    "Now, let's see how we can use both kinds of data, complete and incomplete, to infer the parameters of the distribution of residence times.\n",
    "\n",
    "First I'll split the data into two sets: `data1` contains residence times for dogs whose arrival and departure times are known; `data2` contains incomplete residence times for dogs who were not adopted during the observation interval."
   ]
  },
  {
   "cell_type": "code",
   "execution_count": 32,
   "metadata": {},
   "outputs": [
    {
     "data": {
      "text/plain": [
       "0    3.257451\n",
       "1    0.804973\n",
       "2    0.108626\n",
       "3    0.433088\n",
       "4    5.173349\n",
       "5    1.083864\n",
       "9    0.053408\n",
       "Name: T, dtype: float64"
      ]
     },
     "execution_count": 32,
     "metadata": {},
     "output_type": "execute_result"
    }
   ],
   "source": [
    "complete = obs2['status'] == 1\n",
    "data1 = obs2.loc[complete, 'T']\n",
    "data1"
   ]
  },
  {
   "cell_type": "code",
   "execution_count": 33,
   "metadata": {},
   "outputs": [
    {
     "data": {
      "text/plain": [
       "6    2.624183\n",
       "7    1.910002\n",
       "8    1.547250\n",
       "Name: T, dtype: float64"
      ]
     },
     "execution_count": 33,
     "metadata": {},
     "output_type": "execute_result"
    }
   ],
   "source": [
    "data2 = obs2.loc[~complete, 'T']\n",
    "data2"
   ]
  },
  {
   "cell_type": "markdown",
   "metadata": {},
   "source": [
    "For the complete data, we can use `update_weibull`, which uses the PDF of the Weibull distribution to compute the likelihood of the data."
   ]
  },
  {
   "cell_type": "code",
   "execution_count": 34,
   "metadata": {},
   "outputs": [],
   "source": [
    "posterior1 = update_weibull(prior, data1)"
   ]
  },
  {
   "cell_type": "markdown",
   "metadata": {},
   "source": [
    "For the incomplete data, we have to think a little harder.\n",
    "At the end of the observation interval, we don't know what the residence time will be, but we can put a lower bound on it; that is, we can say that the residence time will be greater than `T`.\n",
    "\n",
    "And that means that we can compute the likelihood of the data using the survival function, which is the probability that a value from the distribution exceeds `T`.\n",
    "\n",
    "The following function is identical to `update_weibull` except that it uses `sf`, which computes the survival function, rather than `pdf`."
   ]
  },
  {
   "cell_type": "code",
   "execution_count": 35,
   "metadata": {},
   "outputs": [],
   "source": [
    "from utils import normalize\n",
    "\n",
    "def update_weibull_incomplete(prior, data):\n",
    "    \"\"\"Update the prior based on data.\n",
    "    \n",
    "    prior: joint distribution of mu and sigma\n",
    "    data: sequence of observations\n",
    "    \"\"\"\n",
    "    lam_mesh, k_mesh, data_mesh = np.meshgrid(prior.columns, prior.index, data)\n",
    "    densities = weibull_dist(lam_mesh, k_mesh).sf(data_mesh)\n",
    "    likelihood = densities.prod(axis=2)\n",
    "\n",
    "    posterior = prior * likelihood\n",
    "    normalize(posterior)\n",
    "\n",
    "    return posterior"
   ]
  },
  {
   "cell_type": "markdown",
   "metadata": {},
   "source": [
    "Here's the update with the incomplete data."
   ]
  },
  {
   "cell_type": "code",
   "execution_count": 36,
   "metadata": {},
   "outputs": [],
   "source": [
    "posterior2 = update_weibull_incomplete(posterior1, data2)"
   ]
  },
  {
   "cell_type": "markdown",
   "metadata": {},
   "source": [
    "And here's what the joint posterior distribution looks like after both updates."
   ]
  },
  {
   "cell_type": "code",
   "execution_count": 37,
   "metadata": {},
   "outputs": [
    {
     "data": {
      "image/png": "[encoded data removed]",
      "text/plain": [
       "<Figure size 432x288 with 1 Axes>"
      ]
     },
     "metadata": {
      "needs_background": "light"
     },
     "output_type": "display_data"
    }
   ],
   "source": [
    "plot_contour(posterior2)\n",
    "\n",
    "savefig('fig12-03')"
   ]
  },
  {
   "cell_type": "markdown",
   "metadata": {},
   "source": [
    "Compared to the previous contour plot, it looks like the range of likely values for $\\lambda$ is substantially wider.\n",
    "We can see that more clearly by looking at the marginal distributions."
   ]
  },
  {
   "cell_type": "code",
   "execution_count": 38,
   "metadata": {},
   "outputs": [],
   "source": [
    "posterior_lam2 = marginal(posterior2, 0)\n",
    "posterior_k2 = marginal(posterior2, 1)"
   ]
  },
  {
   "cell_type": "markdown",
   "metadata": {},
   "source": [
    "Here's the posterior marginal distribution for $\\lambda$ compared to the distribution we got using all complete data."
   ]
  },
  {
   "cell_type": "code",
   "execution_count": 39,
   "metadata": {},
   "outputs": [
    {
     "data": {
      "text/plain": [
       "(2.406081938305909, array([1.189, 4.357]))"
      ]
     },
     "execution_count": 39,
     "metadata": {},
     "output_type": "execute_result"
    },
    {
     "data": {
      "image/png": "[encoded data removed]",
      "text/plain": [
       "<Figure size 432x288 with 1 Axes>"
      ]
     },
     "metadata": {
      "needs_background": "light"
     },
     "output_type": "display_data"
    }
   ],
   "source": [
    "posterior_lam.plot(color='gray', label='all complete')\n",
    "posterior_lam2.plot(label='some censored')\n",
    "\n",
    "decorate(xlabel='lam',\n",
    "         ylabel='PDF', \n",
    "         title='Posterior marginal distribution of lam')\n",
    "\n",
    "posterior_lam.mean(), posterior_lam.credible_interval(0.9)"
   ]
  },
  {
   "cell_type": "markdown",
   "metadata": {},
   "source": [
    "Visually, the distribution with some incomplete data is substantially wider, and the 90% credible interval is wider, too.\n",
    "\n",
    "As an aside, notice that the posterior distribution does not come all the way to 0 on the right side.\n",
    "That suggests that the range of the prior distribution is not wide enough to cover the most likely values for this parameter.\n",
    "If I were concerned about making this distribution more accurate, I would go back and run the update again with a wider prior.\n",
    "\n",
    "Here's the posterior marginal distribution for $k$:"
   ]
  },
  {
   "cell_type": "code",
   "execution_count": 40,
   "metadata": {},
   "outputs": [
    {
     "data": {
      "text/plain": [
       "(0.9640523544883197, array([0.59 , 1.423]))"
      ]
     },
     "execution_count": 40,
     "metadata": {},
     "output_type": "execute_result"
    },
    {
     "data": {
      "image/png": "[encoded data removed]",
      "text/plain": [
       "<Figure size 432x288 with 1 Axes>"
      ]
     },
     "metadata": {
      "needs_background": "light"
     },
     "output_type": "display_data"
    }
   ],
   "source": [
    "posterior_k.plot(color='gray', label='all complete')\n",
    "posterior_k2.plot(label='some censored')\n",
    "\n",
    "plt.axvline(0.8, color='gray')\n",
    "decorate(xlabel='k',\n",
    "         ylabel='PDF', \n",
    "         title='Posterior marginal distribution of k')\n",
    "\n",
    "posterior_k.mean(), posterior_k.credible_interval(0.9)"
   ]
  },
  {
   "cell_type": "markdown",
   "metadata": {},
   "source": [
    "In this example, the marginal distribution is shifted to the left when we have incomplete data, but it is not substantially wider.\n",
    "\n",
    "In summary, we have seen how to combine complete and incomplete data to estimate the parameters of a Weibull distribution, which is useful in many real-world scenarios where some of the data are censored.\n",
    "\n",
    "In general, the posterior distributions are wider when we have incomplete data, because less information leads to more uncertainty.\n",
    "\n",
    "This example is based on data I generated; in the next section we'll do a similar analysis with real data."
   ]
  },
  {
   "cell_type": "code",
   "execution_count": 41,
   "metadata": {},
   "outputs": [
    {
     "data": {
      "image/png": "[encoded data removed]",
      "text/plain": [
       "<Figure size 576x288 with 2 Axes>"
      ]
     },
     "metadata": {
      "needs_background": "light"
     },
     "output_type": "display_data"
    }
   ],
   "source": [
    "plt.figure(figsize=(8, 4))\n",
    "\n",
    "plt.subplot(1, 2, 1)\n",
    "posterior_lam.plot(color='gray', label='all complete')\n",
    "posterior_lam2.plot(label='some censored')\n",
    "decorate(xlabel='lam',\n",
    "         ylabel='PDF', \n",
    "         title='Posterior marginal distribution of lam')\n",
    "\n",
    "plt.subplot(1, 2, 2)\n",
    "posterior_k.plot(color='gray', label='all complete')\n",
    "posterior_k2.plot(label='some censored')\n",
    "decorate(xlabel='k',\n",
    "         ylabel='PDF', \n",
    "         title='Posterior marginal distribution of k')\n",
    "\n",
    "savefig('fig12-04')"
   ]
  },
  {
   "cell_type": "markdown",
   "metadata": {},
   "source": [
    "## Lightbulbs\n",
    "\n",
    "In 2007 [researchers ran an experiment](https://www.researchgate.net/publication/225450325_Renewal_Rate_of_Filament_Lamps_Theory_and_Experiment) to characterize the distribution of lifetimes for lightbulbs.\n",
    "\n",
    "Here is their description of the experiment:\n",
    "\n",
    "> An assembly of 50 new Philips (India) lamps with the rating 40 W, 220 V (AC) was taken and installed in the horizontal orientation and uniformly distributed over a lab area 11 m x 7 m.\n",
    ">\n",
    "> The assembly was monitored at regular intervals of 12 h to look for failures. The instants of recorded failures were [recorded] and a total of 32 data points were obtained such that even the last bulb failed. \n",
    "\n",
    "The data were reported in the following columns:\n",
    "\n",
    "```\n",
    "i - observation number\n",
    "h - time in hours since experiment start\n",
    "f - number of failed lamps at particular time h\n",
    "K - number of surviving lamps  at particular time h\n",
    "```\n",
    "\n",
    "We can download the data here:"
   ]
  },
  {
   "cell_type": "code",
   "execution_count": 42,
   "metadata": {},
   "outputs": [],
   "source": [
    "# Load the data file\n",
    "\n",
    "datafile = 'lamps.csv'\n",
    "if not os.path.exists(datafile):\n",
    "    !wget https://gist.github.com/epogrebnyak/7933e16c0ad215742c4c104be4fbdeb1/raw/c932bc5b6aa6317770c4cbf43eb591511fec08f9/lamps.csv"
   ]
  },
  {
   "cell_type": "markdown",
   "metadata": {},
   "source": [
    "And load it into a `DataFrame` like this:"
   ]
  },
  {
   "cell_type": "code",
   "execution_count": 43,
   "metadata": {},
   "outputs": [
    {
     "data": {
      "text/html": [
       "<div>\n",
       "<style scoped>\n",
       "    .dataframe tbody tr th:only-of-type {\n",
       "        vertical-align: middle;\n",
       "    }\n",
       "\n",
       "    .dataframe tbody tr th {\n",
       "        vertical-align: top;\n",
       "    }\n",
       "\n",
       "    .dataframe thead th {\n",
       "        text-align: right;\n",
       "    }\n",
       "</style>\n",
       "<table border=\"1\" class=\"dataframe\">\n",
       "  <thead>\n",
       "    <tr style=\"text-align: right;\">\n",
       "      <th></th>\n",
       "      <th>h</th>\n",
       "      <th>f</th>\n",
       "      <th>K</th>\n",
       "    </tr>\n",
       "    <tr>\n",
       "      <th>i</th>\n",
       "      <th></th>\n",
       "      <th></th>\n",
       "      <th></th>\n",
       "    </tr>\n",
       "  </thead>\n",
       "  <tbody>\n",
       "    <tr>\n",
       "      <th>0</th>\n",
       "      <td>0</td>\n",
       "      <td>0</td>\n",
       "      <td>50</td>\n",
       "    </tr>\n",
       "    <tr>\n",
       "      <th>1</th>\n",
       "      <td>840</td>\n",
       "      <td>2</td>\n",
       "      <td>48</td>\n",
       "    </tr>\n",
       "    <tr>\n",
       "      <th>2</th>\n",
       "      <td>852</td>\n",
       "      <td>1</td>\n",
       "      <td>47</td>\n",
       "    </tr>\n",
       "    <tr>\n",
       "      <th>3</th>\n",
       "      <td>936</td>\n",
       "      <td>1</td>\n",
       "      <td>46</td>\n",
       "    </tr>\n",
       "    <tr>\n",
       "      <th>4</th>\n",
       "      <td>960</td>\n",
       "      <td>1</td>\n",
       "      <td>45</td>\n",
       "    </tr>\n",
       "  </tbody>\n",
       "</table>\n",
       "</div>"
      ],
      "text/plain": [
       "     h  f   K\n",
       "i            \n",
       "0    0  0  50\n",
       "1  840  2  48\n",
       "2  852  1  47\n",
       "3  936  1  46\n",
       "4  960  1  45"
      ]
     },
     "execution_count": 43,
     "metadata": {},
     "output_type": "execute_result"
    }
   ],
   "source": [
    "df = pd.read_csv('lamps.csv', index_col=0)\n",
    "df.head()"
   ]
  },
  {
   "cell_type": "markdown",
   "metadata": {},
   "source": [
    "Column `h` contains the time values when bulbs failed; Column `f` contains the number of bulbs that failed at each time.\n",
    "We can represent these values and frequencies using a `Pmf`, like this:"
   ]
  },
  {
   "cell_type": "code",
   "execution_count": 44,
   "metadata": {},
   "outputs": [
    {
     "data": {
      "text/plain": [
       "50"
      ]
     },
     "execution_count": 44,
     "metadata": {},
     "output_type": "execute_result"
    }
   ],
   "source": [
    "pmf_bulb = Pmf(df['f'].to_numpy(), df['h'])\n",
    "pmf_bulb.normalize()"
   ]
  },
  {
   "cell_type": "markdown",
   "metadata": {},
   "source": [
    "Because of the design of this experiment, we can consider the data to be a representative sample from the distribution of lifetimes, at least for light bulbs that are lit continuously.\n",
    "\n",
    "The average lifetime is about 1400 h."
   ]
  },
  {
   "cell_type": "code",
   "execution_count": 45,
   "metadata": {},
   "outputs": [
    {
     "data": {
      "text/plain": [
       "1413.84"
      ]
     },
     "execution_count": 45,
     "metadata": {},
     "output_type": "execute_result"
    }
   ],
   "source": [
    "pmf_bulb.mean()"
   ]
  },
  {
   "cell_type": "markdown",
   "metadata": {},
   "source": [
    "Here's what the distribution looks like.\n",
    "I'll plot the CDF of the data along with the CDF of a Weibull distribution I chose to fit the data."
   ]
  },
  {
   "cell_type": "code",
   "execution_count": 46,
   "metadata": {},
   "outputs": [
    {
     "data": {
      "image/png": "[encoded data removed]",
      "text/plain": [
       "<Figure size 432x288 with 1 Axes>"
      ]
     },
     "metadata": {
      "needs_background": "light"
     },
     "output_type": "display_data"
    }
   ],
   "source": [
    "pmf_bulb.make_cdf().plot(label='data')\n",
    "\n",
    "qs = np.linspace(0, 2500, 101)\n",
    "ps = weibull_dist(1500, 4).cdf(qs)\n",
    "cdf = Cdf(ps, qs)\n",
    "cdf.plot(label='Weibull distribution')\n",
    "\n",
    "decorate(xlabel='Lightbulb lifetime (h)',\n",
    "         ylabel='CDF')"
   ]
  },
  {
   "cell_type": "markdown",
   "metadata": {},
   "source": [
    "It looks like the Weibull distribution is a good model for the data.\n",
    "So we should be able to use the data to infer the parameters of the model.\n",
    "\n",
    "Again, I'll start with uniform priors for $\\lambda$ and $k$:"
   ]
  },
  {
   "cell_type": "code",
   "execution_count": 47,
   "metadata": {},
   "outputs": [
    {
     "data": {
      "text/plain": [
       "51"
      ]
     },
     "execution_count": 47,
     "metadata": {},
     "output_type": "execute_result"
    }
   ],
   "source": [
    "lams = np.linspace(1000, 2000, 51)\n",
    "prior_lam = Pmf(1, lams)\n",
    "prior_lam.index.name = 'lambda'\n",
    "prior_lam.normalize()"
   ]
  },
  {
   "cell_type": "code",
   "execution_count": 48,
   "metadata": {},
   "outputs": [
    {
     "data": {
      "text/plain": [
       "51"
      ]
     },
     "execution_count": 48,
     "metadata": {},
     "output_type": "execute_result"
    }
   ],
   "source": [
    "ks = np.linspace(1, 10, 51)\n",
    "prior_k = Pmf(1, ks)\n",
    "prior_k.index.name = 'k'\n",
    "prior_k.normalize()"
   ]
  },
  {
   "cell_type": "markdown",
   "metadata": {},
   "source": [
    "For this example, there are 51 values in the prior distribtion, rather than the usual 101.  That's because we are going to use the posterior distributions to do some computationally-intensive calculations.\n",
    "They will run faster with fewer values, but the results will be less precise.\n",
    "\n",
    "As usual, we can use `make_joint` to make the prior joint distribution."
   ]
  },
  {
   "cell_type": "code",
   "execution_count": 49,
   "metadata": {},
   "outputs": [],
   "source": [
    "prior_bulb = make_joint(prior_lam, prior_k)"
   ]
  },
  {
   "cell_type": "markdown",
   "metadata": {},
   "source": [
    "Although we have data for 50 lightbulbs, there are only 32 unique lifetimes in the dataset.  For the update, it is convenient to express the data in the form of 50 lifetimes, with each lifetime repeated the given number of times.\n",
    "We can use `np.repeat` to transform the data."
   ]
  },
  {
   "cell_type": "code",
   "execution_count": 50,
   "metadata": {},
   "outputs": [
    {
     "data": {
      "text/plain": [
       "50"
      ]
     },
     "execution_count": 50,
     "metadata": {},
     "output_type": "execute_result"
    }
   ],
   "source": [
    "data_bulb = np.repeat(df['h'], df['f'])\n",
    "len(data_bulb)"
   ]
  },
  {
   "cell_type": "markdown",
   "metadata": {},
   "source": [
    "Now we can use `update_weibull` to do the update."
   ]
  },
  {
   "cell_type": "code",
   "execution_count": 51,
   "metadata": {},
   "outputs": [],
   "source": [
    "posterior_bulb = update_weibull(prior_bulb, data_bulb)"
   ]
  },
  {
   "cell_type": "markdown",
   "metadata": {},
   "source": [
    "Here's what the posterior joint distribution looks like:"
   ]
  },
  {
   "cell_type": "code",
   "execution_count": 52,
   "metadata": {},
   "outputs": [
    {
     "data": {
      "image/png": "[encoded data removed]",
      "text/plain": [
       "<Figure size 432x288 with 1 Axes>"
      ]
     },
     "metadata": {
      "needs_background": "light"
     },
     "output_type": "display_data"
    }
   ],
   "source": [
    "plot_contour(posterior_bulb)\n",
    "decorate(title='Posterior joint distribution of Weibull parameters')"
   ]
  },
  {
   "cell_type": "markdown",
   "metadata": {},
   "source": [
    "But that's not quite right, because it assumes each lightbulb died at the instant we observed it.  But apparently the researchers only checked the bulbs every 12 hours.  So if they see that a bulb has died, they know only that it died during the 12 hours since the last check.\n",
    "\n",
    "So it is more strictly correct to use the following update function, which uses the CDF of the Weibull distribution to compute the probability that a bulb dies during a given 12 hour interval."
   ]
  },
  {
   "cell_type": "code",
   "execution_count": 53,
   "metadata": {},
   "outputs": [],
   "source": [
    "def update_weibull_between(prior, data, dt=12):\n",
    "    \"\"\"Update the prior based on data.\n",
    "    \n",
    "    prior: joint distribution of mu and sigma\n",
    "    data: sequence of observations\n",
    "    \"\"\"\n",
    "    lam_mesh, k_mesh, data_mesh = np.meshgrid(prior.columns, prior.index, data)\n",
    "    dist = weibull_dist(lam_mesh, k_mesh)\n",
    "    cdf1 = dist.cdf(data_mesh)\n",
    "    cdf2 = dist.cdf(data_mesh-12)\n",
    "    likelihood = (cdf1 - cdf2).prod(axis=2)\n",
    "\n",
    "    posterior = prior * likelihood\n",
    "    normalize(posterior)\n",
    "\n",
    "    return posterior"
   ]
  },
  {
   "cell_type": "markdown",
   "metadata": {},
   "source": [
    "The probability that a value falls in an interval is the difference between the CDF at the beginning and end.\n",
    "\n",
    "Here's how we run the update."
   ]
  },
  {
   "cell_type": "code",
   "execution_count": 54,
   "metadata": {},
   "outputs": [],
   "source": [
    "posterior_bulb2 = update_weibull_between(prior_bulb, data_bulb)"
   ]
  },
  {
   "cell_type": "markdown",
   "metadata": {},
   "source": [
    "And here are the results."
   ]
  },
  {
   "cell_type": "code",
   "execution_count": 55,
   "metadata": {},
   "outputs": [
    {
     "data": {
      "image/png": "[encoded data removed]",
      "text/plain": [
       "<Figure size 432x288 with 1 Axes>"
      ]
     },
     "metadata": {
      "needs_background": "light"
     },
     "output_type": "display_data"
    }
   ],
   "source": [
    "plot_contour(posterior_bulb2)\n",
    "decorate(title='Posterior joint distribution of Weibull parameters')"
   ]
  },
  {
   "cell_type": "markdown",
   "metadata": {},
   "source": [
    "Visually this result is almost identical to what we got using the PDF.\n",
    "And that's good news, because it suggests that using the PDF can be a good approximation even if it's not strictly correct.\n",
    "\n",
    "To see whether it makes any difference at all, let's check the posterior means."
   ]
  },
  {
   "cell_type": "markdown",
   "metadata": {},
   "source": [
    "## Posterior means\n",
    "\n",
    "To compute the posterior mean of the joint distribution we can enumerate the parameters and their probabilities.\n",
    "For each pair of parameters, $\\lambda$ and $k$, we use `weibull_dist` to compute the mean, which is\n",
    "\n",
    "$\\lambda \\, \\Gamma(1+1/k)$\n",
    "\n",
    "where $\\Gamma$ is the [gamma function](https://en.wikipedia.org/wiki/Gamma_function).\n",
    "\n",
    "Then, using the probabilities as weights, we add up the total posterior mean."
   ]
  },
  {
   "cell_type": "code",
   "execution_count": 56,
   "metadata": {},
   "outputs": [],
   "source": [
    "def joint_weibull_mean(joint):\n",
    "    \"\"\"Compute the mean of a joint distribution of Weibulls.\n",
    "    \n",
    "    joint: DataFrame of Weibull parameters and probabilities\n",
    "    \n",
    "    returns: expected mean value\n",
    "    \"\"\"\n",
    "    pmf = Pmf(joint.stack())\n",
    "    total = 0\n",
    "    for (k, lam), prob in pmf.items():\n",
    "        mean = weibull_dist(lam, k).mean()\n",
    "        total += prob * mean\n",
    "    return total"
   ]
  },
  {
   "cell_type": "markdown",
   "metadata": {},
   "source": [
    "Here are the means of the two posterior distributions: "
   ]
  },
  {
   "cell_type": "code",
   "execution_count": 57,
   "metadata": {},
   "outputs": [
    {
     "data": {
      "text/plain": [
       "1412.724277430501"
      ]
     },
     "execution_count": 57,
     "metadata": {},
     "output_type": "execute_result"
    }
   ],
   "source": [
    "joint_weibull_mean(posterior_bulb)"
   ]
  },
  {
   "cell_type": "code",
   "execution_count": 58,
   "metadata": {},
   "outputs": [
    {
     "data": {
      "text/plain": [
       "1406.8171982320873"
      ]
     },
     "execution_count": 58,
     "metadata": {},
     "output_type": "execute_result"
    }
   ],
   "source": [
    "joint_weibull_mean(posterior_bulb2)"
   ]
  },
  {
   "cell_type": "markdown",
   "metadata": {},
   "source": [
    "When we take into account the 12 hour interval between observations, the posterior mean is about 6 hours less.\n",
    "If we assume that a bulb is equally likely to expire at any point in the interval, which is at least approximately true, the 6 hour difference makes sense.\n",
    "\n",
    "As the number of elements in the joint distribution increases, it can become expensive to enumerate all pairs of parameters.\n",
    "An alternative is to draw a random sample from the joint distribution, using the probabilities of weights.\n",
    "As an example, I'll use random sampling to estimate the posterior mean we just computed.\n",
    "\n",
    "As in `joint_weibull_mean`, we'll start by stacking the joint distribution."
   ]
  },
  {
   "cell_type": "code",
   "execution_count": 59,
   "metadata": {},
   "outputs": [
    {
     "data": {
      "text/html": [
       "<div>\n",
       "<style scoped>\n",
       "    .dataframe tbody tr th:only-of-type {\n",
       "        vertical-align: middle;\n",
       "    }\n",
       "\n",
       "    .dataframe tbody tr th {\n",
       "        vertical-align: top;\n",
       "    }\n",
       "\n",
       "    .dataframe thead th {\n",
       "        text-align: right;\n",
       "    }\n",
       "</style>\n",
       "<table border=\"1\" class=\"dataframe\">\n",
       "  <thead>\n",
       "    <tr style=\"text-align: right;\">\n",
       "      <th></th>\n",
       "      <th></th>\n",
       "      <th>probs</th>\n",
       "    </tr>\n",
       "    <tr>\n",
       "      <th>k</th>\n",
       "      <th>lambda</th>\n",
       "      <th></th>\n",
       "    </tr>\n",
       "  </thead>\n",
       "  <tbody>\n",
       "    <tr>\n",
       "      <th rowspan=\"5\" valign=\"top\">1.0</th>\n",
       "      <th>1000.0</th>\n",
       "      <td>1.080654e-24</td>\n",
       "    </tr>\n",
       "    <tr>\n",
       "      <th>1020.0</th>\n",
       "      <td>1.596253e-24</td>\n",
       "    </tr>\n",
       "    <tr>\n",
       "      <th>1040.0</th>\n",
       "      <td>2.279356e-24</td>\n",
       "    </tr>\n",
       "    <tr>\n",
       "      <th>1060.0</th>\n",
       "      <td>3.153589e-24</td>\n",
       "    </tr>\n",
       "    <tr>\n",
       "      <th>1080.0</th>\n",
       "      <td>4.236317e-24</td>\n",
       "    </tr>\n",
       "    <tr>\n",
       "      <th>...</th>\n",
       "      <th>...</th>\n",
       "      <td>...</td>\n",
       "    </tr>\n",
       "    <tr>\n",
       "      <th rowspan=\"5\" valign=\"top\">10.0</th>\n",
       "      <th>1920.0</th>\n",
       "      <td>9.697504e-36</td>\n",
       "    </tr>\n",
       "    <tr>\n",
       "      <th>1940.0</th>\n",
       "      <td>6.517344e-37</td>\n",
       "    </tr>\n",
       "    <tr>\n",
       "      <th>1960.0</th>\n",
       "      <td>3.541780e-38</td>\n",
       "    </tr>\n",
       "    <tr>\n",
       "      <th>1980.0</th>\n",
       "      <td>1.603116e-39</td>\n",
       "    </tr>\n",
       "    <tr>\n",
       "      <th>2000.0</th>\n",
       "      <td>6.201824e-41</td>\n",
       "    </tr>\n",
       "  </tbody>\n",
       "</table>\n",
       "<p>2601 rows × 1 columns</p>\n",
       "</div>"
      ],
      "text/plain": [
       "k     lambda\n",
       "1.0   1000.0    1.080654e-24\n",
       "      1020.0    1.596253e-24\n",
       "      1040.0    2.279356e-24\n",
       "      1060.0    3.153589e-24\n",
       "      1080.0    4.236317e-24\n",
       "                    ...     \n",
       "10.0  1920.0    9.697504e-36\n",
       "      1940.0    6.517344e-37\n",
       "      1960.0    3.541780e-38\n",
       "      1980.0    1.603116e-39\n",
       "      2000.0    6.201824e-41\n",
       "Length: 2601, dtype: float64"
      ]
     },
     "execution_count": 59,
     "metadata": {},
     "output_type": "execute_result"
    }
   ],
   "source": [
    "posterior_pmf = Pmf(posterior_bulb2.stack())\n",
    "posterior_pmf"
   ]
  },
  {
   "cell_type": "markdown",
   "metadata": {},
   "source": [
    "The result is a `Pmf` with a `MultiIndex` that contains the parameters.\n",
    "If we reset the index, the parameters become named columns, and the probabilities are put in a column with the label `0`."
   ]
  },
  {
   "cell_type": "code",
   "execution_count": 60,
   "metadata": {},
   "outputs": [
    {
     "data": {
      "text/html": [
       "<div>\n",
       "<style scoped>\n",
       "    .dataframe tbody tr th:only-of-type {\n",
       "        vertical-align: middle;\n",
       "    }\n",
       "\n",
       "    .dataframe tbody tr th {\n",
       "        vertical-align: top;\n",
       "    }\n",
       "\n",
       "    .dataframe thead th {\n",
       "        text-align: right;\n",
       "    }\n",
       "</style>\n",
       "<table border=\"1\" class=\"dataframe\">\n",
       "  <thead>\n",
       "    <tr style=\"text-align: right;\">\n",
       "      <th></th>\n",
       "      <th>k</th>\n",
       "      <th>lambda</th>\n",
       "      <th>0</th>\n",
       "    </tr>\n",
       "  </thead>\n",
       "  <tbody>\n",
       "    <tr>\n",
       "      <th>0</th>\n",
       "      <td>1.0</td>\n",
       "      <td>1000.0</td>\n",
       "      <td>1.080654e-24</td>\n",
       "    </tr>\n",
       "    <tr>\n",
       "      <th>1</th>\n",
       "      <td>1.0</td>\n",
       "      <td>1020.0</td>\n",
       "      <td>1.596253e-24</td>\n",
       "    </tr>\n",
       "    <tr>\n",
       "      <th>2</th>\n",
       "      <td>1.0</td>\n",
       "      <td>1040.0</td>\n",
       "      <td>2.279356e-24</td>\n",
       "    </tr>\n",
       "    <tr>\n",
       "      <th>3</th>\n",
       "      <td>1.0</td>\n",
       "      <td>1060.0</td>\n",
       "      <td>3.153589e-24</td>\n",
       "    </tr>\n",
       "    <tr>\n",
       "      <th>4</th>\n",
       "      <td>1.0</td>\n",
       "      <td>1080.0</td>\n",
       "      <td>4.236317e-24</td>\n",
       "    </tr>\n",
       "  </tbody>\n",
       "</table>\n",
       "</div>"
      ],
      "text/plain": [
       "     k  lambda             0\n",
       "0  1.0  1000.0  1.080654e-24\n",
       "1  1.0  1020.0  1.596253e-24\n",
       "2  1.0  1040.0  2.279356e-24\n",
       "3  1.0  1060.0  3.153589e-24\n",
       "4  1.0  1080.0  4.236317e-24"
      ]
     },
     "execution_count": 60,
     "metadata": {},
     "output_type": "execute_result"
    }
   ],
   "source": [
    "reset = posterior_pmf.reset_index()\n",
    "reset.head()"
   ]
  },
  {
   "cell_type": "markdown",
   "metadata": {},
   "source": [
    "The new index contains integers starting from 0. \n",
    "We can use `np.random.choice` to choose random labels from the new index, weighted with the probabilities from the `Pmf`."
   ]
  },
  {
   "cell_type": "code",
   "execution_count": 61,
   "metadata": {},
   "outputs": [],
   "source": [
    "index = np.random.choice(reset.index, p=posterior_pmf, size=1000)"
   ]
  },
  {
   "cell_type": "code",
   "execution_count": 62,
   "metadata": {},
   "outputs": [
    {
     "data": {
      "text/html": [
       "<div>\n",
       "<style scoped>\n",
       "    .dataframe tbody tr th:only-of-type {\n",
       "        vertical-align: middle;\n",
       "    }\n",
       "\n",
       "    .dataframe tbody tr th {\n",
       "        vertical-align: top;\n",
       "    }\n",
       "\n",
       "    .dataframe thead th {\n",
       "        text-align: right;\n",
       "    }\n",
       "</style>\n",
       "<table border=\"1\" class=\"dataframe\">\n",
       "  <thead>\n",
       "    <tr style=\"text-align: right;\">\n",
       "      <th></th>\n",
       "      <th>k</th>\n",
       "      <th>lambda</th>\n",
       "      <th>0</th>\n",
       "    </tr>\n",
       "  </thead>\n",
       "  <tbody>\n",
       "    <tr>\n",
       "      <th>843</th>\n",
       "      <td>3.88</td>\n",
       "      <td>1540.0</td>\n",
       "      <td>0.016875</td>\n",
       "    </tr>\n",
       "    <tr>\n",
       "      <th>947</th>\n",
       "      <td>4.24</td>\n",
       "      <td>1580.0</td>\n",
       "      <td>0.019609</td>\n",
       "    </tr>\n",
       "    <tr>\n",
       "      <th>947</th>\n",
       "      <td>4.24</td>\n",
       "      <td>1580.0</td>\n",
       "      <td>0.019609</td>\n",
       "    </tr>\n",
       "    <tr>\n",
       "      <th>844</th>\n",
       "      <td>3.88</td>\n",
       "      <td>1560.0</td>\n",
       "      <td>0.014567</td>\n",
       "    </tr>\n",
       "    <tr>\n",
       "      <th>792</th>\n",
       "      <td>3.70</td>\n",
       "      <td>1540.0</td>\n",
       "      <td>0.010069</td>\n",
       "    </tr>\n",
       "  </tbody>\n",
       "</table>\n",
       "</div>"
      ],
      "text/plain": [
       "        k  lambda         0\n",
       "843  3.88  1540.0  0.016875\n",
       "947  4.24  1580.0  0.019609\n",
       "947  4.24  1580.0  0.019609\n",
       "844  3.88  1560.0  0.014567\n",
       "792  3.70  1540.0  0.010069"
      ]
     },
     "execution_count": 62,
     "metadata": {},
     "output_type": "execute_result"
    }
   ],
   "source": [
    "chosen = reset.loc[index]\n",
    "chosen.head()"
   ]
  },
  {
   "cell_type": "markdown",
   "metadata": {},
   "source": [
    "The result is a `DataFrame` with the chosen rows.\n",
    "Now we can select the parameters, pass them to `weibull_dist`, and use `rvs` to choose one value from each distribution specified by a pair of parameters. "
   ]
  },
  {
   "cell_type": "code",
   "execution_count": 63,
   "metadata": {},
   "outputs": [],
   "source": [
    "sample = weibull_dist(chosen['lambda'], chosen['k']).rvs()"
   ]
  },
  {
   "cell_type": "markdown",
   "metadata": {},
   "source": [
    "The result is a sample from the posterior predictive distribution, which we can use to compute whatever summary statistics we are interested in, including the mean:"
   ]
  },
  {
   "cell_type": "code",
   "execution_count": 64,
   "metadata": {},
   "outputs": [
    {
     "data": {
      "text/plain": [
       "1409.0297180847385"
      ]
     },
     "execution_count": 64,
     "metadata": {},
     "output_type": "execute_result"
    }
   ],
   "source": [
    "sample.mean()"
   ]
  },
  {
   "cell_type": "markdown",
   "metadata": {},
   "source": [
    "Here are those steps encapsulated in a function."
   ]
  },
  {
   "cell_type": "code",
   "execution_count": 65,
   "metadata": {},
   "outputs": [],
   "source": [
    "def joint_weibull_sample(joint, n=1000):\n",
    "    \"\"\"Sample from a predictive distribution.\n",
    "    \n",
    "    joint: joint distribution of parameters\n",
    "    n: sample size\n",
    "    \n",
    "    returns: NumPy array of random values\n",
    "    \"\"\"\n",
    "    pmf = Pmf(joint.stack())\n",
    "    reset = pmf.reset_index()\n",
    "    index = np.random.choice(reset.index, p=pmf, size=n)\n",
    "    chosen = reset.loc[index]\n",
    "    sample = weibull_dist(chosen['lambda'], chosen['k']).rvs()\n",
    "    return sample"
   ]
  },
  {
   "cell_type": "markdown",
   "metadata": {},
   "source": [
    "And here's how we can use it."
   ]
  },
  {
   "cell_type": "code",
   "execution_count": 66,
   "metadata": {},
   "outputs": [
    {
     "data": {
      "text/plain": [
       "1422.2688171419734"
      ]
     },
     "execution_count": 66,
     "metadata": {},
     "output_type": "execute_result"
    }
   ],
   "source": [
    "sample = joint_weibull_sample(posterior_bulb2)\n",
    "sample.mean()"
   ]
  },
  {
   "cell_type": "markdown",
   "metadata": {},
   "source": [
    "As one of the exercises at the end of this chapter, you can write a similar function for the gamma distribution."
   ]
  },
  {
   "cell_type": "markdown",
   "metadata": {},
   "source": [
    "## Summary\n",
    "\n",
    "This chapter introduces survival analysis, which is use to answer questions about the time until an event, and the Weibull distribution, which is a good model for \"lieftimes\", broadly interpreted, in a number of domains.\n",
    "\n",
    "We used joint distributions to represent prior probabilities for the parameters of the Weibull distribution, and we updated them three ways: knowing the exact duration of a lifetime, knowing a lower bound, and knowing that a lifetime fell in a given interval.\n",
    "\n",
    "These examples demonstrate a feature of Bayesian methods: they can be adapted to handle incomplete, or \"censored\", data with only small changes.  As an exercise, you'll have a chance to work with one more type of censored data, when we are given an upper bound on a lifetime.\n",
    "\n",
    "The methods in this chapter work with any distribution with two parameters.  In the exercises, you'll have a chance to estimate the parameters of a gamma distribution, which is used to describe a variety of natural phenomena.\n",
    "\n",
    "And in the next chapter we'll move on to models with three parameters, which we will use to do Bayesian regression."
   ]
  },
  {
   "cell_type": "markdown",
   "metadata": {},
   "source": [
    "## Exercises"
   ]
  },
  {
   "cell_type": "markdown",
   "metadata": {},
   "source": [
    "**Exercise:** Suppose you install 100 lightbulbs of the kind we studied in this chapter, and you come back to check on them after 1000 hours.  Based on the posterior distribution we just computed, how many lightbulbs do you expect to be dead?  What is the distribution of this number?\n",
    "\n",
    "Hint: Use `make_binomial` and `make_mixture` to compute the posterior predictive distribution for the number of dead bulbs.\n",
    "\n",
    "Note: This calculation involves a substantial amount of computation, which is why I made the grid in this chapter coarser than in previous chapters, with 51 values for each parameter rather than 101."
   ]
  },
  {
   "cell_type": "code",
   "execution_count": 79,
   "metadata": {},
   "outputs": [],
   "source": [
    "from utils import make_binomial, make_mixture"
   ]
  },
  {
   "cell_type": "code",
   "execution_count": 80,
   "metadata": {},
   "outputs": [],
   "source": [
    "# Solution\n",
    "\n",
    "posterior_pmf = Pmf(posterior_bulb2.stack())"
   ]
  },
  {
   "cell_type": "code",
   "execution_count": 81,
   "metadata": {},
   "outputs": [],
   "source": [
    "# Solution\n",
    "\n",
    "t = 1000\n",
    "\n",
    "total = 0\n",
    "for (k, lam), prob in posterior_pmf.items():\n",
    "    prob_dead = weibull_dist(lam, k).cdf(t)\n",
    "    total += prob * prob_dead"
   ]
  },
  {
   "cell_type": "code",
   "execution_count": 82,
   "metadata": {},
   "outputs": [
    {
     "data": {
      "text/plain": [
       "14.945401430072334"
      ]
     },
     "execution_count": 82,
     "metadata": {},
     "output_type": "execute_result"
    }
   ],
   "source": [
    "# Solution\n",
    "\n",
    "n = 100\n",
    "total * n"
   ]
  },
  {
   "cell_type": "code",
   "execution_count": 83,
   "metadata": {},
   "outputs": [],
   "source": [
    "# Solution\n",
    "\n",
    "pmf_seq = []\n",
    "for (k, lam), prob in posterior_pmf.items():\n",
    "    prob_dead = weibull_dist(lam, k).cdf(t)\n",
    "    pmf = make_binomial(n, prob_dead)\n",
    "    pmf_seq.append(pmf)"
   ]
  },
  {
   "cell_type": "code",
   "execution_count": 84,
   "metadata": {},
   "outputs": [],
   "source": [
    "# Solution\n",
    "\n",
    "pred = make_mixture(posterior_pmf, pmf_seq)"
   ]
  },
  {
   "cell_type": "code",
   "execution_count": 85,
   "metadata": {},
   "outputs": [
    {
     "data": {
      "text/plain": [
       "14.945401430072216"
      ]
     },
     "execution_count": 85,
     "metadata": {},
     "output_type": "execute_result"
    },
    {
     "data": {
      "image/png": "[encoded data removed]",
      "text/plain": [
       "<Figure size 432x288 with 1 Axes>"
      ]
     },
     "metadata": {
      "needs_background": "light"
     },
     "output_type": "display_data"
    }
   ],
   "source": [
    "# Solution\n",
    "\n",
    "pred.plot()\n",
    "decorate(xlabel='Number of dead bulbs',\n",
    "         ylabel='PMF',\n",
    "         title='Posterior predictive distribution')\n",
    "\n",
    "pred.mean()"
   ]
  },
  {
   "cell_type": "markdown",
   "metadata": {
    "collapsed": true
   },
   "source": [
    "**Exercise:** Now suppose that when you come back after 1000 hours, you actually find 20 dead lightbulbs.  Update the posterior distribution based on this data.  How much does it change the posterior mean?"
   ]
  },
  {
   "cell_type": "code",
   "execution_count": 89,
   "metadata": {},
   "outputs": [
    {
     "data": {
      "text/plain": [
       "(51, 51)"
      ]
     },
     "execution_count": 89,
     "metadata": {},
     "output_type": "execute_result"
    }
   ],
   "source": [
    "# Solution\n",
    "\n",
    "t = 1000\n",
    "\n",
    "lam_mesh, k_mesh = np.meshgrid(prior_bulb.columns, prior_bulb.index)\n",
    "prob_dead = weibull_dist(lam_mesh, k_mesh).cdf(t)\n",
    "prob_dead.shape"
   ]
  },
  {
   "cell_type": "code",
   "execution_count": 90,
   "metadata": {},
   "outputs": [
    {
     "data": {
      "text/plain": [
       "(51, 51)"
      ]
     },
     "execution_count": 90,
     "metadata": {},
     "output_type": "execute_result"
    }
   ],
   "source": [
    "# Solution\n",
    "\n",
    "from scipy.stats import binom\n",
    "\n",
    "k = 20\n",
    "n = 100\n",
    "likelihood = binom.pmf(k, n, prob_dead)\n",
    "likelihood.shape"
   ]
  },
  {
   "cell_type": "code",
   "execution_count": 91,
   "metadata": {},
   "outputs": [
    {
     "data": {
      "image/png": "[encoded data removed]",
      "text/plain": [
       "<Figure size 432x288 with 1 Axes>"
      ]
     },
     "metadata": {
      "needs_background": "light"
     },
     "output_type": "display_data"
    }
   ],
   "source": [
    "# Solution\n",
    "\n",
    "posterior_bulb3 = posterior_bulb2 * likelihood\n",
    "normalize(posterior_bulb3)\n",
    "plot_contour(posterior_bulb3)\n",
    "decorate(title='Posterior joint distribution with k=20')"
   ]
  },
  {
   "cell_type": "code",
   "execution_count": 93,
   "metadata": {},
   "outputs": [
    {
     "data": {
      "text/plain": [
       "1374.6787666856153"
      ]
     },
     "execution_count": 93,
     "metadata": {},
     "output_type": "execute_result"
    }
   ],
   "source": [
    "# Solution\n",
    "\n",
    "# Since there were more dead bulbs than expected,\n",
    "# the posterior mean is a bit less after the update.\n",
    "\n",
    "joint_weibull_mean(posterior_bulb3)"
   ]
  },
  {
   "cell_type": "markdown",
   "metadata": {},
   "source": [
    "**Exercise:** According to hydrologists, the distribution of total daily\n",
    "rainfall (for days with rain) is well modeled by a two-parameter\n",
    "gamma distribution.\n",
    "\n",
    "In this exercise, we'll use one month of data to estimate the parameters of a gamma distribution that describes daily rainfall in Seattle.\n",
    "Then we'll compute the posterior predictive distribution for daily rainfall, including the possibility of no rain.\n",
    "\n",
    "The following cell downloads data I collected from the National Oceanic and Atmospheric Administration ([NOAA](http://www.ncdc.noaa.gov/cdo-web/search)) for Seattle, Washington in May 2020."
   ]
  },
  {
   "cell_type": "code",
   "execution_count": 94,
   "metadata": {},
   "outputs": [],
   "source": [
    "# Load the data file\n",
    "\n",
    "datafile = '2203951.csv'\n",
    "if not os.path.exists(datafile):\n",
    "    !wget https://github.com/AllenDowney/ThinkBayes2/raw/master/data/2203951.csv"
   ]
  },
  {
   "cell_type": "markdown",
   "metadata": {},
   "source": [
    "Now we can load it into a `DataFrame`:"
   ]
  },
  {
   "cell_type": "code",
   "execution_count": 95,
   "metadata": {},
   "outputs": [
    {
     "data": {
      "text/html": [
       "<div>\n",
       "<style scoped>\n",
       "    .dataframe tbody tr th:only-of-type {\n",
       "        vertical-align: middle;\n",
       "    }\n",
       "\n",
       "    .dataframe tbody tr th {\n",
       "        vertical-align: top;\n",
       "    }\n",
       "\n",
       "    .dataframe thead th {\n",
       "        text-align: right;\n",
       "    }\n",
       "</style>\n",
       "<table border=\"1\" class=\"dataframe\">\n",
       "  <thead>\n",
       "    <tr style=\"text-align: right;\">\n",
       "      <th></th>\n",
       "      <th>STATION</th>\n",
       "      <th>NAME</th>\n",
       "      <th>DATE</th>\n",
       "      <th>AWND</th>\n",
       "      <th>PRCP</th>\n",
       "      <th>TMAX</th>\n",
       "      <th>TMIN</th>\n",
       "      <th>WT01</th>\n",
       "      <th>WT03</th>\n",
       "      <th>WT08</th>\n",
       "    </tr>\n",
       "  </thead>\n",
       "  <tbody>\n",
       "    <tr>\n",
       "      <th>0</th>\n",
       "      <td>USW00024233</td>\n",
       "      <td>SEATTLE TACOMA AIRPORT, WA US</td>\n",
       "      <td>2020-05-01</td>\n",
       "      <td>4.47</td>\n",
       "      <td>0.00</td>\n",
       "      <td>66</td>\n",
       "      <td>43</td>\n",
       "      <td>NaN</td>\n",
       "      <td>NaN</td>\n",
       "      <td>NaN</td>\n",
       "    </tr>\n",
       "    <tr>\n",
       "      <th>1</th>\n",
       "      <td>USW00024233</td>\n",
       "      <td>SEATTLE TACOMA AIRPORT, WA US</td>\n",
       "      <td>2020-05-02</td>\n",
       "      <td>9.40</td>\n",
       "      <td>0.24</td>\n",
       "      <td>58</td>\n",
       "      <td>47</td>\n",
       "      <td>1.0</td>\n",
       "      <td>NaN</td>\n",
       "      <td>NaN</td>\n",
       "    </tr>\n",
       "    <tr>\n",
       "      <th>2</th>\n",
       "      <td>USW00024233</td>\n",
       "      <td>SEATTLE TACOMA AIRPORT, WA US</td>\n",
       "      <td>2020-05-03</td>\n",
       "      <td>11.63</td>\n",
       "      <td>0.06</td>\n",
       "      <td>57</td>\n",
       "      <td>44</td>\n",
       "      <td>1.0</td>\n",
       "      <td>NaN</td>\n",
       "      <td>NaN</td>\n",
       "    </tr>\n",
       "    <tr>\n",
       "      <th>3</th>\n",
       "      <td>USW00024233</td>\n",
       "      <td>SEATTLE TACOMA AIRPORT, WA US</td>\n",
       "      <td>2020-05-04</td>\n",
       "      <td>4.47</td>\n",
       "      <td>0.00</td>\n",
       "      <td>65</td>\n",
       "      <td>39</td>\n",
       "      <td>NaN</td>\n",
       "      <td>NaN</td>\n",
       "      <td>NaN</td>\n",
       "    </tr>\n",
       "    <tr>\n",
       "      <th>4</th>\n",
       "      <td>USW00024233</td>\n",
       "      <td>SEATTLE TACOMA AIRPORT, WA US</td>\n",
       "      <td>2020-05-05</td>\n",
       "      <td>7.83</td>\n",
       "      <td>0.00</td>\n",
       "      <td>71</td>\n",
       "      <td>49</td>\n",
       "      <td>NaN</td>\n",
       "      <td>NaN</td>\n",
       "      <td>NaN</td>\n",
       "    </tr>\n",
       "  </tbody>\n",
       "</table>\n",
       "</div>"
      ],
      "text/plain": [
       "       STATION                           NAME        DATE   AWND  PRCP  TMAX  \\\n",
       "0  USW00024233  SEATTLE TACOMA AIRPORT, WA US  2020-05-01   4.47  0.00    66   \n",
       "1  USW00024233  SEATTLE TACOMA AIRPORT, WA US  2020-05-02   9.40  0.24    58   \n",
       "2  USW00024233  SEATTLE TACOMA AIRPORT, WA US  2020-05-03  11.63  0.06    57   \n",
       "3  USW00024233  SEATTLE TACOMA AIRPORT, WA US  2020-05-04   4.47  0.00    65   \n",
       "4  USW00024233  SEATTLE TACOMA AIRPORT, WA US  2020-05-05   7.83  0.00    71   \n",
       "\n",
       "   TMIN  WT01  WT03  WT08  \n",
       "0    43   NaN   NaN   NaN  \n",
       "1    47   1.0   NaN   NaN  \n",
       "2    44   1.0   NaN   NaN  \n",
       "3    39   NaN   NaN   NaN  \n",
       "4    49   NaN   NaN   NaN  "
      ]
     },
     "execution_count": 95,
     "metadata": {},
     "output_type": "execute_result"
    }
   ],
   "source": [
    "weather = pd.read_csv('2203951.csv')\n",
    "weather.head()"
   ]
  },
  {
   "cell_type": "markdown",
   "metadata": {},
   "source": [
    "I'll make a Boolean Series to indicate which days it rained."
   ]
  },
  {
   "cell_type": "code",
   "execution_count": 96,
   "metadata": {},
   "outputs": [
    {
     "data": {
      "text/plain": [
       "14"
      ]
     },
     "execution_count": 96,
     "metadata": {},
     "output_type": "execute_result"
    }
   ],
   "source": [
    "rained = weather['PRCP'] > 0\n",
    "rained.sum()"
   ]
  },
  {
   "cell_type": "markdown",
   "metadata": {},
   "source": [
    "And select the total rainfall on the days it rained."
   ]
  },
  {
   "cell_type": "code",
   "execution_count": 97,
   "metadata": {},
   "outputs": [
    {
     "data": {
      "text/plain": [
       "count    14.000000\n",
       "mean      0.222857\n",
       "std       0.301060\n",
       "min       0.010000\n",
       "25%       0.052500\n",
       "50%       0.110000\n",
       "75%       0.225000\n",
       "max       1.140000\n",
       "Name: PRCP, dtype: float64"
      ]
     },
     "execution_count": 97,
     "metadata": {},
     "output_type": "execute_result"
    }
   ],
   "source": [
    "prcp = weather.loc[rained, 'PRCP']\n",
    "prcp.describe()"
   ]
  },
  {
   "cell_type": "markdown",
   "metadata": {},
   "source": [
    "Here's what the CDF of the data looks like."
   ]
  },
  {
   "cell_type": "code",
   "execution_count": 98,
   "metadata": {},
   "outputs": [
    {
     "data": {
      "image/png": "[encoded data removed]",
      "text/plain": [
       "<Figure size 432x288 with 1 Axes>"
      ]
     },
     "metadata": {
      "needs_background": "light"
     },
     "output_type": "display_data"
    }
   ],
   "source": [
    "cdf_data = Cdf.from_seq(prcp)\n",
    "cdf_data.plot()\n",
    "decorate(xlabel='Total rainfall (in)',\n",
    "         ylabel='CDF',\n",
    "         title='Distribution of rainfall on days it rained')"
   ]
  },
  {
   "cell_type": "markdown",
   "metadata": {},
   "source": [
    "Now I suggest you proceed in the following steps:\n",
    "\n",
    "1. Construct a prior distribution for the parameters of the gamma distribution.\n",
    "\n",
    "2. Use the observed rainfalls to update the distribution of parameters.\n",
    "\n",
    "3. Generate a sample of 1000 values from the posterior predictive distribution.  This is the distribution of rainfall we expect on the days it rains.\n",
    "\n",
    "4. Then, to estimate the probability of rain.\n",
    "\n"
   ]
  },
  {
   "cell_type": "markdown",
   "metadata": {},
   "source": [
    "For the first step, you might want to use the following function, which creates an object that represents a gamma distribution a shape parameter, $k$, and\n",
    "a scale parameter, $\\theta$.\n",
    "\n",
    "The result is an object that provides methods `pdf`, `cdf`, and `sf` that compute the PDF, CDF, and survival function, as well as `rvs`, which generates random values."
   ]
  },
  {
   "cell_type": "code",
   "execution_count": 99,
   "metadata": {},
   "outputs": [],
   "source": [
    "import scipy.stats\n",
    "\n",
    "def gamma_dist(k, theta):\n",
    "    \"\"\"Makes a gamma object.\n",
    "    \"\"\"\n",
    "    return scipy.stats.gamma(k, scale=theta)"
   ]
  },
  {
   "cell_type": "markdown",
   "metadata": {},
   "source": [
    "For Step 4, you might want to use the following function from Chapter 6, which you can use to compute the posterior distribution for the probability of rain."
   ]
  },
  {
   "cell_type": "code",
   "execution_count": 100,
   "metadata": {},
   "outputs": [],
   "source": [
    "from scipy.stats import binom\n",
    "\n",
    "def update_binomial(pmf, data):\n",
    "    \"\"\"Update the PMF using the binomial distribution.\n",
    "    \n",
    "    pmf: Pmf representing the prior\n",
    "    data: tuple of integers k and n\n",
    "    \"\"\"\n",
    "    k, n = data\n",
    "    xs = pmf.qs\n",
    "    likelihood = binom.pmf(k, n, xs)\n",
    "    pmf *= likelihood\n",
    "    pmf.normalize()"
   ]
  },
  {
   "cell_type": "markdown",
   "metadata": {},
   "source": [
    "Now you take it from there."
   ]
  },
  {
   "cell_type": "code",
   "execution_count": 101,
   "metadata": {},
   "outputs": [
    {
     "data": {
      "text/plain": [
       "101"
      ]
     },
     "execution_count": 101,
     "metadata": {},
     "output_type": "execute_result"
    }
   ],
   "source": [
    "# Solution\n",
    "\n",
    "ks = np.linspace(0.01, 2, 101)\n",
    "prior_k = Pmf(1, ks)\n",
    "prior_k.index.name = 'k'\n",
    "prior_k.normalize()"
   ]
  },
  {
   "cell_type": "code",
   "execution_count": 102,
   "metadata": {},
   "outputs": [
    {
     "data": {
      "text/plain": [
       "101"
      ]
     },
     "execution_count": 102,
     "metadata": {},
     "output_type": "execute_result"
    }
   ],
   "source": [
    "# Solution\n",
    "\n",
    "thetas = np.linspace(0.01, 1.5, 101)\n",
    "prior_theta = Pmf(1, thetas)\n",
    "prior_theta.index.name = 'theta'\n",
    "prior_theta.normalize()"
   ]
  },
  {
   "cell_type": "code",
   "execution_count": 103,
   "metadata": {},
   "outputs": [],
   "source": [
    "# Solution\n",
    "\n",
    "prior = make_joint(prior_k, prior_theta)"
   ]
  },
  {
   "cell_type": "code",
   "execution_count": 104,
   "metadata": {},
   "outputs": [],
   "source": [
    "# Solution\n",
    "\n",
    "k_mesh, theta_mesh, data_mesh = np.meshgrid(prior.columns, prior.index, prcp)"
   ]
  },
  {
   "cell_type": "code",
   "execution_count": 105,
   "metadata": {},
   "outputs": [
    {
     "data": {
      "text/plain": [
       "(101, 101, 14)"
      ]
     },
     "execution_count": 105,
     "metadata": {},
     "output_type": "execute_result"
    }
   ],
   "source": [
    "# Solution\n",
    "\n",
    "densities = gamma_dist(k_mesh, theta_mesh).pdf(data_mesh) \n",
    "densities.shape"
   ]
  },
  {
   "cell_type": "code",
   "execution_count": 106,
   "metadata": {},
   "outputs": [
    {
     "data": {
      "text/plain": [
       "601019.972665461"
      ]
     },
     "execution_count": 106,
     "metadata": {},
     "output_type": "execute_result"
    }
   ],
   "source": [
    "# Solution\n",
    "\n",
    "likelihood = densities.prod(axis=2)\n",
    "likelihood.sum()"
   ]
  },
  {
   "cell_type": "code",
   "execution_count": 107,
   "metadata": {},
   "outputs": [],
   "source": [
    "# Solution\n",
    "\n",
    "posterior = prior * likelihood\n",
    "normalize(posterior)"
   ]
  },
  {
   "cell_type": "code",
   "execution_count": 108,
   "metadata": {},
   "outputs": [
    {
     "data": {
      "image/png": "[encoded data removed]",
      "text/plain": [
       "<Figure size 432x288 with 1 Axes>"
      ]
     },
     "metadata": {
      "needs_background": "light"
     },
     "output_type": "display_data"
    }
   ],
   "source": [
    "# Solution\n",
    "\n",
    "plot_contour(posterior)\n",
    "\n",
    "decorate(title='Posterior joint distribution, parameters of a gamma distribution')"
   ]
  },
  {
   "cell_type": "code",
   "execution_count": 109,
   "metadata": {},
   "outputs": [],
   "source": [
    "# Solution\n",
    "\n",
    "from utils import marginal\n",
    "\n",
    "posterior_k = marginal(posterior, 0)\n",
    "posterior_theta = marginal(posterior, 1)"
   ]
  },
  {
   "cell_type": "code",
   "execution_count": 110,
   "metadata": {},
   "outputs": [
    {
     "data": {
      "text/plain": [
       "(0.84368972214469, array([0.4478, 1.3632]))"
      ]
     },
     "execution_count": 110,
     "metadata": {},
     "output_type": "execute_result"
    },
    {
     "data": {
      "image/png": "[encoded data removed]",
      "text/plain": [
       "<Figure size 432x288 with 1 Axes>"
      ]
     },
     "metadata": {
      "needs_background": "light"
     },
     "output_type": "display_data"
    }
   ],
   "source": [
    "# Solution\n",
    "\n",
    "posterior_k.plot()\n",
    "decorate(xlabel='k',\n",
    "         ylabel='PDF', \n",
    "         title='Posterior marginal distribution of k')\n",
    "\n",
    "posterior_k.mean(), posterior_k.credible_interval(0.9)"
   ]
  },
  {
   "cell_type": "code",
   "execution_count": 111,
   "metadata": {},
   "outputs": [
    {
     "data": {
      "text/plain": [
       "(0.3676197943125124, array([0.159 , 0.7997]))"
      ]
     },
     "execution_count": 111,
     "metadata": {},
     "output_type": "execute_result"
    },
    {
     "data": {
      "image/png": "[encoded data removed]",
      "text/plain": [
       "<Figure size 432x288 with 1 Axes>"
      ]
     },
     "metadata": {
      "needs_background": "light"
     },
     "output_type": "display_data"
    }
   ],
   "source": [
    "# Solution\n",
    "\n",
    "posterior_theta.plot()\n",
    "decorate(xlabel='theta',\n",
    "         ylabel='PDF', \n",
    "         title='Posterior marginal distribution of theta')\n",
    "\n",
    "posterior_theta.mean(), posterior_theta.credible_interval(0.9)"
   ]
  },
  {
   "cell_type": "code",
   "execution_count": 112,
   "metadata": {},
   "outputs": [],
   "source": [
    "# Solution\n",
    "\n",
    "def joint_gamma_sample(joint, n=1000):\n",
    "    \"\"\"Sample from a predictive distribution.\n",
    "    \n",
    "    joint: joint distribution of parameters\n",
    "    n: sample size\n",
    "    \n",
    "    returns: NumPy array of random values\n",
    "    \"\"\"\n",
    "    pmf = Pmf(joint.stack())\n",
    "    reset = pmf.reset_index()\n",
    "    index = np.random.choice(reset.index, p=pmf, size=n)\n",
    "    chosen = reset.loc[index]\n",
    "    sample = gamma_dist(chosen['k'], chosen['theta']).rvs()\n",
    "    return sample"
   ]
  },
  {
   "cell_type": "code",
   "execution_count": 113,
   "metadata": {},
   "outputs": [],
   "source": [
    "# Solution\n",
    "\n",
    "sample = joint_gamma_sample(posterior)"
   ]
  },
  {
   "cell_type": "code",
   "execution_count": 114,
   "metadata": {},
   "outputs": [
    {
     "data": {
      "image/png": "[encoded data removed]",
      "text/plain": [
       "<Figure size 432x288 with 1 Axes>"
      ]
     },
     "metadata": {
      "needs_background": "light"
     },
     "output_type": "display_data"
    }
   ],
   "source": [
    "# Solution\n",
    "\n",
    "Cdf.from_seq(sample).plot()\n",
    "decorate(xlabel='Total rainfall (in)',\n",
    "         ylabel='CDF',\n",
    "         title='Posterior predictive distribution of rainfall')"
   ]
  },
  {
   "cell_type": "code",
   "execution_count": 115,
   "metadata": {},
   "outputs": [
    {
     "data": {
      "text/plain": [
       "(14, 31)"
      ]
     },
     "execution_count": 115,
     "metadata": {},
     "output_type": "execute_result"
    }
   ],
   "source": [
    "# Solution\n",
    "\n",
    "# Now let's estimate the probability of rain\n",
    "\n",
    "data = rained.sum(), len(weather)\n",
    "data"
   ]
  },
  {
   "cell_type": "code",
   "execution_count": 116,
   "metadata": {},
   "outputs": [],
   "source": [
    "# Solution\n",
    "\n",
    "# Here's the prior and the update\n",
    "\n",
    "hypos = np.linspace(0, 1, 101)\n",
    "pmf_rain = Pmf(1, hypos)\n",
    "update_binomial(pmf_rain, data)"
   ]
  },
  {
   "cell_type": "code",
   "execution_count": 117,
   "metadata": {},
   "outputs": [
    {
     "data": {
      "image/png": "[encoded data removed]",
      "text/plain": [
       "<Figure size 432x288 with 1 Axes>"
      ]
     },
     "metadata": {
      "needs_background": "light"
     },
     "output_type": "display_data"
    }
   ],
   "source": [
    "# Solution\n",
    "\n",
    "# And the posterior\n",
    "\n",
    "pmf_rain.plot()\n",
    "decorate(xlabel='Probability of rain',\n",
    "         ylabel='PDF',\n",
    "         title='Posterior distribution of probability of rain')"
   ]
  },
  {
   "cell_type": "code",
   "execution_count": 118,
   "metadata": {},
   "outputs": [
    {
     "data": {
      "text/plain": [
       "0.4545454545454545"
      ]
     },
     "execution_count": 118,
     "metadata": {},
     "output_type": "execute_result"
    }
   ],
   "source": [
    "# Solution\n",
    "\n",
    "# For prediction, we only need the posterior mean\n",
    "\n",
    "p_rain = pmf_rain.mean()\n",
    "p_rain"
   ]
  },
  {
   "cell_type": "code",
   "execution_count": 119,
   "metadata": {},
   "outputs": [
    {
     "data": {
      "text/plain": [
       "0.465"
      ]
     },
     "execution_count": 119,
     "metadata": {},
     "output_type": "execute_result"
    }
   ],
   "source": [
    "# Solution\n",
    "\n",
    "# Here's a predictive sample for which days it rains\n",
    "\n",
    "rained = np.random.random(len(sample)) < p_rain\n",
    "rained.mean()"
   ]
  },
  {
   "cell_type": "code",
   "execution_count": 120,
   "metadata": {},
   "outputs": [
    {
     "data": {
      "image/png": "[encoded data removed]",
      "text/plain": [
       "<Figure size 432x288 with 1 Axes>"
      ]
     },
     "metadata": {
      "needs_background": "light"
     },
     "output_type": "display_data"
    }
   ],
   "source": [
    "# Solution\n",
    "\n",
    "# Now to simulate rain days and non-rain days, we can\n",
    "# multiplytotal rainfall by Boolean True/False values,\n",
    "# which are treated as 1/0\n",
    "\n",
    "pred = rained * sample\n",
    "Cdf.from_seq(pred).plot()\n",
    "\n",
    "decorate(xlabel='Total rainfall (in)',\n",
    "         ylabel='CDF',\n",
    "         title='Posterior predictive distribution of rainfall')"
   ]
  },
  {
   "cell_type": "code",
   "execution_count": null,
   "metadata": {},
   "outputs": [],
   "source": []
  }
 ],
 "metadata": {
  "kernelspec": {
   "display_name": "Python 3",
   "language": "python",
   "name": "python3"
  },
  "language_info": {
   "codemirror_mode": {
    "name": "ipython",
    "version": 3
   },
   "file_extension": ".py",
   "mimetype": "text/x-python",
   "name": "python",
   "nbconvert_exporter": "python",
   "pygments_lexer": "ipython3",
   "version": "3.8.2"
  }
 },
 "nbformat": 4,
 "nbformat_minor": 1
}
