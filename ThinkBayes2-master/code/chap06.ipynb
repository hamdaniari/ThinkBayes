{
 "cells": [
  {
   "cell_type": "markdown",
   "metadata": {},
   "source": [
    "# Think Bayes\n",
    "\n",
    "Second Edition\n",
    "\n",
    "Copyright 2020 Allen B. Downey\n",
    "\n",
    "License: [Attribution-NonCommercial-ShareAlike 4.0 International (CC BY-NC-SA 4.0)](https://creativecommons.org/licenses/by-nc-sa/4.0/)"
   ]
  },
  {
   "cell_type": "code",
   "execution_count": 1,
   "metadata": {},
   "outputs": [],
   "source": [
    "# If we're running on Colab, install empiricaldist\n",
    "# https://pypi.org/project/empiricaldist/\n",
    "\n",
    "import sys\n",
    "IN_COLAB = 'google.colab' in sys.modules\n",
    "\n",
    "if IN_COLAB:\n",
    "    !pip install empiricaldist"
   ]
  },
  {
   "cell_type": "code",
   "execution_count": 2,
   "metadata": {},
   "outputs": [],
   "source": [
    "# Get utils.py and create directories\n",
    "\n",
    "import os\n",
    "\n",
    "if not os.path.exists('utils.py'):\n",
    "    !wget https://github.com/AllenDowney/ThinkBayes2/raw/master/code/soln/utils.py\n",
    "        \n",
    "if not os.path.exists('figs'):\n",
    "    !mkdir figs"
   ]
  },
  {
   "cell_type": "code",
   "execution_count": 3,
   "metadata": {},
   "outputs": [],
   "source": [
    "import numpy as np\n",
    "import pandas as pd\n",
    "import matplotlib.pyplot as plt\n",
    "\n",
    "from empiricaldist import Pmf, Cdf\n",
    "from utils import decorate, savefig"
   ]
  },
  {
   "cell_type": "markdown",
   "metadata": {},
   "source": [
    "## Introduction\n",
    "\n",
    "In the previous chapter we computed distributions of sums, differences, products, and quotients.\n",
    "\n",
    "In this chapter, we'll compute distributions of minima and maxima use them to solve inference problems.\n",
    "Then we'll look at distributions that are mixtures of other distributions, which will turn out to be particularly useful for making predictions.\n",
    "\n",
    "But we'll start with a powerful tool for working with distributions, the cumulative distribution function."
   ]
  },
  {
   "cell_type": "markdown",
   "metadata": {},
   "source": [
    "## Cumulative Distribution Functions\n",
    "\n",
    "So far we have been using probability mass functions to represent distributions.\n",
    "A useful alternative is the **cumulative distribution function**, or CDF.\n",
    "\n",
    "As an example, I'll use the posterior distribution from the Euro problem, which we computed in Chapter 3.\n",
    "\n",
    "Here's the uniform prior we started with."
   ]
  },
  {
   "cell_type": "code",
   "execution_count": 4,
   "metadata": {},
   "outputs": [],
   "source": [
    "hypos = np.linspace(0, 1, 101)\n",
    "pmf = Pmf(1, hypos)\n",
    "data = 140, 250"
   ]
  },
  {
   "cell_type": "markdown",
   "metadata": {},
   "source": [
    "And here's the update."
   ]
  },
  {
   "cell_type": "code",
   "execution_count": 5,
   "metadata": {},
   "outputs": [],
   "source": [
    "from scipy.stats import binom\n",
    "\n",
    "def update_binomial(pmf, data):\n",
    "    \"\"\"Update the PMF using the binomial distribution.\n",
    "    \n",
    "    pmf: Pmf representing the prior\n",
    "    data: tuple of integers k and n\n",
    "    \"\"\"\n",
    "    k, n = data\n",
    "    xs = pmf.qs\n",
    "    likelihood = binom.pmf(k, n, xs)\n",
    "    pmf *= likelihood\n",
    "    pmf.normalize()"
   ]
  },
  {
   "cell_type": "code",
   "execution_count": 6,
   "metadata": {},
   "outputs": [],
   "source": [
    "update_binomial(pmf, data)"
   ]
  },
  {
   "cell_type": "markdown",
   "metadata": {},
   "source": [
    "The CDF is the cumulative sum of the PMF, so we can compute it like this:"
   ]
  },
  {
   "cell_type": "code",
   "execution_count": 7,
   "metadata": {},
   "outputs": [],
   "source": [
    "cumulative = pmf.cumsum()"
   ]
  },
  {
   "cell_type": "markdown",
   "metadata": {},
   "source": [
    "Here's what it looks like."
   ]
  },
  {
   "cell_type": "code",
   "execution_count": 8,
   "metadata": {},
   "outputs": [],
   "source": [
    "def decorate_euro(title):\n",
    "    decorate(xlabel='Proportion of heads (x)',\n",
    "             ylabel='Probability',\n",
    "             title=title)"
   ]
  },
  {
   "cell_type": "code",
   "execution_count": 9,
   "metadata": {},
   "outputs": [],
   "source": [
    "cumulative.plot(label='CDF')\n",
    "pmf.plot(label='PMF')\n",
    "decorate_euro(title='Posterior distribution for the Euro problem')\n",
    "savefig('fig06-01')"
   ]
  },
  {
   "cell_type": "markdown",
   "metadata": {},
   "source": [
    "The range of the CDF is always from 0 to 1, in contrast with the PMF, where the maximum can be any probability.\n",
    "\n",
    "The result is a Pandas Series, so we can use the bracket operator to select an element:"
   ]
  },
  {
   "cell_type": "code",
   "execution_count": 10,
   "metadata": {},
   "outputs": [],
   "source": [
    "cumulative[0.61]"
   ]
  },
  {
   "cell_type": "markdown",
   "metadata": {},
   "source": [
    "The result is about 0.96, which means that the total probability of all quantities less than or equal to 0.61 is 96%.\n",
    "\n",
    "To go the other way --- to look up a probability and get the corresponding quantile --- we can use interpolation:"
   ]
  },
  {
   "cell_type": "code",
   "execution_count": 11,
   "metadata": {},
   "outputs": [],
   "source": [
    "from scipy.interpolate import interp1d\n",
    "\n",
    "ps = cumulative.values\n",
    "qs = cumulative.index\n",
    "\n",
    "interp = interp1d(ps, qs)\n",
    "interp(0.96)"
   ]
  },
  {
   "cell_type": "markdown",
   "metadata": {},
   "source": [
    "The result is about 0.61, so that confirms that the 96th percentile of this distribution is 0.61.\n",
    "\n",
    "`empiricaldist` provides a class called `Cdf` that represents a cumulative distribution function.\n",
    "Given a `Pmf`, you can compute a `Cdf` like this:"
   ]
  },
  {
   "cell_type": "code",
   "execution_count": 12,
   "metadata": {},
   "outputs": [],
   "source": [
    "cdf = pmf.make_cdf()"
   ]
  },
  {
   "cell_type": "markdown",
   "metadata": {},
   "source": [
    "`make_cdf` uses `np.cumsum` to compute the cumulative sum of the probabilities.\n",
    "\n",
    "You can use brackets to select an element from a `Cdf`:"
   ]
  },
  {
   "cell_type": "code",
   "execution_count": 13,
   "metadata": {},
   "outputs": [],
   "source": [
    "cdf[0.61]"
   ]
  },
  {
   "cell_type": "markdown",
   "metadata": {},
   "source": [
    "But if you look up a quantity that's not in the distribution, you get a `KeyError`.\n"
   ]
  },
  {
   "cell_type": "code",
   "execution_count": 14,
   "metadata": {},
   "outputs": [],
   "source": [
    "try:\n",
    "    cdf[0.615]\n",
    "except KeyError as e:\n",
    "    print('KeyError')"
   ]
  },
  {
   "cell_type": "markdown",
   "metadata": {},
   "source": [
    "You can also call a `Cdf` as a function, using parentheses.\n",
    "If the argument does not appear in the `Cdf`, it interpolates between quantities."
   ]
  },
  {
   "cell_type": "code",
   "execution_count": 15,
   "metadata": {},
   "outputs": [],
   "source": [
    "cdf(0.615)"
   ]
  },
  {
   "cell_type": "markdown",
   "metadata": {},
   "source": [
    "Going the other way, you can use `quantile` to look up a cumulative probability and get the corresponding quantity:\n"
   ]
  },
  {
   "cell_type": "code",
   "execution_count": 16,
   "metadata": {},
   "outputs": [],
   "source": [
    "cdf.quantile(0.9638303)"
   ]
  },
  {
   "cell_type": "markdown",
   "metadata": {},
   "source": [
    "`Cdf` also provides `credible_interval`, which computes a credible interval that contains the given probability:\n"
   ]
  },
  {
   "cell_type": "code",
   "execution_count": 17,
   "metadata": {},
   "outputs": [],
   "source": [
    "cdf.credible_interval(0.9)"
   ]
  },
  {
   "cell_type": "markdown",
   "metadata": {},
   "source": [
    "CDFs and PMFs are equivalent in the sense that they contain the\n",
    "same information about the distribution, and you can always convert\n",
    "from one to the other.\n",
    "Given a `Cdf`, you can get the equivalent `Pmf` like this:"
   ]
  },
  {
   "cell_type": "code",
   "execution_count": 18,
   "metadata": {},
   "outputs": [],
   "source": [
    "pmf = cdf.make_pmf()"
   ]
  },
  {
   "cell_type": "markdown",
   "metadata": {},
   "source": [
    "`make_pmf` uses `np.diff` to compute differences between consecutive cumulative probabilities.\n",
    "\n",
    "One reason `Cdf` objects are useful is that they compute quantiles efficiently.\n",
    "Another is that they make it easy to compute the distribution of a maximum or minimum, as we'll see in the next section."
   ]
  },
  {
   "cell_type": "markdown",
   "metadata": {},
   "source": [
    "## Best Three of Four\n",
    "\n",
    "In *Dungeons & Dragons*, each character has six attributes: strength, intelligence, wisdom, dexterity, constitution, and charisma.\n",
    "\n",
    "To generate a new character, players roll four 6-sided dice for each attribute and add up the best three.\n",
    "For example, if I roll for strength and get 1, 2, 3, 4 on the dice, my character's strength would be 9.\n",
    "\n",
    "As an exercise, let's figure out the distribution of these attributes.\n",
    "Then, for each character, we'll figure out the distribution of their best attribute.\n",
    "\n",
    "In the previous notebook, we computed the distribution of the sum of three dice like this:"
   ]
  },
  {
   "cell_type": "code",
   "execution_count": 19,
   "metadata": {},
   "outputs": [],
   "source": [
    "def make_die(sides):\n",
    "    \"\"\"Pmf that represents a die with the given number of sides.\n",
    "    \n",
    "    sides: int\n",
    "    \n",
    "    returns: Pmf\n",
    "    \"\"\"\n",
    "    outcomes = np.arange(1, sides+1)\n",
    "    die = Pmf(1/sides, outcomes)\n",
    "    return die"
   ]
  },
  {
   "cell_type": "code",
   "execution_count": 20,
   "metadata": {},
   "outputs": [],
   "source": [
    "def add_dist_seq(seq):\n",
    "    \"\"\"Distribution of sum of quantities from PMFs.\n",
    "    \n",
    "    seq: sequence of Pmf objects\n",
    "    \n",
    "    returns: Pmf\n",
    "    \"\"\"\n",
    "    total = seq[0]\n",
    "    for other in seq[1:]:\n",
    "        total = total.add_dist(other)\n",
    "    return total"
   ]
  },
  {
   "cell_type": "code",
   "execution_count": 21,
   "metadata": {},
   "outputs": [],
   "source": [
    "die = make_die(6)\n",
    "dice = [die] * 3"
   ]
  },
  {
   "cell_type": "code",
   "execution_count": 22,
   "metadata": {},
   "outputs": [],
   "source": [
    "pmf_3d6 = add_dist_seq(dice)"
   ]
  },
  {
   "cell_type": "markdown",
   "metadata": {},
   "source": [
    "Here's what that distribution looks like:"
   ]
  },
  {
   "cell_type": "code",
   "execution_count": 23,
   "metadata": {},
   "outputs": [],
   "source": [
    "def decorate_dice(title=''):\n",
    "    decorate(xlabel='Outcome',\n",
    "             ylabel='PMF',\n",
    "             title=title)"
   ]
  },
  {
   "cell_type": "code",
   "execution_count": 24,
   "metadata": {},
   "outputs": [],
   "source": [
    "pmf_3d6.plot()\n",
    "decorate_dice('Distribution of attributes')"
   ]
  },
  {
   "cell_type": "markdown",
   "metadata": {},
   "source": [
    "But if we roll four dice and add up the best three, computing the distribution of the sum is a bit more complicated.\n",
    "I'll estimate the distribution by simulating 10,000 rolls.\n",
    "\n",
    "First I'll create an array of random values from 1 to 6, with 10,000 rows and 4 columns:"
   ]
  },
  {
   "cell_type": "code",
   "execution_count": 25,
   "metadata": {},
   "outputs": [],
   "source": [
    "n = 10000\n",
    "a = np.random.randint(1, 7, size=(n, 4))"
   ]
  },
  {
   "cell_type": "markdown",
   "metadata": {},
   "source": [
    "To find the best three outcomes in each row, I'll sort along `axis=1`, which means across the columns."
   ]
  },
  {
   "cell_type": "code",
   "execution_count": 26,
   "metadata": {},
   "outputs": [],
   "source": [
    "a.sort(axis=1)"
   ]
  },
  {
   "cell_type": "markdown",
   "metadata": {},
   "source": [
    "Finally, I'll select the last three columns and add them up."
   ]
  },
  {
   "cell_type": "code",
   "execution_count": 27,
   "metadata": {},
   "outputs": [],
   "source": [
    "t = a[:, 1:].sum(axis=1)"
   ]
  },
  {
   "cell_type": "markdown",
   "metadata": {},
   "source": [
    "Now `t` is an array with a single column and 10,000 rows.\n",
    "We can compute the PMF of the values in `t` like this:"
   ]
  },
  {
   "cell_type": "code",
   "execution_count": 28,
   "metadata": {},
   "outputs": [],
   "source": [
    "pmf_4d6 = Pmf.from_seq(t)"
   ]
  },
  {
   "cell_type": "markdown",
   "metadata": {},
   "source": [
    "The following figure shows the distribution of the sum of three dice, `pmf_3d6`, and the distribution of the best three out of four, `pmf_4d6`."
   ]
  },
  {
   "cell_type": "code",
   "execution_count": 29,
   "metadata": {},
   "outputs": [],
   "source": [
    "pmf_3d6.plot(label='sum of 3 dice')\n",
    "pmf_4d6.plot(label='best 3 of 4')\n",
    "\n",
    "decorate_dice('Distribution of attributes')\n",
    "savefig('fig06-02')"
   ]
  },
  {
   "cell_type": "markdown",
   "metadata": {},
   "source": [
    "As you might expect, choosing the best three out of four tends to yield higher values.\n",
    "\n",
    "Next we'll find the distribution for the maximum of six attributes, each the sum of the best three of four dice."
   ]
  },
  {
   "cell_type": "markdown",
   "metadata": {},
   "source": [
    "## Maximum\n",
    "\n",
    "To compute the distribution of a maximum or minimum, we can make good use of the cumulative distribution function.\n",
    "First, I'll compute the `Cdf` of the best three of four distribution:"
   ]
  },
  {
   "cell_type": "code",
   "execution_count": 30,
   "metadata": {},
   "outputs": [],
   "source": [
    "cdf_4d6 = pmf_4d6.make_cdf()"
   ]
  },
  {
   "cell_type": "markdown",
   "metadata": {},
   "source": [
    "Recall that `Cdf(x)` is the sum of probabilities for quantities less than or equal to `x`.\n",
    "Equivalently, it is the probability that a random value chosen from the distribution is less than or equal to `x`.\n",
    "\n",
    "Now suppose I draw 6 values from this distribution.\n",
    "The probability that all 6 of them are less than or equal to `x` is `Cdf(x)` raised to the 6th power, which we can compute like this:"
   ]
  },
  {
   "cell_type": "code",
   "execution_count": 31,
   "metadata": {},
   "outputs": [],
   "source": [
    "cdf_4d6**6"
   ]
  },
  {
   "cell_type": "markdown",
   "metadata": {},
   "source": [
    "If all 6 values are less than or equal to `x`, that means that their maximum is less than or equal to `x`.\n",
    "So the result is the CDF of their maximum.\n",
    "We can convert it to a `Cdf` object, like this:"
   ]
  },
  {
   "cell_type": "code",
   "execution_count": 32,
   "metadata": {},
   "outputs": [],
   "source": [
    "from empiricaldist import Cdf\n",
    "\n",
    "cdf_max6 = Cdf(cdf_4d6**6)"
   ]
  },
  {
   "cell_type": "markdown",
   "metadata": {},
   "source": [
    "And compute the equivalent `Pmf` like this:"
   ]
  },
  {
   "cell_type": "code",
   "execution_count": 33,
   "metadata": {},
   "outputs": [],
   "source": [
    "pmf_max6 = cdf_max6.make_pmf()"
   ]
  },
  {
   "cell_type": "markdown",
   "metadata": {},
   "source": [
    "The following figure shows the result."
   ]
  },
  {
   "cell_type": "code",
   "execution_count": 34,
   "metadata": {},
   "outputs": [],
   "source": [
    "pmf_max6.plot(label='max of 6 attributes')\n",
    "\n",
    "decorate_dice('Distribution of attributes')"
   ]
  },
  {
   "cell_type": "markdown",
   "metadata": {},
   "source": [
    "Most characters have at least one attribute greater than 12; almost 10\\% of them have an 18.\n",
    "\n",
    "The following figure shows the CDFs for the three distributions we have computed."
   ]
  },
  {
   "cell_type": "code",
   "execution_count": 35,
   "metadata": {},
   "outputs": [],
   "source": [
    "cdf_3d6 = pmf_3d6.make_cdf()\n",
    "cdf_3d6.plot(label='best 3 of 4 dice')\n",
    "\n",
    "cdf_4d6 = pmf_4d6.make_cdf()\n",
    "cdf_4d6.plot(label='sum of 3 dice')\n",
    "\n",
    "cdf_max6.plot(label='max of 6 attributes')\n",
    "\n",
    "decorate_dice('Distribution of attributes')\n",
    "plt.ylabel('CDF');"
   ]
  },
  {
   "cell_type": "markdown",
   "metadata": {},
   "source": [
    "`Pmf` and `Cdf` provide `max_dist`, which does the same computation.\n",
    "We can compute the `Pmf` of the maximum like this:"
   ]
  },
  {
   "cell_type": "code",
   "execution_count": 36,
   "metadata": {},
   "outputs": [],
   "source": [
    "pmf_max_dist6 = pmf_4d6.max_dist(6)"
   ]
  },
  {
   "cell_type": "markdown",
   "metadata": {},
   "source": [
    "And the `Cdf` of the maximum like this:\n"
   ]
  },
  {
   "cell_type": "code",
   "execution_count": 37,
   "metadata": {},
   "outputs": [],
   "source": [
    "cdf_max_dist6 = cdf_4d6.max_dist(6)"
   ]
  },
  {
   "cell_type": "markdown",
   "metadata": {},
   "source": [
    "And we can confirm that the differences are small."
   ]
  },
  {
   "cell_type": "code",
   "execution_count": 38,
   "metadata": {},
   "outputs": [],
   "source": [
    "np.max(np.abs(pmf_max_dist6 - pmf_max6))"
   ]
  },
  {
   "cell_type": "code",
   "execution_count": 39,
   "metadata": {},
   "outputs": [],
   "source": [
    "np.max(np.abs(cdf_max_dist6 - cdf_max6))"
   ]
  },
  {
   "cell_type": "markdown",
   "metadata": {},
   "source": [
    "In the next section we'll find the distribution of the minimum.\n",
    "The process is similar, but a little more complicated.\n",
    "See if you can figure it out before you go on."
   ]
  },
  {
   "cell_type": "markdown",
   "metadata": {},
   "source": [
    "## Minimum\n",
    "\n",
    "In the previous section we computed the distribution of a character's best attribute.\n",
    "Now let's compute the distribution of the worst.\n",
    "\n",
    "To compute the distribution of the minimum, we'll use the **complementary CDF**, which we can compute like this:"
   ]
  },
  {
   "cell_type": "code",
   "execution_count": 40,
   "metadata": {},
   "outputs": [],
   "source": [
    "prob_gt = 1 - cdf_4d6\n",
    "prob_gt"
   ]
  },
  {
   "cell_type": "markdown",
   "metadata": {},
   "source": [
    "As the variable name suggests, the complementary CDF is the probability that a value from the distribution is greater than `x`.\n",
    "If we draw 6 values from the distribution, the probability that all 6 exceed `x` is:"
   ]
  },
  {
   "cell_type": "code",
   "execution_count": 41,
   "metadata": {},
   "outputs": [],
   "source": [
    "prob_gt6 = prob_gt**6\n",
    "prob_gt6"
   ]
  },
  {
   "cell_type": "markdown",
   "metadata": {},
   "source": [
    "If all 6 exceed `x`, that means their minimum exceeds `x`, so `prob_gt6` is the complementary CDF of the minimum.\n",
    "And that means we can compute the CDF of the minimum like this:"
   ]
  },
  {
   "cell_type": "code",
   "execution_count": 42,
   "metadata": {},
   "outputs": [],
   "source": [
    "prob_le6 = 1-prob_gt6\n",
    "prob_le6"
   ]
  },
  {
   "cell_type": "markdown",
   "metadata": {},
   "source": [
    "The result is a Pandas Series that represents the CDF of the minimum of six attributes.  We can put those values in a `Cdf` object like this:"
   ]
  },
  {
   "cell_type": "code",
   "execution_count": 43,
   "metadata": {},
   "outputs": [],
   "source": [
    "cdf_min6 = Cdf(prob_le6)"
   ]
  },
  {
   "cell_type": "markdown",
   "metadata": {},
   "source": [
    "Here's what it looks like."
   ]
  },
  {
   "cell_type": "code",
   "execution_count": 44,
   "metadata": {},
   "outputs": [],
   "source": [
    "cdf_min6.plot(color='C2', label='minimum of 6')\n",
    "cdf_max6.plot(color='C3', label='maximum of 6')\n",
    "decorate_dice('Minimum and maximum of six attributes')\n",
    "plt.ylabel('CDF')\n",
    "savefig('fig06-03')"
   ]
  },
  {
   "cell_type": "markdown",
   "metadata": {},
   "source": [
    "From the `Cdf` we can make the corresponding `Pmf`:"
   ]
  },
  {
   "cell_type": "code",
   "execution_count": 45,
   "metadata": {},
   "outputs": [],
   "source": [
    "pmf_min6 = cdf_min6.make_pmf()"
   ]
  },
  {
   "cell_type": "markdown",
   "metadata": {},
   "source": [
    "`Pmf` and `Cdf` provide `min_dist`, which does the same computation.\n",
    "We can compute the `Pmf` of the minimum like this:"
   ]
  },
  {
   "cell_type": "code",
   "execution_count": 46,
   "metadata": {},
   "outputs": [],
   "source": [
    "pmf_min_dist6 = pmf_4d6.min_dist(6)"
   ]
  },
  {
   "cell_type": "markdown",
   "metadata": {},
   "source": [
    "And the `Cdf` of the minimum like this:\n"
   ]
  },
  {
   "cell_type": "code",
   "execution_count": 47,
   "metadata": {},
   "outputs": [],
   "source": [
    "cdf_min_dist6 = cdf_4d6.min_dist(6)"
   ]
  },
  {
   "cell_type": "markdown",
   "metadata": {},
   "source": [
    "And we can confirm that the differences are small."
   ]
  },
  {
   "cell_type": "code",
   "execution_count": 48,
   "metadata": {},
   "outputs": [],
   "source": [
    "np.max(np.abs(pmf_min_dist6 - pmf_min6))"
   ]
  },
  {
   "cell_type": "code",
   "execution_count": 49,
   "metadata": {},
   "outputs": [],
   "source": [
    "np.max(np.abs(cdf_min_dist6 - cdf_min6))"
   ]
  },
  {
   "cell_type": "markdown",
   "metadata": {},
   "source": [
    "In the exercises at the end of this notebook, you'll use distributions of the minimum and maximum to do Bayesian inference.\n",
    "But first we'll see what happens when we mix distributions."
   ]
  },
  {
   "cell_type": "markdown",
   "metadata": {},
   "source": [
    "## Mixture\n",
    "\n",
    "Let's do one more example inspired by *Dungeons & Dragons*.\n",
    "Suppose I have a 4-sided die and a 6-sided die.\n",
    "I choose one of them at random and roll it.\n",
    "What is the distribution of the outcome?\n",
    "\n",
    "If you know which die it is, the answer is easy.\n",
    "A die with `n` sides yields a uniform distribution from 1 to `n`, including both.\n",
    "We can compute `Pmf` objects to represent the dice, like this:"
   ]
  },
  {
   "cell_type": "code",
   "execution_count": 50,
   "metadata": {},
   "outputs": [],
   "source": [
    "d4 = make_die(4)\n",
    "d6 = make_die(6)"
   ]
  },
  {
   "cell_type": "markdown",
   "metadata": {},
   "source": [
    "To compute the distribution of the mixture, we can compute the average of the two distributions by adding them and dividing the result by 2:"
   ]
  },
  {
   "cell_type": "code",
   "execution_count": 51,
   "metadata": {},
   "outputs": [],
   "source": [
    "total = Pmf.add(d4, d6, fill_value=0) / 2\n",
    "total"
   ]
  },
  {
   "cell_type": "markdown",
   "metadata": {},
   "source": [
    "We have to use `Pmf.add` with `fill_value=0` because the two distributions don't have the same set of quantities.\n",
    "If they did, we could use the `+` operator.\n",
    "\n",
    "Here's what the mixture of these distributions looks like."
   ]
  },
  {
   "cell_type": "code",
   "execution_count": 52,
   "metadata": {},
   "outputs": [],
   "source": [
    "mix = Pmf(total)\n",
    "mix.bar(alpha=0.7)\n",
    "decorate_dice()"
   ]
  },
  {
   "cell_type": "markdown",
   "metadata": {},
   "source": [
    "Now suppose I have a 4-sided die and *two* 6-sided dice.\n",
    "Again, I choose one of them at random and roll it.\n",
    "What is the distribution of the outcome?\n",
    "\n",
    "We can solve this problem by computing a weighted average of the distributions, like this:"
   ]
  },
  {
   "cell_type": "code",
   "execution_count": 53,
   "metadata": {},
   "outputs": [],
   "source": [
    "total = Pmf.add(d4, 2*d6, fill_value=0) / 3"
   ]
  },
  {
   "cell_type": "markdown",
   "metadata": {},
   "source": [
    "Here's what it looks like."
   ]
  },
  {
   "cell_type": "code",
   "execution_count": 54,
   "metadata": {},
   "outputs": [],
   "source": [
    "mix = Pmf(total)\n",
    "mix.normalize()\n",
    "mix.bar(alpha=0.7)\n",
    "decorate_dice()"
   ]
  },
  {
   "cell_type": "markdown",
   "metadata": {},
   "source": [
    "Finally, suppose we have a box with the following mix:\n",
    "\n",
    "```\n",
    "1  4-sided die\n",
    "2  6-sided dice\n",
    "3  8-sided dice\n",
    "```\n",
    "\n",
    "If I draw a die from this mix at random, we can use a `Pmf` to represent the hypothetical number of sides on the die:"
   ]
  },
  {
   "cell_type": "code",
   "execution_count": 55,
   "metadata": {},
   "outputs": [],
   "source": [
    "hypos = [4,6,8]\n",
    "counts = [1,2,3]\n",
    "pmf_dice = Pmf(counts, hypos)\n",
    "pmf_dice.normalize()\n",
    "pmf_dice"
   ]
  },
  {
   "cell_type": "markdown",
   "metadata": {},
   "source": [
    "And I'll make a sequence of `Pmf` objects to represent the dice:"
   ]
  },
  {
   "cell_type": "code",
   "execution_count": 56,
   "metadata": {},
   "outputs": [],
   "source": [
    "dice = [make_die(sides) for sides in hypos]"
   ]
  },
  {
   "cell_type": "markdown",
   "metadata": {},
   "source": [
    "Now we have to multiply each distribution in `dice` by the corresponding probabilities in `pmf_dice`.\n",
    "To express this computation concisely, it is convenient to put the distributions into a Pandas DataFrame:"
   ]
  },
  {
   "cell_type": "code",
   "execution_count": 57,
   "metadata": {},
   "outputs": [],
   "source": [
    "pd.DataFrame(dice)"
   ]
  },
  {
   "cell_type": "markdown",
   "metadata": {},
   "source": [
    "The result is a DataFrame with one row for each distribution and one column for each possible outcome.\n",
    "Not all rows are the same length, so Pandas fills the extra spaces with the special value `NaN`, which stands for ``not a number''.\n",
    "We can use `fillna` to replace the `NaN` values with 0."
   ]
  },
  {
   "cell_type": "code",
   "execution_count": 58,
   "metadata": {},
   "outputs": [],
   "source": [
    "pd.DataFrame(dice).fillna(0)"
   ]
  },
  {
   "cell_type": "markdown",
   "metadata": {},
   "source": [
    "Before we multiply by the probabilities in `pmf_dice`, we have to transpose the matrix so the distributions run down the columns rather than across the rows:\n"
   ]
  },
  {
   "cell_type": "code",
   "execution_count": 59,
   "metadata": {},
   "outputs": [],
   "source": [
    "df = pd.DataFrame(dice).fillna(0).transpose()\n",
    "df"
   ]
  },
  {
   "cell_type": "markdown",
   "metadata": {},
   "source": [
    "Now we can multiply by the probabilities:\n"
   ]
  },
  {
   "cell_type": "code",
   "execution_count": 60,
   "metadata": {},
   "outputs": [],
   "source": [
    "df *= pmf_dice.ps\n",
    "df"
   ]
  },
  {
   "cell_type": "markdown",
   "metadata": {},
   "source": [
    "And add up the weighted distributions:\n"
   ]
  },
  {
   "cell_type": "code",
   "execution_count": 61,
   "metadata": {},
   "outputs": [],
   "source": [
    "df.sum(axis=1)"
   ]
  },
  {
   "cell_type": "markdown",
   "metadata": {},
   "source": [
    "The argument `axis=1` means we want to sum across the rows.\n",
    "The result is a Pandas Series.\n",
    "\n",
    "Putting it all together, here's a function that makes a weighted mixture of distributions."
   ]
  },
  {
   "cell_type": "code",
   "execution_count": 62,
   "metadata": {},
   "outputs": [],
   "source": [
    "def make_mixture(pmf, pmf_seq):\n",
    "    \"\"\"Make a mixture of distributions.\n",
    "    \n",
    "    pmf: mapping from each hypothesis to its probability\n",
    "    pmf_seq: sequence of Pmfs, each representing \n",
    "             a conditional distribution for one hypothesis\n",
    "             \n",
    "    returns: Pmf representing the mixture\n",
    "    \"\"\"\n",
    "    df = pd.DataFrame(pmf_seq).fillna(0).transpose()\n",
    "    df *= pmf.ps\n",
    "    total = df.sum(axis=1)\n",
    "    return Pmf(total)"
   ]
  },
  {
   "cell_type": "markdown",
   "metadata": {},
   "source": [
    "The first parameter is a `Pmf` that makes from each hypothesis to a probability.\n",
    "The second parameter is a sequence of `Pmf` objects, one for each hypothesis.\n",
    "We can call it like this:"
   ]
  },
  {
   "cell_type": "code",
   "execution_count": 63,
   "metadata": {},
   "outputs": [],
   "source": [
    "mix = make_mixture(pmf_dice, dice)"
   ]
  },
  {
   "cell_type": "markdown",
   "metadata": {},
   "source": [
    "And here's what it looks like."
   ]
  },
  {
   "cell_type": "code",
   "execution_count": 64,
   "metadata": {},
   "outputs": [],
   "source": [
    "mix.bar(label='mixture', alpha=0.6)\n",
    "decorate_dice('Mixture of Uniform Distributions')\n",
    "savefig('fig06-04')"
   ]
  },
  {
   "cell_type": "markdown",
   "metadata": {},
   "source": [
    "## Summary \n",
    "\n",
    "We have seen two representations of distributions: `Pmf` and `Cdf` objects.\n",
    "These representations are equivalent in the sense that they contain\n",
    "the same information, so you can convert from one to the other.  The\n",
    "primary difference between them is performance: some operations are\n",
    "faster and easier with a Pmf; others are faster with a Cdf.\n",
    "\n",
    "In this chapter we used `Cdf` objects to compute distributions of maxima and minima; these distributions are useful for inference if we are given a maximum or minimum as data.\n",
    "\n",
    "We also computed mixtures of distributions, which we will use in the next chapter to make predictions."
   ]
  },
  {
   "cell_type": "markdown",
   "metadata": {},
   "source": [
    "## Exercises"
   ]
  },
  {
   "cell_type": "markdown",
   "metadata": {},
   "source": [
    "**Exercise:** When you generate a D&D character, instead of rolling dice, you can use the \"standard array\" of attributes, which is 15, 14, 13, 12, 10, and 8.\n",
    "\n",
    "Do you think you are better off using the standard array or (literally) rolling the dice?\n",
    "\n",
    "Compare the distribution of the values in the standard array to the distribution we computed for the best three out of four:\n",
    "\n",
    "* Which distribution has higher mean?  Use the `mean` method.\n",
    "\n",
    "* Which distribution has higher standard deviation?  Use the `std` method.\n",
    "\n",
    "* The lowest value in the standard array is 8.  For each attribute, what is the probability of getting a value less than 8?  If you roll the dice six times, what's the probability that at least one of your attributes is less than 8?\n",
    "\n",
    "* The highest value in the standard array is 15.  For each attribute, what is the probability of getting a value greater than 15?  If you roll the dice six times, what's the probability that at least one of your attributes is greater than 15?"
   ]
  },
  {
   "cell_type": "markdown",
   "metadata": {},
   "source": [
    "To get you started, here's a `Cdf` that represents the distribution of attributes in the standard array:"
   ]
  },
  {
   "cell_type": "code",
   "execution_count": 65,
   "metadata": {},
   "outputs": [],
   "source": [
    "standard = [15,14,13,12,10,8]\n",
    "cdf_standard = Cdf.from_seq(standard)"
   ]
  },
  {
   "cell_type": "markdown",
   "metadata": {},
   "source": [
    "We can compare it to the distribution of attributes you get by rolling four dice at adding up the best three."
   ]
  },
  {
   "cell_type": "code",
   "execution_count": 66,
   "metadata": {},
   "outputs": [],
   "source": [
    "cdf_4d6.plot(label='max of 6 attributes')\n",
    "cdf_standard.step(label='standard set')\n",
    "\n",
    "decorate_dice('Distribution of attributes')\n",
    "plt.ylabel('CDF');"
   ]
  },
  {
   "cell_type": "markdown",
   "metadata": {},
   "source": [
    "I plotted `cdf_standard` as a step function to show more clearly that it contains only a few quantities."
   ]
  },
  {
   "cell_type": "code",
   "execution_count": 67,
   "metadata": {},
   "outputs": [],
   "source": [
    "# Solution goes here"
   ]
  },
  {
   "cell_type": "code",
   "execution_count": 68,
   "metadata": {
    "scrolled": true
   },
   "outputs": [],
   "source": [
    "# Solution goes here"
   ]
  },
  {
   "cell_type": "code",
   "execution_count": 69,
   "metadata": {},
   "outputs": [],
   "source": [
    "# Solution goes here"
   ]
  },
  {
   "cell_type": "code",
   "execution_count": 70,
   "metadata": {},
   "outputs": [],
   "source": [
    "# Solution goes here"
   ]
  },
  {
   "cell_type": "code",
   "execution_count": 71,
   "metadata": {},
   "outputs": [],
   "source": [
    "# Solution goes here"
   ]
  },
  {
   "cell_type": "code",
   "execution_count": 72,
   "metadata": {},
   "outputs": [],
   "source": [
    "# Solution goes here"
   ]
  },
  {
   "cell_type": "markdown",
   "metadata": {},
   "source": [
    "**Exercise:** Suppose I have a box with a 6-sided die, an 8-sided die, and a 12-sided die.\n",
    "I choose one of the dice at random, roll it, and report that the outcome is a 1.\n",
    "If I roll the same die again, what is the probability that I get another 1?\n",
    "\n",
    "Hint: Compute the posterior distribution as we have done before and pass it as one of the arguments to `make_mixture`."
   ]
  },
  {
   "cell_type": "code",
   "execution_count": 73,
   "metadata": {},
   "outputs": [],
   "source": [
    "# Solution goes here"
   ]
  },
  {
   "cell_type": "code",
   "execution_count": 74,
   "metadata": {},
   "outputs": [],
   "source": [
    "# Solution goes here"
   ]
  },
  {
   "cell_type": "code",
   "execution_count": 75,
   "metadata": {},
   "outputs": [],
   "source": [
    "# Solution goes here"
   ]
  },
  {
   "cell_type": "code",
   "execution_count": 76,
   "metadata": {},
   "outputs": [],
   "source": [
    "# Solution goes here"
   ]
  },
  {
   "cell_type": "markdown",
   "metadata": {},
   "source": [
    "**Exercise:**  Suppose I have two boxes of dice:\n",
    "\n",
    "* One contains a 4-sided die and a 6-sided die.\n",
    "\n",
    "* The other contains a 6-sided die and an 8-sided die.\n",
    "\n",
    "I choose a box at random, choose a die, and roll it 3 times.  If I get 2, 4, and 6, which box do you think I chose?"
   ]
  },
  {
   "cell_type": "code",
   "execution_count": 77,
   "metadata": {},
   "outputs": [],
   "source": [
    "# Solution goes here"
   ]
  },
  {
   "cell_type": "code",
   "execution_count": 78,
   "metadata": {},
   "outputs": [],
   "source": [
    "# Solution goes here"
   ]
  },
  {
   "cell_type": "code",
   "execution_count": 79,
   "metadata": {},
   "outputs": [],
   "source": [
    "# Solution goes here"
   ]
  },
  {
   "cell_type": "code",
   "execution_count": 80,
   "metadata": {},
   "outputs": [],
   "source": [
    "# Solution goes here"
   ]
  },
  {
   "cell_type": "code",
   "execution_count": 81,
   "metadata": {},
   "outputs": [],
   "source": [
    "# Solution goes here"
   ]
  },
  {
   "cell_type": "code",
   "execution_count": 82,
   "metadata": {},
   "outputs": [],
   "source": [
    "# Solution goes here"
   ]
  },
  {
   "cell_type": "code",
   "execution_count": 83,
   "metadata": {},
   "outputs": [],
   "source": [
    "# Solution goes here"
   ]
  },
  {
   "cell_type": "markdown",
   "metadata": {},
   "source": [
    "**Exercise:** Henri Poincaré was a French mathematician who taught at the Sorbonne around 1900. The following anecdote about him is probably fabricated, but it makes an interesting probability problem.\n",
    "\n",
    "Supposedly Poincaré suspected that his local bakery was selling loaves of bread that were lighter than the advertised weight of 1 kg, so every day for a year he bought a loaf of bread, brought it home and weighed it. At the end of the year, he plotted the distribution of his measurements and showed that it fit a normal distribution with mean 950 g and standard deviation 50 g. He brought this evidence to the bread police, who gave the baker a warning.\n",
    "\n",
    "For the next year, Poincaré continued the practice of weighing his bread every day. At the end of the year, he found that the average weight was 1000 g, just as it should be, but again he complained to the bread police, and this time they fined the baker.\n",
    "\n",
    "Why? Because the shape of the distribution was asymmetric. Unlike the normal distribution, it was skewed to the right, which is consistent with the hypothesis that the baker was still making 950 g loaves, but deliberately giving Poincaré the heavier ones.\n",
    "\n",
    "To see whether this anecdote is plausible, let's suppose that when the baker sees Poincaré coming, he hefts `n` loaves of bread and gives Poincaré the heaviest one.  How many loaves would the baker have to heft to make the average of the maximum 1000 g?\n",
    "\n",
    "To get you started, I'll generate a year's worth of data from a normal distribution with the given parameters."
   ]
  },
  {
   "cell_type": "code",
   "execution_count": 84,
   "metadata": {},
   "outputs": [],
   "source": [
    "mean = 950\n",
    "std = 50\n",
    "sample = np.random.normal(mean, std, size=365)"
   ]
  },
  {
   "cell_type": "code",
   "execution_count": 85,
   "metadata": {},
   "outputs": [],
   "source": [
    "# Solution goes here"
   ]
  },
  {
   "cell_type": "code",
   "execution_count": 86,
   "metadata": {},
   "outputs": [],
   "source": [
    "# Solution goes here"
   ]
  },
  {
   "cell_type": "markdown",
   "metadata": {},
   "source": [
    "**Exercise:**  Two doctors fresh out of medical school are arguing about whose hospital delivers more babies.  The first doctor says, \"I've been at Hospital A for two weeks, and already we've had a day when we delivered 20 babies.\"\n",
    "\n",
    "The second doctor says, \"I've only been at Hospital B for one week, but already there's been a 19-baby day.\"\n",
    "\n",
    "Which hospital do you think delivers more babies on average?  You can assume that the number of babies born in a day is well modeled by a [Poisson distribution](https://en.wikipedia.org/wiki/Poisson_distribution) with parameter $\\lambda$.\n",
    "\n",
    "For a hypothetical value of $\\lambda$, you can compute the PMF of a Poisson distribution like this:"
   ]
  },
  {
   "cell_type": "code",
   "execution_count": 87,
   "metadata": {},
   "outputs": [],
   "source": [
    "from scipy.stats import poisson\n",
    "\n",
    "def make_poisson(lam):\n",
    "    high = np.round(lam * 4)\n",
    "    qs = np.arange(0, int(high))\n",
    "    ps = poisson(lam).pmf(qs)\n",
    "    pmf = Pmf(ps, qs)\n",
    "    pmf.normalize()\n",
    "    return pmf"
   ]
  },
  {
   "cell_type": "markdown",
   "metadata": {},
   "source": [
    "For example, if the actual value of $\\lambda$ is 8, the distribution of babies born in a single day looks like this:"
   ]
  },
  {
   "cell_type": "code",
   "execution_count": 88,
   "metadata": {},
   "outputs": [],
   "source": [
    "pmf = make_poisson(8)\n",
    "pmf.plot()\n",
    "decorate(xlabel='Number of babies', \n",
    "         ylabel='PMF',\n",
    "         title='Distribution of babies in a single day')"
   ]
  },
  {
   "cell_type": "markdown",
   "metadata": {},
   "source": [
    "The mean of this distribution is the parameter, $\\lambda$."
   ]
  },
  {
   "cell_type": "code",
   "execution_count": 89,
   "metadata": {},
   "outputs": [],
   "source": [
    "pmf.mean()"
   ]
  },
  {
   "cell_type": "markdown",
   "metadata": {},
   "source": [
    "And here's what the distributions look like for the maximum number of babies after one week or two weeks."
   ]
  },
  {
   "cell_type": "code",
   "execution_count": 90,
   "metadata": {},
   "outputs": [],
   "source": [
    "pmf_max = pmf.max_dist(2 * 7)\n",
    "pmf_max.plot(label='two weeks')\n",
    "\n",
    "pmf_max = pmf.max_dist(7)\n",
    "pmf_max.plot(label='one week')\n",
    "\n",
    "decorate(xlabel='Number of babies', \n",
    "         ylabel='PMF',\n",
    "         title='Distribution of maximum babies in one day')"
   ]
  },
  {
   "cell_type": "markdown",
   "metadata": {},
   "source": [
    "Now you finish it off from there."
   ]
  },
  {
   "cell_type": "code",
   "execution_count": 91,
   "metadata": {},
   "outputs": [],
   "source": [
    "# Solution goes here"
   ]
  },
  {
   "cell_type": "code",
   "execution_count": 92,
   "metadata": {},
   "outputs": [],
   "source": [
    "# Solution goes here"
   ]
  },
  {
   "cell_type": "code",
   "execution_count": 93,
   "metadata": {},
   "outputs": [],
   "source": [
    "# Solution goes here"
   ]
  },
  {
   "cell_type": "code",
   "execution_count": 94,
   "metadata": {},
   "outputs": [],
   "source": [
    "# Solution goes here"
   ]
  },
  {
   "cell_type": "code",
   "execution_count": 95,
   "metadata": {},
   "outputs": [],
   "source": [
    "# Solution goes here"
   ]
  },
  {
   "cell_type": "code",
   "execution_count": 96,
   "metadata": {},
   "outputs": [],
   "source": [
    "# Solution goes here"
   ]
  },
  {
   "cell_type": "code",
   "execution_count": 97,
   "metadata": {},
   "outputs": [],
   "source": [
    "# Solution goes here"
   ]
  },
  {
   "cell_type": "markdown",
   "metadata": {},
   "source": [
    "**Exercise:**  This question is related to [a method I developed](https://patents.google.com/patent/US8385227B1/en) for estimating the minimum time for a packet of data to travel through a path in the internet.\n",
    "\n",
    "Suppose I drive the same route three times and the fastest of the three attempts takes 8 minutes.\n",
    "\n",
    "There are two traffic lights on the route.  As I approach each light, there is a 40% chance that it is green; in that case, it causes no delay.  And there is a 60% change it is red; in that case it causes a delay that is uniformly distributed from 0 to 60 seconds.\n",
    "\n",
    "What is the posterior distribution of the time it would take to drive the route with no delays?\n",
    "\n",
    "To get you started, here is the distribution of delays if the light is red."
   ]
  },
  {
   "cell_type": "code",
   "execution_count": 98,
   "metadata": {},
   "outputs": [],
   "source": [
    "qs = np.arange(1, 61)\n",
    "pmf_delay = Pmf(1, qs)\n",
    "pmf_delay.normalize()"
   ]
  },
  {
   "cell_type": "markdown",
   "metadata": {},
   "source": [
    "And the distribution of delays if the light is green: always 0."
   ]
  },
  {
   "cell_type": "code",
   "execution_count": 99,
   "metadata": {},
   "outputs": [],
   "source": [
    "pmf_nodelay = Pmf.from_seq([0])\n",
    "pmf_nodelay"
   ]
  },
  {
   "cell_type": "markdown",
   "metadata": {},
   "source": [
    "Here is the mixture of delays due to red and green lights."
   ]
  },
  {
   "cell_type": "code",
   "execution_count": 100,
   "metadata": {},
   "outputs": [],
   "source": [
    "pmf = Pmf([0.4, 0.6])\n",
    "pmf_total = make_mixture(pmf, [pmf_nodelay, pmf_delay])\n",
    "pmf_total"
   ]
  },
  {
   "cell_type": "markdown",
   "metadata": {},
   "source": [
    "Now I suggest the following steps:\n",
    "\n",
    "1. Compute the distribution for the sum of two delays.\n",
    "\n",
    "2. Compute the distribution for the lowest total delay after three attempts.\n",
    "\n",
    "3. Make a prior distribution with a range of possible values for the no-delay travel time.\n",
    "\n",
    "4. For each hypothesis, compute the likelihood of the observed minimum travel time, 8 minutes.\n",
    "\n",
    "5. Compute the posterior distribution for the no-delay travel time."
   ]
  },
  {
   "cell_type": "code",
   "execution_count": 101,
   "metadata": {},
   "outputs": [],
   "source": [
    "# Solution goes here"
   ]
  },
  {
   "cell_type": "code",
   "execution_count": 102,
   "metadata": {},
   "outputs": [],
   "source": [
    "# Solution goes here"
   ]
  },
  {
   "cell_type": "code",
   "execution_count": 103,
   "metadata": {},
   "outputs": [],
   "source": [
    "# Solution goes here"
   ]
  },
  {
   "cell_type": "code",
   "execution_count": 104,
   "metadata": {},
   "outputs": [],
   "source": [
    "# Solution goes here"
   ]
  },
  {
   "cell_type": "code",
   "execution_count": 105,
   "metadata": {},
   "outputs": [],
   "source": [
    "# Solution goes here"
   ]
  },
  {
   "cell_type": "code",
   "execution_count": 106,
   "metadata": {},
   "outputs": [],
   "source": [
    "# Solution goes here"
   ]
  },
  {
   "cell_type": "code",
   "execution_count": 107,
   "metadata": {},
   "outputs": [],
   "source": [
    "# Solution goes here"
   ]
  },
  {
   "cell_type": "code",
   "execution_count": null,
   "metadata": {},
   "outputs": [],
   "source": []
  }
 ],
 "metadata": {
  "kernelspec": {
   "display_name": "Python 3",
   "language": "python",
   "name": "python3"
  },
  "language_info": {
   "codemirror_mode": {
    "name": "ipython",
    "version": 3
   },
   "file_extension": ".py",
   "mimetype": "text/x-python",
   "name": "python",
   "nbconvert_exporter": "python",
   "pygments_lexer": "ipython3",
   "version": "3.8.2"
  }
 },
 "nbformat": 4,
 "nbformat_minor": 4
}
