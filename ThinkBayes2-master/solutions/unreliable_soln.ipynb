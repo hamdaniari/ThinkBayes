{
 "cells": [
  {
   "cell_type": "markdown",
   "metadata": {},
   "source": [
    "# Think Bayes\n",
    "\n",
    "This notebook presents example code and exercise solutions for Think Bayes.\n",
    "\n",
    "Copyright 2018 Allen B. Downey\n",
    "\n",
    "MIT License: https://opensource.org/licenses/MIT"
   ]
  },
  {
   "cell_type": "code",
   "execution_count": null,
   "metadata": {},
   "outputs": [],
   "source": [
    "# Configure Jupyter so figures appear in the notebook\n",
    "%matplotlib inline\n",
    "\n",
    "# Configure Jupyter to display the assigned value after an assignment\n",
    "%config InteractiveShell.ast_node_interactivity='last_expr_or_assign'\n",
    "\n",
    "# import classes from thinkbayes2\n",
    "from thinkbayes2 import Hist, Pmf, Suite, Beta\n",
    "import thinkplot"
   ]
  },
  {
   "cell_type": "markdown",
   "metadata": {},
   "source": [
    "## Unreliable observation\n",
    "\n",
    "Suppose that instead of observing coin tosses directly, you measure the outcome using an instrument that is not always correct. Specifically, suppose there is a probability `y` that an actual heads is reported as tails, or actual tails reported as heads.\n",
    "\n",
    "Write a class that estimates the bias of a coin given a series of outcomes and the value of `y`.\n",
    "\n",
    "How does the spread of the posterior distribution depend on `y`?"
   ]
  },
  {
   "cell_type": "code",
   "execution_count": null,
   "metadata": {},
   "outputs": [],
   "source": [
    "# Solution\n",
    "\n",
    "# Here's a class that models an unreliable coin\n",
    "\n",
    "class UnreliableCoin(Suite):\n",
    "    \n",
    "    def __init__(self, prior, y):\n",
    "        \"\"\"\n",
    "        prior: seq or map\n",
    "        y: probability of accurate measurement\n",
    "        \"\"\"\n",
    "        super().__init__(prior)\n",
    "        self.y = y\n",
    "    \n",
    "    def Likelihood(self, data, hypo):\n",
    "        \"\"\"\n",
    "        data: outcome of unreliable measurement, either 'H' or 'T'\n",
    "        hypo: probability of heads, 0-100\n",
    "        \"\"\"\n",
    "        x = hypo / 100\n",
    "        y = self.y\n",
    "        if data == 'H':\n",
    "            return x*(1-y) + (1-x)*y\n",
    "        else:\n",
    "            return x*y + (1-x)*(1-y)"
   ]
  },
  {
   "cell_type": "code",
   "execution_count": null,
   "metadata": {},
   "outputs": [],
   "source": [
    "# Solution\n",
    "\n",
    "# Now let's initialize one with `y=0.1`:\n",
    "\n",
    "prior = range(0, 101)\n",
    "suite = UnreliableCoin(prior, y=0.1)\n",
    "thinkplot.Pdf(suite)"
   ]
  },
  {
   "cell_type": "code",
   "execution_count": null,
   "metadata": {},
   "outputs": [],
   "source": [
    "# Solution\n",
    "\n",
    "# And update with 3 heads and 7 tails.\n",
    "\n",
    "for outcome in 'HHHTTTTTTT':\n",
    "    suite.Update(outcome)\n",
    "    \n",
    "thinkplot.Pdf(suite)"
   ]
  },
  {
   "cell_type": "code",
   "execution_count": null,
   "metadata": {},
   "outputs": [],
   "source": [
    "# Solution\n",
    "\n",
    "# Now let's try it out with different values of `y`:\n",
    "\n",
    "def compute_prior(y):\n",
    "    prior = range(0, 101)\n",
    "    suite = UnreliableCoin(prior, y=y)\n",
    "    for outcome in 'HHHTTTTTTT':\n",
    "        suite.Update(outcome)\n",
    "    \n",
    "    thinkplot.Pdf(suite, label='y=%g' % y)"
   ]
  },
  {
   "cell_type": "code",
   "execution_count": null,
   "metadata": {},
   "outputs": [],
   "source": [
    "# Solution\n",
    "\n",
    "# The posterior distribution gets wider as the measurement gets less reliable.\n",
    "\n",
    "compute_prior(0)\n",
    "compute_prior(0.2)\n",
    "compute_prior(0.4)\n",
    "thinkplot.config(legend=True)"
   ]
  },
  {
   "cell_type": "code",
   "execution_count": null,
   "metadata": {},
   "outputs": [],
   "source": [
    "# Solution\n",
    "\n",
    "# At `y=0.5`, the measurement provides no information, so the posterior equals the prior:\n",
    "\n",
    "compute_prior(0.5)\n",
    "thinkplot.config(legend=True)"
   ]
  },
  {
   "cell_type": "code",
   "execution_count": null,
   "metadata": {},
   "outputs": [],
   "source": [
    "# Solution\n",
    "\n",
    "# As the coin gets less reliable (below `y=0.5`) the distribution gets narrower again.  \n",
    "# In fact, a measurement with `y=1` is just as good as one with `y=0`, \n",
    "# provided that we know what `y` is.\n",
    "\n",
    "compute_prior(0.6)\n",
    "compute_prior(0.8)\n",
    "compute_prior(1.0)\n",
    "thinkplot.config(legend=True)"
   ]
  },
  {
   "cell_type": "markdown",
   "metadata": {},
   "source": [
    "## Unreliable evaluators\n",
    "\n",
    "This exercise is inspired by a question posted by a “redditor” named dominosci on Reddit’s statistics “subreddit” at http://reddit.com/r/statistics.\n",
    "\n",
    "Reddit is an online forum with many interest groups called subreddits. Users, called redditors, post links to online content and other web pages. Other redditors vote on the links, giving an “upvote” to high-quality links and a “downvote” to links that are bad or irrelevant.\n",
    "\n",
    "A problem, identified by dominosci, is that some redditors are more reliable than others, and Reddit does not take this into account.\n",
    "\n",
    "The challenge is to devise a system so that when a redditor casts a vote, the estimated quality of the link is updated in accordance with the reliability of the redditor, and the estimated reliability of the redditor is updated in accordance with the quality of the link.\n",
    "\n",
    "One approach is to model the quality of the link as the probability of garnering an upvote, and to model the reliability of the redditor as the probability of correctly giving an upvote to a high-quality item.\n",
    "\n",
    "Write class definitions for redditors and links and an update function that updates both objects whenever a redditor casts a vote."
   ]
  },
  {
   "cell_type": "code",
   "execution_count": null,
   "metadata": {},
   "outputs": [],
   "source": [
    "# Solution\n",
    "\n",
    "# Here's one possible model:\n",
    "\n",
    "#  Each article has a quality Q, which is the probability of \n",
    "#  eliciting an upvote from a completely reliable redditor. \n",
    "\n",
    "#  Each user has a reliability R, which is the probability of\n",
    "#  giving an upvote to an item with Q=1.\n",
    "\n",
    "#  The probability that a redditor with reliability R gives an\n",
    "#  upvote to an item with quality Q is `R*Q + (1-R) * (1-Q)`\n",
    "\n",
    "# Now when a redditor votes on a item, we simultaneously update our\n",
    "# belief about the redditor and the item.\n",
    "\n",
    "class Redditor(Suite):\n",
    "    \"\"\"Represents hypotheses about the trustworthiness of a redditor.\"\"\"\n",
    "\n",
    "    def Likelihood(self, data, hypo):\n",
    "        \"\"\"Computes the likelihood of the data under the hypothesis.\n",
    "\n",
    "        hypo: integer value of r, the prob of a correct vote (0-100)\n",
    "        data: (vote, q) pair, where vote is 'up' or 'down' and\n",
    "              q is the mean quality of the link\n",
    "        \"\"\"\n",
    "        r = hypo / 100.0\n",
    "        vote, q = data\n",
    "\n",
    "        if vote == 'up':\n",
    "            return r * q + (1-r) * (1-q)\n",
    "        elif vote == 'down':\n",
    "            return r * (1-q) + (1-r) * q\n",
    "        else:\n",
    "            return 0"
   ]
  },
  {
   "cell_type": "code",
   "execution_count": null,
   "metadata": {},
   "outputs": [],
   "source": [
    "# Solution\n",
    "    \n",
    "class Item(Suite):\n",
    "    \"\"\"Represents hypotheses about the quality of an item.\"\"\"\n",
    "\n",
    "    def Likelihood(self, data, hypo):\n",
    "        \"\"\"Computes the likelihood of the data under the hypothesis.\n",
    "\n",
    "        hypo: integer value of x, the prob of garnering an upvote\n",
    "        data: (vote, t) pair, where vote is 'up' or 'down' and\n",
    "              t is the mean trustworthiness of the redditor\n",
    "        \"\"\"\n",
    "        q = hypo / 100.0\n",
    "        vote, r = data\n",
    "\n",
    "        if vote == 'up':\n",
    "            return q * r + (1-q) * (1-r)\n",
    "        elif vote == 'down':\n",
    "            return q * (1-r) + (1-q) * r\n",
    "        else:\n",
    "            return 0"
   ]
  },
  {
   "cell_type": "code",
   "execution_count": null,
   "metadata": {},
   "outputs": [],
   "source": [
    "# Solution\n",
    "    \n",
    "# Suppose we start with a redditor who has demonstrated some reliability.\n",
    "\n",
    "redditor = Redditor(label='redditor')\n",
    "beta = Beta(2, 1)\n",
    "for val, prob in beta.MakePmf().Items():\n",
    "    redditor.Set(val*100, prob)\n",
    "    \n",
    "thinkplot.Pdf(redditor)\n",
    "mean_r = redditor.Mean() / 100.0"
   ]
  },
  {
   "cell_type": "code",
   "execution_count": null,
   "metadata": {},
   "outputs": [],
   "source": [
    "# Solution\n",
    "    \n",
    "# And a completely unknown item.\n",
    "\n",
    "item = Item(range(0, 101), label='item')\n",
    "\n",
    "thinkplot.Pdf(item)\n",
    "mean_q = item.Mean() / 100.0"
   ]
  },
  {
   "cell_type": "code",
   "execution_count": null,
   "metadata": {},
   "outputs": [],
   "source": [
    "# Solution\n",
    "    \n",
    "# We update the priors simultaneously, each using the mean value of the other.\n",
    "\n",
    "# Note: this is a shortcut that should give us an approximate solution; later\n",
    "# we will come back and do this right with a joint distribution of q and r.\n",
    "\n",
    "redditor.Update(('up', mean_q))\n",
    "item.Update(('up', mean_r))"
   ]
  },
  {
   "cell_type": "code",
   "execution_count": null,
   "metadata": {},
   "outputs": [],
   "source": [
    "# Solution\n",
    "    \n",
    "# And here are the results.  Since we knew nothing about the item,\n",
    "# the vote provides no information about the redditor:\n",
    "\n",
    "thinkplot.Pdf(redditor)\n",
    "print(redditor.Mean(), redditor.CredibleInterval(90))"
   ]
  },
  {
   "cell_type": "code",
   "execution_count": null,
   "metadata": {},
   "outputs": [],
   "source": [
    "# Solution\n",
    "    \n",
    "# But since we think the redditor is reliable, the vote provides \n",
    "# some information about the item:\n",
    "\n",
    "thinkplot.Pdf(item)\n",
    "print(item.Mean(), item.CredibleInterval(90))"
   ]
  },
  {
   "cell_type": "code",
   "execution_count": null,
   "metadata": {},
   "outputs": [],
   "source": [
    "# Solution\n",
    "    \n",
    "# After the upvote, the mean quality of the item increases to about 61%.\n",
    "\n",
    "# The model I used to compute likelihoods is not the only choice.\n",
    "# As an alternative, I could have used something like \n",
    "# item response theory (https://en.wikipedia.org/wiki/Item_response_theory),\n",
    "# which we'll see in Chapter 12."
   ]
  }
 ],
 "metadata": {
  "kernelspec": {
   "display_name": "Python 3",
   "language": "python",
   "name": "python3"
  },
  "language_info": {
   "codemirror_mode": {
    "name": "ipython",
    "version": 3
   },
   "file_extension": ".py",
   "mimetype": "text/x-python",
   "name": "python",
   "nbconvert_exporter": "python",
   "pygments_lexer": "ipython3",
   "version": "3.8.2"
  }
 },
 "nbformat": 4,
 "nbformat_minor": 2
}
